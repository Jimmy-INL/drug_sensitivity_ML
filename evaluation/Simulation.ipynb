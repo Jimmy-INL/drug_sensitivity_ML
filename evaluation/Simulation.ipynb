{
 "cells": [
  {
   "cell_type": "code",
   "execution_count": 1,
   "metadata": {
    "collapsed": true
   },
   "outputs": [],
   "source": [
    "import pandas as pd\n",
    "from sklearn import model_selection, preprocessing\n",
    "from sklearn import tree, linear_model, svm, ensemble, metrics\n",
    "from matplotlib import pyplot as plt\n",
    "import xgboost as xgb\n",
    "import scipy\n",
    "import numpy as np\n",
    "\n",
    "import compare_y\n",
    "import cross_validation_result as cvr\n",
    "import ML_helper\n",
    "\n",
    "%matplotlib inline"
   ]
  },
  {
   "cell_type": "code",
   "execution_count": 2,
   "metadata": {
    "collapsed": false
   },
   "outputs": [],
   "source": [
    "# load PSL linear and random results\n",
    "TRUTH_linear = \"../psl/data/simulation/linear/seed0/cross_val_6fold/\"\n",
    "INFER_linear = \"../psl/result/simulation/linear/\"\n",
    "linear_df = cvr.cross_val_result(TRUTH_linear, INFER_linear)\n",
    "\n",
    "# load PSL random results\n",
    "TRUTH_random = \"../psl/data/simulation/random/seed0/cross_val_6fold/\"\n",
    "INFER_random = \"../psl/result/simulation/random/\"\n",
    "random_df = cvr.cross_val_result(TRUTH_random, INFER_random)\n"
   ]
  },
  {
   "cell_type": "code",
   "execution_count": 2,
   "metadata": {
    "collapsed": true
   },
   "outputs": [],
   "source": [
    "Classifiers = {\"Random Forest\": ensemble.RandomForestRegressor(),\n",
    "               \"SVM\": svm.SVR(kernel=\"rbf\"), \n",
    "               \"XGBoost\": xgb.XGBRegressor(n_estimators=200),\n",
    "               \"Linear\": linear_model.LinearRegression()}"
   ]
  },
  {
   "cell_type": "code",
   "execution_count": 16,
   "metadata": {
    "collapsed": false
   },
   "outputs": [
    {
     "name": "stdout",
     "output_type": "stream",
     "text": [
      "    XGBoost       SVM  Random Forest        Linear\n",
      "1  0.014183  0.005085       0.021812  5.508160e-32\n",
      "2  0.006126  0.002952       0.006740  1.321188e-31\n",
      "3  0.003362  0.002408       0.004676  4.314083e-32\n",
      "4  0.010796  0.007578       0.016240  1.961078e-31\n",
      "5  0.015273  0.001542       0.012223  8.705203e-32\n",
      "    XGBoost       SVM  Random Forest  Linear\n",
      "1  0.976471  0.997059       0.979412     1.0\n",
      "2  1.000000  0.997059       0.994118     1.0\n",
      "3  0.985294  1.000000       0.988235     1.0\n",
      "4  0.994118  0.994118       0.994118     1.0\n",
      "5  0.979412  1.000000       1.000000     1.0\n"
     ]
    }
   ],
   "source": [
    "X = np.random.rand(100,2)\n",
    "Y = X[:,0]*2 + X[:,1]\n",
    "\n",
    "# poly = preprocessing.PolynomialFeatures(2)\n",
    "# X = poly.fit_transform(X)\n",
    "\n",
    "mse, rho = ML_helper.run_cross_val(X, Y, Classifiers)\n",
    "\n",
    "print mse\n",
    "print rho"
   ]
  },
  {
   "cell_type": "code",
   "execution_count": 39,
   "metadata": {
    "collapsed": false
   },
   "outputs": [],
   "source": [
    "X1, linear_Y = ML_helper.load_data(\"../data/similuated_matrix_linear.tsv\")\n",
    "X2, random_Y = ML_helper.load_data(\"../data/similuated_matrix_random.tsv\")\n",
    "\n",
    "poly = preprocessing.PolynomialFeatures(2)\n",
    "X1 = poly.fit_transform(X1)\n",
    "X2 = poly.fit_transform(X2)\n",
    "\n",
    "\n"
   ]
  },
  {
   "cell_type": "code",
   "execution_count": 40,
   "metadata": {
    "collapsed": false
   },
   "outputs": [
    {
     "name": "stdout",
     "output_type": "stream",
     "text": [
      "XGBoost          3.116936e-03\n",
      "SVM              5.475932e-02\n",
      "Random Forest    8.035053e-03\n",
      "Linear           2.948723e-30\n",
      "dtype: float64\n",
      "XGBoost          0.984649\n",
      "SVM              0.579088\n",
      "Random Forest    0.947932\n",
      "Linear           1.000000\n",
      "dtype: float64\n",
      "XGBoost          0.103438\n",
      "SVM              0.091092\n",
      "Random Forest    0.107551\n",
      "Linear           0.128691\n",
      "dtype: float64\n",
      "XGBoost         -0.060978\n",
      "SVM             -0.026472\n",
      "Random Forest   -0.051910\n",
      "Linear          -0.078711\n",
      "dtype: float64\n"
     ]
    }
   ],
   "source": [
    "mse1, rho1 = ML_helper.run_cross_val(X1, linear_Y, Classifiers, n_fold=6)\n",
    "print mse1.mean()\n",
    "print rho1.mean()\n",
    "\n",
    "mse2, rho2 = ML_helper.run_cross_val(X2, random_Y, Classifiers, n_fold=6)\n",
    "print mse2.mean()\n",
    "print rho2.mean()\n"
   ]
  },
  {
   "cell_type": "code",
   "execution_count": null,
   "metadata": {
    "collapsed": true
   },
   "outputs": [],
   "source": []
  }
 ],
 "metadata": {
  "kernelspec": {
   "display_name": "Python 2",
   "language": "python",
   "name": "python2"
  },
  "language_info": {
   "codemirror_mode": {
    "name": "ipython",
    "version": 2
   },
   "file_extension": ".py",
   "mimetype": "text/x-python",
   "name": "python",
   "nbconvert_exporter": "python",
   "pygments_lexer": "ipython2",
   "version": "2.7.10"
  }
 },
 "nbformat": 4,
 "nbformat_minor": 1
}
