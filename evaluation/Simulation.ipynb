{
 "cells": [
  {
   "cell_type": "code",
   "execution_count": 58,
   "metadata": {
    "collapsed": true
   },
   "outputs": [],
   "source": [
    "import pandas as pd\n",
    "from sklearn import model_selection, preprocessing\n",
    "from sklearn import tree, linear_model, svm, ensemble, metrics\n",
    "from matplotlib import pyplot as plt\n",
    "import xgboost as xgb\n",
    "import scipy\n",
    "import numpy as np\n",
    "\n",
    "import compare_y\n",
    "import cross_validation_result as cvr\n",
    "\n",
    "%matplotlib inline"
   ]
  },
  {
   "cell_type": "code",
   "execution_count": 68,
   "metadata": {
    "collapsed": false
   },
   "outputs": [],
   "source": [
    "# load PSL linear and random results\n",
    "TRUTH_linear = \"../psl/data/simulation/linear/seed0/cross_val_6fold/\"\n",
    "INFER_linear = \"../psl/result/simulation/linear/\"\n",
    "linear_df = cvr.cross_val_result(TRUTH_linear, INFER_linear)\n",
    "\n",
    "# load PSL random results\n",
    "TRUTH_random = \"../psl/data/simulation/random/seed0/cross_val_6fold/\"\n",
    "INFER_random = \"../psl/result/simulation/random/\"\n",
    "random_df = cvr.cross_val_result(TRUTH_random, INFER_random)\n"
   ]
  },
  {
   "cell_type": "code",
   "execution_count": 62,
   "metadata": {
    "collapsed": false
   },
   "outputs": [
    {
     "name": "stdout",
     "output_type": "stream",
     "text": [
      "(100, 20)\n",
      "(100, 231)\n"
     ]
    }
   ],
   "source": [
    "# linear regression\n",
    "linear_data = \"../data/similuated_matrix_linear.tsv\"\n",
    "df = pd.read_csv(linear_data, sep=\"\\t\")\n",
    "label = df[\"sensitivity\"].copy()\n",
    "data = df.drop(\"sensitivity\", axis=1)\n",
    "data.set_index(data[\"cell-drug-pair\"], inplace=True)\n",
    "data.drop(\"cell-drug-pair\", axis=1, inplace=True)\n",
    "data.drop(\"cell\", axis=1, inplace=True)\n",
    "data.drop(\"drug\", axis=1, inplace=True)\n",
    "df.head(10)\n",
    "\n",
    "print data.shape\n",
    "poly = preprocessing.PolynomialFeatures(2)\n",
    "data = poly.fit_transform(data)\n",
    "print data.shape"
   ]
  },
  {
   "cell_type": "code",
   "execution_count": 69,
   "metadata": {
    "collapsed": true
   },
   "outputs": [],
   "source": [
    "Classifiers = {\"Random Forest\": ensemble.RandomForestRegressor(),\n",
    "               \"SVM\": svm.SVR(kernel=\"rbf\"), \n",
    "               \"XGBoost\": xgb.XGBRegressor(n_estimators=200),\n",
    "               \"Linear\": linear_model.LinearRegression()}"
   ]
  },
  {
   "cell_type": "code",
   "execution_count": 49,
   "metadata": {
    "collapsed": false
   },
   "outputs": [],
   "source": []
  },
  {
   "cell_type": "code",
   "execution_count": 66,
   "metadata": {
    "collapsed": false,
    "scrolled": false
   },
   "outputs": [
    {
     "name": "stdout",
     "output_type": "stream",
     "text": [
      "mse\n",
      "    XGBoost       SVM  Random Forest    Linear\n",
      "1  0.079634  0.095857       0.090917  0.042076\n",
      "2  0.021094  0.063589       0.062064  0.013896\n",
      "3  0.040548  0.085639       0.074531  0.022128\n",
      "4  0.024905  0.095518       0.081062  0.025433\n",
      "5  0.033939  0.061333       0.069652  0.014121\n",
      "spearman rank correlation\n",
      "    XGBoost       SVM  Random Forest    Linear\n",
      "1  0.421053 -0.007519       0.258647  0.640602\n",
      "2  0.854135  0.592481       0.700752  0.933835\n",
      "3  0.717293  0.333835       0.563910  0.851128\n",
      "4  0.795489  0.245113       0.410526  0.810526\n",
      "5  0.657143  0.380451       0.314286  0.806015\n"
     ]
    }
   ],
   "source": [
    "kf = model_selection.KFold(n_splits=5)\n",
    "mse_result_df = pd.DataFrame()\n",
    "spearman_result_df = pd.DataFrame()\n",
    "fold_num = 0\n",
    "for train, test in kf.split(df):\n",
    "    fold_num += 1\n",
    "    #tr, val = model_selection.train_test_split(train, test_size=0.2, random_state=1)\n",
    "    \n",
    "    x_train = data[train]\n",
    "    y_train = label[train]\n",
    "    #x_val = data[val]\n",
    "    #y_val = label[val]\n",
    "    x_test = data[test]\n",
    "    y_test = label[test]\n",
    "    \n",
    "    for classifier_name, clf in Classifiers.iteritems():\n",
    "        clf.fit(x_train, y_train)\n",
    "        prediction = clf.predict(x_test)\n",
    "        mse = metrics.mean_squared_error(prediction, y_test)\n",
    "        rho = scipy.stats.spearmanr(prediction, y_test)\n",
    "        mse_result_df.loc[fold_num, classifier_name] = mse\n",
    "        spearman_result_df.loc[fold_num, classifier_name] = rho[0]\n",
    "        \n",
    "print \"mse\\n\", mse_result_df\n",
    "print \"spearman rank correlation\\n\", spearman_result_df"
   ]
  },
  {
   "cell_type": "code",
   "execution_count": 51,
   "metadata": {
    "collapsed": false,
    "scrolled": true
   },
   "outputs": [
    {
     "name": "stdout",
     "output_type": "stream",
     "text": [
      "mse\n",
      "    XGBoost       SVM  Random Forest    Linear\n",
      "1  0.208863  0.111856       0.119047  0.135031\n",
      "2  0.154558  0.118065       0.153852  0.145151\n",
      "3  0.162442  0.106500       0.102447  0.129539\n",
      "4  0.138676  0.092803       0.075893  0.105072\n",
      "5  0.119793  0.082659       0.096901  0.097032\n",
      "spearman rank correlation\n",
      "    XGBoost       SVM  Random Forest    Linear\n",
      "1 -0.341176 -0.226471      -0.147059 -0.308824\n",
      "2 -0.170588 -0.258824      -0.329412 -0.411765\n",
      "3 -0.476471 -0.161765       0.105882  0.020588\n",
      "4  0.150000 -0.026471       0.485294  0.164706\n",
      "5 -0.061765  0.061765      -0.129412  0.029412\n"
     ]
    }
   ],
   "source": [
    "# linear regression\n",
    "random_data = \"../data/similuated_matrix_random.tsv\"\n",
    "df = pd.read_csv(random_data, sep=\"\\t\")\n",
    "label = df[\"sensitivity\"].copy()\n",
    "data = df.drop(\"sensitivity\", axis=1)\n",
    "data.set_index(data[\"cell-drug-pair\"], inplace=True)\n",
    "data.drop(\"cell-drug-pair\", axis=1, inplace=True)\n",
    "data.drop(\"cell\", axis=1, inplace=True)\n",
    "data.drop(\"drug\", axis=1, inplace=True)\n",
    "\n",
    "\n",
    "kf = model_selection.KFold(n_splits=5)\n",
    "mse_result_df = pd.DataFrame()\n",
    "spearman_result_df = pd.DataFrame()\n",
    "fold_num = 0\n",
    "for train, test in kf.split(df):\n",
    "    fold_num += 1\n",
    "    tr, val = model_selection.train_test_split(train, test_size=0.2, random_state=1)\n",
    "    \n",
    "    x_train = data.iloc[tr]\n",
    "    y_train = label.iloc[tr].as_matrix()\n",
    "    x_val = data.iloc[val]\n",
    "    y_val = label.iloc[val].as_matrix()\n",
    "    x_test = data.iloc[test]\n",
    "    y_test = label.iloc[test].as_matrix()\n",
    "        \n",
    "    for classifier_name, clf in Classifiers.iteritems():\n",
    "        clf.fit(x_train, y_train)\n",
    "        prediction = clf.predict(x_val)\n",
    "        mse = metrics.mean_squared_error(prediction, y_val)\n",
    "        rho = scipy.stats.spearmanr(prediction, y_val)\n",
    "        mse_result_df.loc[fold_num, classifier_name] = mse\n",
    "        spearman_result_df.loc[fold_num, classifier_name] = rho[0]\n",
    "        \n",
    "        \n",
    "print \"mse\\n\", mse_result_df\n",
    "print \"spearman rank correlation\\n\", spearman_result_df"
   ]
  },
  {
   "cell_type": "code",
   "execution_count": 45,
   "metadata": {
    "collapsed": false
   },
   "outputs": [],
   "source": []
  },
  {
   "cell_type": "code",
   "execution_count": 61,
   "metadata": {
    "collapsed": false
   },
   "outputs": [
    {
     "name": "stdout",
     "output_type": "stream",
     "text": [
      "(100, 2)\n",
      "(100, 6)\n",
      "mse\n",
      "    XGBoost       SVM  Random Forest        Linear\n",
      "1  0.006420  0.003567       0.013353  1.571559e-31\n",
      "2  0.003815  0.003380       0.008046  1.448299e-31\n",
      "3  0.002539  0.003503       0.009953  6.162976e-32\n",
      "4  0.002134  0.003650       0.012415  1.910523e-31\n",
      "5  0.002409  0.004288       0.018506  8.628166e-32\n",
      "spearman rank correlation\n",
      "    XGBoost       SVM  Random Forest  Linear\n",
      "1  0.976471  0.997059       0.970588     1.0\n",
      "2  0.967647  0.994118       0.982353     1.0\n",
      "3  0.976471  0.988235       0.947059     1.0\n",
      "4  0.991176  0.994118       0.985294     1.0\n",
      "5  0.994118  0.994118       0.967647     1.0\n"
     ]
    }
   ],
   "source": [
    "X = np.random.rand(100,2)\n",
    "Y = X[:,0]**2 + X[:,1]**2 + 1\n",
    "\n",
    "print X.shape\n",
    "poly = preprocessing.PolynomialFeatures(2)\n",
    "X = poly.fit_transform(X)\n",
    "print X.shape\n",
    "\n",
    "kf = model_selection.KFold(n_splits=5)\n",
    "\n",
    "mse_result_df = pd.DataFrame()\n",
    "spearman_result_df = pd.DataFrame()\n",
    "fold_num = 0\n",
    "for train, test in kf.split(Y):\n",
    "    fold_num += 1\n",
    "    tr, val = model_selection.train_test_split(train, test_size=0.2, random_state=1)\n",
    "    \n",
    "    x_train = X[tr]\n",
    "    y_train = Y[tr]\n",
    "    x_val = X[val]\n",
    "    y_val = Y[val]\n",
    "    x_test = X[test]\n",
    "    y_test = Y[test]\n",
    "        \n",
    "    for classifier_name, clf in Classifiers.iteritems():\n",
    "        clf.fit(x_train, y_train)\n",
    "        prediction = clf.predict(x_val)\n",
    "        mse = metrics.mean_squared_error(prediction, y_val)\n",
    "        rho = scipy.stats.spearmanr(prediction, y_val)\n",
    "        mse_result_df.loc[fold_num, classifier_name] = mse\n",
    "        spearman_result_df.loc[fold_num, classifier_name] = rho[0]\n",
    "        \n",
    "        \n",
    "print \"mse\\n\", mse_result_df\n",
    "print \"spearman rank correlation\\n\", spearman_result_df"
   ]
  },
  {
   "cell_type": "code",
   "execution_count": null,
   "metadata": {
    "collapsed": true
   },
   "outputs": [],
   "source": []
  }
 ],
 "metadata": {
  "kernelspec": {
   "display_name": "Python 2",
   "language": "python",
   "name": "python2"
  },
  "language_info": {
   "codemirror_mode": {
    "name": "ipython",
    "version": 2
   },
   "file_extension": ".py",
   "mimetype": "text/x-python",
   "name": "python",
   "nbconvert_exporter": "python",
   "pygments_lexer": "ipython2",
   "version": "2.7.10"
  }
 },
 "nbformat": 4,
 "nbformat_minor": 1
}
