{
 "cells": [
  {
   "cell_type": "code",
   "execution_count": 44,
   "metadata": {
    "collapsed": true
   },
   "outputs": [],
   "source": [
    "import pandas as pd\n",
    "from sklearn import model_selection, preprocessing\n",
    "from sklearn import tree, linear_model, svm, ensemble, metrics\n",
    "import matplotlib\n",
    "from matplotlib import pyplot as plt\n",
    "import xgboost as xgb\n",
    "import scipy\n",
    "import numpy as np\n",
    "\n",
    "import compare_y\n",
    "import cross_validation_result as cvr\n",
    "import ML_helper\n",
    "\n",
    "%matplotlib inline"
   ]
  },
  {
   "cell_type": "code",
   "execution_count": 101,
   "metadata": {
    "collapsed": false
   },
   "outputs": [
    {
     "ename": "SyntaxError",
     "evalue": "non-keyword arg after keyword arg (<ipython-input-101-12c08390266a>, line 12)",
     "output_type": "error",
     "traceback": [
      "\u001b[0;36m  File \u001b[0;32m\"<ipython-input-101-12c08390266a>\"\u001b[0;36m, line \u001b[0;32m12\u001b[0m\n\u001b[0;31m    f, ax = plt.subplots(2, 1, figsize=(6,9), tight)\u001b[0m\n\u001b[0;31mSyntaxError\u001b[0m\u001b[0;31m:\u001b[0m non-keyword arg after keyword arg\n"
     ]
    }
   ],
   "source": [
    "# PSL simulation with prior rule\n",
    "\n",
    "TRUTH_linear = \"../psl/data/simulation/linear/seed0/cross_val_6fold/\"\n",
    "INFER_linear = \"../psl/result/simulation/linear/with_prior/\"\n",
    "mse_linear, rho_linear = cvr.cross_val_result(TRUTH_linear, INFER_linear)\n",
    "TRUTH_random = \"../psl/data/simulation/random/seed0/cross_val_6fold/\"\n",
    "INFER_random = \"../psl/result/simulation/random/with_prior/\"\n",
    "mse_random, rho_random = cvr.cross_val_result(TRUTH_random, INFER_random)\n",
    "mse_df = pd.DataFrame({\"linear\": mse_linear, \"random\": mse_random})\n",
    "rho_df = pd.DataFrame({\"linear\": rho_linear, \"random\": rho_random})\n",
    "\n",
    "f, ax = plt.subplots(2, 1, figsize=(6,9), tight)\n",
    "mse_df.mean().plot.bar(ax=ax[0], yerr=mse_df.std(), sharex=True, fontsize=15)\n",
    "rho_df.mean().plot.bar(ax=ax[1], yerr=rho_df.std(), ylim=(-0.1, 1.1), fontsize=15, rot=0)\n",
    "ax[0].set_title(\"PSL simulation result\", fontsize=15)\n",
    "ax[0].set_ylabel(\"Mean Squared Error\", fontsize=15)\n",
    "ax[1].set_ylabel(\"Spearman Rank Coefficient\", fontsize=15)"
   ]
  },
  {
   "cell_type": "code",
   "execution_count": 93,
   "metadata": {
    "collapsed": false
   },
   "outputs": [
    {
     "name": "stdout",
     "output_type": "stream",
     "text": [
      "        val_mse  val_rho\n",
      "0  7.991461e-16      1.0\n",
      "1  7.652288e-16      1.0\n",
      "2  7.386355e-16      1.0\n",
      "3  7.540871e-16      1.0\n",
      "4  7.713779e-16      1.0\n",
      "5  7.562180e-16      1.0\n",
      "    val_mse   val_rho\n",
      "0  0.165645 -0.015764\n",
      "1  0.174145 -0.011020\n",
      "2  0.162675 -0.011584\n",
      "3  0.134763  0.169772\n",
      "4  0.150627  0.081709\n",
      "5  0.166939 -0.024205\n"
     ]
    }
   ],
   "source": [
    "# what if there is no prior in PSL rules?\n",
    "\n",
    "TRUTH_linear = \"../psl/data/simulation/linear/seed0/cross_val_6fold/\"\n",
    "INFER_linear = \"../psl/result/simulation/linear/no_prior/\"\n",
    "linear_df = cvr.cross_val_result(TRUTH_linear, INFER_linear)\n",
    "\n",
    "TRUTH_random = \"../psl/data/simulation/random/seed0/cross_val_6fold/\"\n",
    "INFER_random = \"../psl/result/simulation/random/no_prior/\"\n",
    "random_df = cvr.cross_val_result(TRUTH_random, INFER_random)\n",
    "\n",
    "print linear_df\n",
    "print random_df"
   ]
  },
  {
   "cell_type": "code",
   "execution_count": 5,
   "metadata": {
    "collapsed": false
   },
   "outputs": [],
   "source": [
    "Classifiers = {\"XGBoost\": xgb.XGBRegressor(n_estimators=200),\n",
    "               \"Linear\": linear_model.LinearRegression()}"
   ]
  },
  {
   "cell_type": "code",
   "execution_count": 6,
   "metadata": {
    "collapsed": false
   },
   "outputs": [
    {
     "name": "stdout",
     "output_type": "stream",
     "text": [
      "    XGBoost        Linear\n",
      "1  0.002574  2.493724e-30\n",
      "2  0.002926  1.736232e-30\n",
      "3  0.002594  2.057049e-30\n",
      "4  0.002786  2.466419e-30\n",
      "5  0.003105  2.276499e-30\n",
      "6  0.002397  3.224397e-30\n",
      "    XGBoost  Linear\n",
      "1  0.987402     1.0\n",
      "2  0.989021     1.0\n",
      "3  0.989299     1.0\n",
      "4  0.987138     1.0\n",
      "5  0.986233     1.0\n",
      "6  0.990248     1.0\n",
      "\n",
      " random\n",
      "    XGBoost    Linear\n",
      "1  0.086973  0.089826\n",
      "2  0.089992  0.108167\n",
      "3  0.104357  0.113125\n",
      "4  0.095079  0.105462\n",
      "5  0.091249  0.121354\n",
      "6  0.091450  0.111977\n",
      "    XGBoost    Linear\n",
      "1  0.064874  0.148875\n",
      "2  0.204649  0.115848\n",
      "3 -0.105929  0.008610\n",
      "4 -0.109604 -0.010253\n",
      "5  0.022705 -0.067232\n",
      "6  0.103770  0.010276\n"
     ]
    }
   ],
   "source": [
    "# run linear regression on simulated data\n",
    "\n",
    "X1, linear_Y = ML_helper.load_data(\"../data/similuated_matrix_linear.tsv\")\n",
    "X2, random_Y = ML_helper.load_data(\"../data/similuated_matrix_random.tsv\")\n",
    "\n",
    "poly = preprocessing.PolynomialFeatures(2)\n",
    "X1 = poly.fit_transform(X1)\n",
    "X2 = poly.fit_transform(X2)\n",
    "\n",
    "mse1, rho1 = ML_helper.run_cross_val(X1, linear_Y, Classifiers, n_fold=6)\n",
    "\n",
    "print \"linear\"\n",
    "print mse1\n",
    "print rho1\n",
    "\n",
    "mse2, rho2 = ML_helper.run_cross_val(X2, random_Y, Classifiers, n_fold=6)\n",
    "\n",
    "print \"\\n random\"\n",
    "print mse2\n",
    "print rho2"
   ]
  },
  {
   "cell_type": "code",
   "execution_count": 8,
   "metadata": {
    "collapsed": false
   },
   "outputs": [
    {
     "ename": "NameError",
     "evalue": "name 'linear_df' is not defined",
     "output_type": "error",
     "traceback": [
      "\u001b[0;31m---------------------------------------------------------------------------\u001b[0m",
      "\u001b[0;31mNameError\u001b[0m                                 Traceback (most recent call last)",
      "\u001b[0;32m<ipython-input-8-c95125897ec3>\u001b[0m in \u001b[0;36m<module>\u001b[0;34m()\u001b[0m\n\u001b[1;32m      1\u001b[0m \u001b[0mmean1\u001b[0m \u001b[0;34m=\u001b[0m \u001b[0mmse1\u001b[0m\u001b[0;34m.\u001b[0m\u001b[0mmean\u001b[0m\u001b[0;34m(\u001b[0m\u001b[0;34m)\u001b[0m\u001b[0;34m\u001b[0m\u001b[0m\n\u001b[0;32m----> 2\u001b[0;31m \u001b[0mmean1\u001b[0m\u001b[0;34m[\u001b[0m\u001b[0;34m\"PSL\"\u001b[0m\u001b[0;34m]\u001b[0m \u001b[0;34m=\u001b[0m \u001b[0mlinear_df\u001b[0m\u001b[0;34m[\u001b[0m\u001b[0;34m\"val_mse\"\u001b[0m\u001b[0;34m]\u001b[0m\u001b[0;34m.\u001b[0m\u001b[0mmean\u001b[0m\u001b[0;34m(\u001b[0m\u001b[0;34m)\u001b[0m\u001b[0;34m\u001b[0m\u001b[0m\n\u001b[0m\u001b[1;32m      3\u001b[0m \u001b[0;32mprint\u001b[0m \u001b[0mmean1\u001b[0m\u001b[0;34m\u001b[0m\u001b[0m\n\u001b[1;32m      4\u001b[0m \u001b[0;34m\u001b[0m\u001b[0m\n\u001b[1;32m      5\u001b[0m \u001b[0mplt\u001b[0m\u001b[0;34m.\u001b[0m\u001b[0mfigure\u001b[0m\u001b[0;34m(\u001b[0m\u001b[0;36m1\u001b[0m\u001b[0;34m)\u001b[0m\u001b[0;34m\u001b[0m\u001b[0m\n",
      "\u001b[0;31mNameError\u001b[0m: name 'linear_df' is not defined"
     ]
    }
   ],
   "source": [
    "mean1 = mse1.mean()\n",
    "mean1[\"PSL\"] = linear_df[\"val_mse\"].mean()\n",
    "print mean1\n",
    "\n",
    "plt.figure(1)\n",
    "plt.title(\"linear data mean squared error\")\n",
    "mean1.plot(kind=\"bar\", yerr=mse1.std())\n",
    "plt.xticks(rotation='vertical')\n",
    "\n",
    "\n",
    "plt.figure(2)\n",
    "plt.title(\"random data mean squared error\")\n",
    "mean2 = mse2.mean()\n",
    "mean2[\"PSL\"] = random_df[\"val_mse\"].mean()\n",
    "\n",
    "mean2.plot(kind=\"bar\", yerr=mse2.std())"
   ]
  },
  {
   "cell_type": "code",
   "execution_count": null,
   "metadata": {
    "collapsed": true
   },
   "outputs": [],
   "source": [
    "mse_means = []\n",
    "mse_stds = []\n",
    "rho_means = []\n",
    "rho_stds = []\n",
    "for df in [psl_df, psl_df_minmax, psl_df_minmax_cuberoot]:\n",
    "    mse_means.append(float(df[\"val_mse\"].mean()))\n",
    "    mse_stds.append(float(df['val_mse'].std()))\n",
    "    rho_means.append(float(df[\"val_rho\"].mean()))\n",
    "    rho_stds.append(float(df['val_rho'].std()))\n",
    "\n",
    "N = 3\n",
    "ind = np.arange(N)  # the x locations for the groups\n",
    "width = 0.35       # the width of the bars\n",
    "\n",
    "fig, ax = plt.subplots()\n",
    "rects1 = ax.bar(ind, mse_means, width, color='r', yerr=mse_stds)\n",
    "rects2 = ax.bar(ind + width, rho_means, width, color='y', yerr=rho_stds)\n",
    "\n",
    "# add some text for labels, title and axes ticks\n",
    "ax.set_ylabel('')\n",
    "ax.set_title('Comparing different raw data scaling')\n",
    "ax.set_xticks(ind + width)\n",
    "ax.set_xticklabels(('Rank', 'MinMax', 'MinMax cube root'))\n",
    "\n",
    "ax.legend((rects1[0], rects2[0]), ('MSE', 'Spearman'), loc=\"best\")"
   ]
  },
  {
   "cell_type": "code",
   "execution_count": 9,
   "metadata": {
    "collapsed": false
   },
   "outputs": [
    {
     "name": "stdout",
     "output_type": "stream",
     "text": [
      "          a         b         c         d\n",
      "0  0.966900  0.404769  0.776627  0.417240\n",
      "1  0.307263  0.556697  0.251976  0.789361\n",
      "2  0.734285  0.208212  0.639192  0.090652\n",
      "3  0.018942  0.085118  0.891525  0.052128\n",
      "4  0.514739  0.853549  0.531067  0.738839\n",
      "5  0.541823  0.840637  0.745839  0.512608\n",
      "6  0.634437  0.751397  0.121550  0.692197\n",
      "7  0.271856  0.225804  0.569925  0.128546\n",
      "8  0.075240  0.162360  0.957881  0.990864\n",
      "9  0.767346  0.049485  0.496643  0.281450\n"
     ]
    },
    {
     "data": {
      "image/png": "[encoded data removed]",
      "text/plain": [
       "<matplotlib.figure.Figure at 0x114b16e50>"
      ]
     },
     "metadata": {},
     "output_type": "display_data"
    }
   ],
   "source": []
  },
  {
   "cell_type": "code",
   "execution_count": null,
   "metadata": {
    "collapsed": true
   },
   "outputs": [],
   "source": []
  }
 ],
 "metadata": {
  "kernelspec": {
   "display_name": "Python 2",
   "language": "python",
   "name": "python2"
  },
  "language_info": {
   "codemirror_mode": {
    "name": "ipython",
    "version": 2
   },
   "file_extension": ".py",
   "mimetype": "text/x-python",
   "name": "python",
   "nbconvert_exporter": "python",
   "pygments_lexer": "ipython2",
   "version": "2.7.10"
  }
 },
 "nbformat": 4,
 "nbformat_minor": 1
}
