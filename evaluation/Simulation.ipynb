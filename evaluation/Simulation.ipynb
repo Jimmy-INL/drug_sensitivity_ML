{
 "cells": [
  {
   "cell_type": "code",
   "execution_count": 1,
   "metadata": {
    "collapsed": true
   },
   "outputs": [],
   "source": [
    "import pandas as pd\n",
    "from sklearn import model_selection, preprocessing\n",
    "from sklearn import tree, linear_model, svm, ensemble, metrics\n",
    "from matplotlib import pyplot as plt\n",
    "import xgboost as xgb\n",
    "import scipy\n",
    "import numpy as np\n",
    "\n",
    "import compare_y\n",
    "import cross_validation_result as cvr\n",
    "import ML_helper\n",
    "\n",
    "%matplotlib inline"
   ]
  },
  {
   "cell_type": "code",
   "execution_count": 71,
   "metadata": {
    "collapsed": false
   },
   "outputs": [
    {
     "name": "stdout",
     "output_type": "stream",
     "text": [
      "    val_mse  val_rho\n",
      "0  0.073991      1.0\n",
      "1  0.079113      1.0\n",
      "2  0.071850      1.0\n",
      "3  0.081870      1.0\n",
      "4  0.075727      1.0\n",
      "5  0.083476      1.0\n",
      "    val_mse   val_rho\n",
      "0  0.158518 -0.015764\n",
      "1  0.166438 -0.011020\n",
      "2  0.158295 -0.011584\n",
      "3  0.168026  0.169772\n",
      "4  0.162445  0.081709\n",
      "5  0.178968 -0.024205\n"
     ]
    }
   ],
   "source": [
    "# load PSL linear and random results with prior rule\n",
    "TRUTH_linear = \"../psl/data/simulation/linear/seed0/cross_val_6fold/\"\n",
    "INFER_linear = \"../psl/result/simulation/linear/with_prior/\"\n",
    "linear_df = cvr.cross_val_result(TRUTH_linear, INFER_linear)\n",
    "\n",
    "# load PSL random results\n",
    "TRUTH_random = \"../psl/data/simulation/random/seed0/cross_val_6fold/\"\n",
    "INFER_random = \"../psl/result/simulation/random/with_prior/\"\n",
    "random_df = cvr.cross_val_result(TRUTH_random, INFER_random)\n",
    "\n",
    "print linear_df\n",
    "print random_df"
   ]
  },
  {
   "cell_type": "code",
   "execution_count": 57,
   "metadata": {
    "collapsed": false
   },
   "outputs": [
    {
     "data": {
      "text/plain": [
       "<matplotlib.legend.Legend at 0x10d243510>"
      ]
     },
     "execution_count": 57,
     "metadata": {},
     "output_type": "execute_result"
    },
    {
     "data": {
      "image/png": "[encoded data removed]",
      "text/plain": [
       "<matplotlib.figure.Figure at 0x10d818390>"
      ]
     },
     "metadata": {},
     "output_type": "display_data"
    },
    {
     "data": {
      "image/png": "[encoded data removed]",
      "text/plain": [
       "<matplotlib.figure.Figure at 0x10d243090>"
      ]
     },
     "metadata": {},
     "output_type": "display_data"
    }
   ],
   "source": [
    "# plot input histogram and output histogram\n",
    "plt.figure(1)\n",
    "df1_in = compare_y.load_data(file_name=\"../psl/data/simulation/linear/sensitive_truth.txt\")\n",
    "df1_in.y.hist()\n",
    "df1_out = compare_y.load_data(file_name=\"../psl/result/simulation/linear/fold1_result.txt\")\n",
    "df1_out.y.hist()\n",
    "plt.legend([\"input\", \"output\"], loc=\"best\")\n",
    "\n",
    "\n",
    "plt.figure(2)\n",
    "df2_in = compare_y.load_data(file_name=\"../psl/data/simulation/random/sensitive_truth.txt\")\n",
    "df2_in.y.hist()\n",
    "df2_out = compare_y.load_data(file_name=\"../psl/result/simulation/random/fold1_result.txt\")\n",
    "df2_out.y.hist()\n",
    "plt.legend([\"input\", \"output\"], loc=\"best\")"
   ]
  },
  {
   "cell_type": "code",
   "execution_count": 72,
   "metadata": {
    "collapsed": false
   },
   "outputs": [
    {
     "name": "stdout",
     "output_type": "stream",
     "text": [
      "        val_mse  val_rho\n",
      "0  7.991461e-16      1.0\n",
      "1  7.652288e-16      1.0\n",
      "2  7.386355e-16      1.0\n",
      "3  7.540871e-16      1.0\n",
      "4  7.713779e-16      1.0\n",
      "5  7.562180e-16      1.0\n",
      "    val_mse   val_rho\n",
      "0  0.165645 -0.015764\n",
      "1  0.174145 -0.011020\n",
      "2  0.162675 -0.011584\n",
      "3  0.134763  0.169772\n",
      "4  0.150627  0.081709\n",
      "5  0.166939 -0.024205\n"
     ]
    }
   ],
   "source": [
    "# what if there is no prior in PSL rules?\n",
    "\n",
    "TRUTH_linear = \"../psl/data/simulation/linear/seed0/cross_val_6fold/\"\n",
    "INFER_linear = \"../psl/result/simulation/linear/no_prior/\"\n",
    "linear_df = cvr.cross_val_result(TRUTH_linear, INFER_linear)\n",
    "\n",
    "TRUTH_random = \"../psl/data/simulation/random/seed0/cross_val_6fold/\"\n",
    "INFER_random = \"../psl/result/simulation/random/no_prior/\"\n",
    "random_df = cvr.cross_val_result(TRUTH_random, INFER_random)\n",
    "\n",
    "print linear_df\n",
    "print random_df"
   ]
  },
  {
   "cell_type": "code",
   "execution_count": 2,
   "metadata": {
    "collapsed": true
   },
   "outputs": [],
   "source": [
    "Classifiers = {\"Random Forest\": ensemble.RandomForestRegressor(),\n",
    "               \"SVM\": svm.SVR(kernel=\"rbf\"), \n",
    "               \"XGBoost\": xgb.XGBRegressor(n_estimators=200),\n",
    "               \"Linear\": linear_model.LinearRegression()}"
   ]
  },
  {
   "cell_type": "code",
   "execution_count": 63,
   "metadata": {
    "collapsed": false,
    "scrolled": true
   },
   "outputs": [
    {
     "name": "stdout",
     "output_type": "stream",
     "text": [
      "    XGBoost       SVM  Random Forest        Linear\n",
      "1  0.008049  0.001425       0.017776  2.234079e-31\n",
      "2  0.015357  0.003615       0.017460  5.103714e-32\n",
      "3  0.004557  0.004605       0.007184  3.846082e-31\n",
      "4  0.008939  0.004236       0.014117  1.020743e-32\n",
      "5  0.006848  0.004287       0.012953  5.700753e-32\n",
      "    XGBoost       SVM  Random Forest  Linear\n",
      "1  0.982353  0.991176       0.944118     1.0\n",
      "2  0.964706  1.000000       0.973456     1.0\n",
      "3  0.982353  0.979412       0.973529     1.0\n",
      "4  0.982353  1.000000       0.976471     1.0\n",
      "5  0.985294  0.997059       0.976471     1.0\n"
     ]
    }
   ],
   "source": [
    "X = np.random.rand(100,2)\n",
    "Y = X[:,0]*2 + X[:,1]\n",
    "\n",
    "# poly = preprocessing.PolynomialFeatures(2)\n",
    "# X = poly.fit_transform(X)\n",
    "\n",
    "mse, rho = ML_helper.run_cross_val(X, Y, Classifiers)\n",
    "\n",
    "print mse\n",
    "print rho"
   ]
  },
  {
   "cell_type": "code",
   "execution_count": 70,
   "metadata": {
    "collapsed": false
   },
   "outputs": [
    {
     "name": "stdout",
     "output_type": "stream",
     "text": [
      "linear\n",
      "    XGBoost       SVM  Random Forest        Linear\n",
      "1  0.002574  0.064940       0.008540  2.493724e-30\n",
      "2  0.002926  0.067794       0.010742  1.736232e-30\n",
      "3  0.002594  0.055988       0.007820  2.057049e-30\n",
      "4  0.002786  0.059313       0.005927  2.466419e-30\n",
      "5  0.003105  0.057759       0.011025  2.276499e-30\n",
      "6  0.002397  0.063065       0.005705  3.224397e-30\n",
      "    XGBoost       SVM  Random Forest  Linear\n",
      "1  0.987402  0.551249       0.956138     1.0\n",
      "2  0.989021  0.479779       0.950568     1.0\n",
      "3  0.989299  0.560370       0.944905     1.0\n",
      "4  0.987138  0.606901       0.960861     1.0\n",
      "5  0.986233  0.577159       0.932521     1.0\n",
      "6  0.990248  0.581655       0.965559     1.0\n",
      "\n",
      " random\n",
      "    XGBoost       SVM  Random Forest    Linear\n",
      "1  0.086973  0.077487       0.090752  0.089826\n",
      "2  0.089992  0.090276       0.100122  0.108167\n",
      "3  0.104357  0.087211       0.090545  0.113125\n",
      "4  0.095079  0.078028       0.090014  0.105462\n",
      "5  0.091249  0.086187       0.095522  0.121354\n",
      "6  0.091450  0.089958       0.103189  0.111977\n",
      "    XGBoost       SVM  Random Forest    Linear\n",
      "1  0.064874  0.165230       0.068110  0.148875\n",
      "2  0.204649  0.078488       0.049393  0.115848\n",
      "3 -0.105929  0.027995       0.144091  0.008610\n",
      "4 -0.109604  0.033872      -0.033362 -0.010253\n",
      "5  0.022705  0.046162      -0.011497 -0.067232\n",
      "6  0.103770 -0.048278       0.011311  0.010276\n"
     ]
    }
   ],
   "source": [
    "# run linear regression on simulated data\n",
    "\n",
    "X1, linear_Y = ML_helper.load_data(\"../data/similuated_matrix_linear.tsv\")\n",
    "X2, random_Y = ML_helper.load_data(\"../data/similuated_matrix_random.tsv\")\n",
    "\n",
    "poly = preprocessing.PolynomialFeatures(2)\n",
    "X1 = poly.fit_transform(X1)\n",
    "X2 = poly.fit_transform(X2)\n",
    "\n",
    "mse1, rho1 = ML_helper.run_cross_val(X1, linear_Y, Classifiers, n_fold=6)\n",
    "\n",
    "print \"linear\"\n",
    "print mse1\n",
    "print rho1\n",
    "\n",
    "mse2, rho2 = ML_helper.run_cross_val(X2, random_Y, Classifiers, n_fold=6)\n",
    "\n",
    "print \"\\n random\"\n",
    "print mse2\n",
    "print rho2"
   ]
  },
  {
   "cell_type": "code",
   "execution_count": null,
   "metadata": {
    "collapsed": true
   },
   "outputs": [],
   "source": []
  }
 ],
 "metadata": {
  "kernelspec": {
   "display_name": "Python 2",
   "language": "python",
   "name": "python2"
  },
  "language_info": {
   "codemirror_mode": {
    "name": "ipython",
    "version": 2
   },
   "file_extension": ".py",
   "mimetype": "text/x-python",
   "name": "python",
   "nbconvert_exporter": "python",
   "pygments_lexer": "ipython2",
   "version": "2.7.10"
  }
 },
 "nbformat": 4,
 "nbformat_minor": 1
}
