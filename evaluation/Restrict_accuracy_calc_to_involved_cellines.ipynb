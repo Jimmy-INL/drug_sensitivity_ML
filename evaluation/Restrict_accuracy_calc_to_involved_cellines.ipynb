{
 "cells": [
  {
   "cell_type": "code",
   "execution_count": 4,
   "metadata": {
    "collapsed": false
   },
   "outputs": [],
   "source": [
    "# Restric calcuation of psl accuracy to only those cell lines/Gene pair that has information\n",
    "# contribution to the final output\n",
    "\n",
    "### Only active\n",
    "# predict everything\n",
    "# predict with data\n",
    "\n",
    "### Only essential\n",
    "# predict everything\n",
    "# predict with data\n",
    "\n",
    "### both rules\n",
    "# predict everything\n",
    "# predict with at least one type of data\n",
    "# predict with both types of data"
   ]
  },
  {
   "cell_type": "code",
   "execution_count": 7,
   "metadata": {
    "collapsed": false
   },
   "outputs": [],
   "source": [
    "import pandas as pd\n",
    "import numpy as np\n",
    "from matplotlib import pyplot as plt\n",
    "\n",
    "import compare_y\n",
    "\n",
    "%matplotlib inline\n"
   ]
  },
  {
   "cell_type": "code",
   "execution_count": 13,
   "metadata": {
    "collapsed": true
   },
   "outputs": [],
   "source": [
    "infer_file = \"../psl/result/first_model_cross_val_fold{0}_result{1}.txt\"\n",
    "train_file = \"../psl/data/first_model/seed0/cross_val/5fold/fold{0}_train.txt\"\n",
    "test_file = \"../psl/data/first_model/seed0/cross_val/5fold/fold{0}_val.txt\""
   ]
  },
  {
   "cell_type": "code",
   "execution_count": 40,
   "metadata": {
    "collapsed": false
   },
   "outputs": [],
   "source": [
    "# Define some helper functions \n",
    "def get_gene_drug_dict():\n",
    "    drug_target_file = \"../psl/data/first_model/drug_target.txt\"\n",
    "    drug_target_df = pd.read_csv(drug_target_file, delimiter=\"\\t\", header=None)\n",
    "    drug_target_dict = {}\n",
    "    for index, row in drug_target_df.iterrows():\n",
    "        if row[1] in drug_target_dict.keys():\n",
    "            drug_target_dict[row[1]].append(row[0])\n",
    "        else:\n",
    "            drug_target_dict[row[1]] = [row[0]]\n",
    "    return drug_target_dict\n",
    "\n",
    "\n",
    "def get_active_cell_drug_set(gene_drug_dict):\n",
    "    active_df = pd.read_csv(\"../psl/data/first_model/active.txt\", delimiter=\"\\t\", header=None)\n",
    "    active_cell_drug_pairs = []\n",
    "    for index, row in active_df.iterrows():\n",
    "        if row[1] in gene_drug_dict.keys():\n",
    "            for drug in gene_drug_dict[row[1]]:\n",
    "                active_cell_drug_pairs.append(row[0] + drug)\n",
    "    return set(active_cell_drug_pairs)\n",
    "\n",
    "\n",
    "def get_essential_cell_drug_set(gene_drug_dict):\n",
    "    essential_df = pd.read_csv(\"../psl/data/first_model/essential.txt\", delimiter=\"\\t\", header=None)\n",
    "    cell_drug_pairs = []\n",
    "    for index, row in essential_df.iterrows():\n",
    "        if row[1] in gene_drug_dict.keys():\n",
    "            for drug in gene_drug_dict[row[1]]:\n",
    "                cell_drug_pairs.append(row[0] + drug)\n",
    "    return set(cell_drug_pairs)\n",
    "    \n",
    "def get_sensitive_cell_drug_set():\n",
    "    sensitive_df = pd.read_csv(\"../psl/data/first_model/sensitive_truth.txt\", delimiter=\"\\t\", header=None)\n",
    "    cell_drug_pairs = []\n",
    "    for index, row in sensitive_df.iterrows():\n",
    "        cell_drug_pairs.append(row[0] + row[1])\n",
    "    return set(cell_drug_pairs)\n",
    "\n",
    "gene_drug_dict = get_gene_drug_dict()\n",
    "active_set = get_active_cell_drug_set(gene_drug_dict)\n",
    "essential_set = get_essential_cell_drug_set(gene_drug_dict)"
   ]
  },
  {
   "cell_type": "code",
   "execution_count": 47,
   "metadata": {
    "collapsed": true
   },
   "outputs": [],
   "source": [
    "# helper function to get overlap between a set and a df\n",
    "def get_df_overlap(df, cell_drug_set):\n",
    "    new_rows = []\n",
    "    for index, row in df.iterrows():\n",
    "        if row.cell_drug_pair in cell_drug_set:\n",
    "            new_rows.append(dict(row))\n",
    "    return pd.DataFrame(new_rows)"
   ]
  },
  {
   "cell_type": "code",
   "execution_count": 51,
   "metadata": {
    "collapsed": false
   },
   "outputs": [
    {
     "name": "stdout",
     "output_type": "stream",
     "text": [
      "   test_all_data  test_known_active  train_all_data  train_known_active\n",
      "0       0.084362           0.078129        0.083778            0.077950\n",
      "1       0.083556           0.079141        0.083995            0.077713\n",
      "2       0.086090           0.077252        0.083358            0.078181\n",
      "3       0.083175           0.078342        0.084101            0.077924\n",
      "4       0.082342           0.077115        0.084274            0.078194\n"
     ]
    }
   ],
   "source": [
    "# Only active rule\n",
    "rows = []\n",
    "for fold in range(1, 6):\n",
    "    infer_df = compare_y.load_data(infer_file.format(fold, \"_activeRule\"))\n",
    "    tr_df = compare_y.load_data(train_file.format(fold))\n",
    "    val_df = compare_y.load_data(test_file.format(fold))\n",
    "    tr_mse, _, _ = compare_y.calculate_accuracy(tr_df, infer_df)\n",
    "    val_mse, _, _ = compare_y.calculate_accuracy(val_df, infer_df)\n",
    "    \n",
    "    tr_df_has_data = get_df_overlap(tr_df, active_set)\n",
    "    val_df_has_data = get_df_overlap(val_df, active_set)\n",
    "    tr_mse_has_data, _, _ = compare_y.calculate_accuracy(tr_df_has_data, infer_df)\n",
    "    val_mse_has_data, _, _ = compare_y.calculate_accuracy(val_df_has_data, infer_df)\n",
    "    \n",
    "    rows.append({\"train_all_data\": tr_mse, \"test_all_data\": val_mse, \n",
    "                 \"train_known_active\": tr_mse_has_data, \"test_known_active\": val_mse_has_data})\n",
    "df = pd.DataFrame(rows)\n",
    "print df"
   ]
  },
  {
   "cell_type": "code",
   "execution_count": 53,
   "metadata": {
    "collapsed": false,
    "scrolled": true
   },
   "outputs": [
    {
     "name": "stdout",
     "output_type": "stream",
     "text": [
      "   test_all_data  test_known_essential  train_all_data  train_known_essential\n",
      "0       0.295679              0.126622        0.292916               0.123591\n",
      "1       0.303576              0.134389        0.290933               0.121748\n",
      "2       0.291130              0.117132        0.294033               0.125809\n",
      "3       0.298901              0.123846        0.292077               0.124133\n",
      "4       0.278051              0.119317        0.297381               0.125726\n"
     ]
    }
   ],
   "source": [
    "# Only essential rule\n",
    "rows = []\n",
    "for fold in range(1, 6):\n",
    "    infer_df = compare_y.load_data(infer_file.format(fold, \"_essentialRule\"))\n",
    "    tr_df = compare_y.load_data(train_file.format(fold))\n",
    "    val_df = compare_y.load_data(test_file.format(fold))\n",
    "    tr_mse, _, _ = compare_y.calculate_accuracy(tr_df, infer_df)\n",
    "    val_mse, _, _ = compare_y.calculate_accuracy(val_df, infer_df)\n",
    "    \n",
    "    tr_df_has_data = get_df_overlap(tr_df, essential_set)\n",
    "    val_df_has_data = get_df_overlap(val_df, essential_set)\n",
    "    \n",
    "    tr_mse_has_data, _, _ = compare_y.calculate_accuracy(tr_df_has_data, infer_df)\n",
    "    val_mse_has_data, _, _ = compare_y.calculate_accuracy(val_df_has_data, infer_df)\n",
    "    \n",
    "    rows.append({\"train_all_data\": tr_mse, \"test_all_data\": val_mse, \n",
    "                 \"train_known_essential\": tr_mse_has_data, \"test_known_essential\": val_mse_has_data})\n",
    "df = pd.DataFrame(rows)\n",
    "print df"
   ]
  },
  {
   "cell_type": "code",
   "execution_count": 58,
   "metadata": {
    "collapsed": false
   },
   "outputs": [
    {
     "name": "stdout",
     "output_type": "stream",
     "text": [
      "   test_all  test_both_data  test_has_>=1_type_of_data  train_all  \\\n",
      "0  0.090805        0.103963                   0.084923   0.090158   \n",
      "1  0.091951        0.107690                   0.087659   0.089893   \n",
      "2  0.091658        0.093095                   0.082895   0.089947   \n",
      "3  0.088727        0.099766                   0.084892   0.090700   \n",
      "4  0.088351        0.100232                   0.083458   0.090779   \n",
      "\n",
      "   train_both_data  train_has_>=1_type_of_data  \n",
      "0         0.100168                    0.084713  \n",
      "1         0.099321                    0.084052  \n",
      "2         0.102757                    0.085222  \n",
      "3         0.101147                    0.084744  \n",
      "4         0.101219                    0.085087  \n"
     ]
    }
   ],
   "source": [
    "# both rules\n",
    "rows = []\n",
    "for fold in range(1, 6):\n",
    "    infer_df = compare_y.load_data(infer_file.format(fold, \"\"))\n",
    "    tr_df = compare_y.load_data(train_file.format(fold))\n",
    "    val_df = compare_y.load_data(test_file.format(fold))\n",
    "    tr_mse, _, _ = compare_y.calculate_accuracy(tr_df, infer_df)\n",
    "    val_mse, _, _ = compare_y.calculate_accuracy(val_df, infer_df)\n",
    "    \n",
    "    tr_df_has_data = get_df_overlap(tr_df, essential_set.union(active_set))\n",
    "    val_df_has_data = get_df_overlap(val_df, essential_set.union(active_set))\n",
    "    \n",
    "    tr_mse_has_data, _, _ = compare_y.calculate_accuracy(tr_df_has_data, infer_df)\n",
    "    val_mse_has_data, _, _ = compare_y.calculate_accuracy(val_df_has_data, infer_df) \n",
    "\n",
    "    tr_df_both_data = get_df_overlap(tr_df, essential_set.intersection(active_set))\n",
    "    val_df_both_data = get_df_overlap(val_df, essential_set.intersection(active_set))\n",
    "    \n",
    "    \n",
    "    tr_mse_both_data, _, _ = compare_y.calculate_accuracy(tr_df_both_data, infer_df)\n",
    "    val_mse_both_data, _, _ = compare_y.calculate_accuracy(val_df_both_data, infer_df)\n",
    "\n",
    "    \n",
    "    rows.append({\"train_all\": tr_mse, \"test_all\": val_mse, \n",
    "                 \"train_has_>=1_type_of_data\": tr_mse_has_data, \"test_has_>=1_type_of_data\": val_mse_has_data, \n",
    "                 \"train_both_data\": tr_mse_both_data, \"test_both_data\": val_mse_both_data})\n",
    "\n",
    "    df = pd.DataFrame(rows)\n",
    "print df"
   ]
  },
  {
   "cell_type": "code",
   "execution_count": null,
   "metadata": {
    "collapsed": true
   },
   "outputs": [],
   "source": []
  }
 ],
 "metadata": {
  "kernelspec": {
   "display_name": "Python 2",
   "language": "python",
   "name": "python2"
  },
  "language_info": {
   "codemirror_mode": {
    "name": "ipython",
    "version": 2
   },
   "file_extension": ".py",
   "mimetype": "text/x-python",
   "name": "python",
   "nbconvert_exporter": "python",
   "pygments_lexer": "ipython2",
   "version": "2.7.10"
  }
 },
 "nbformat": 4,
 "nbformat_minor": 1
}
