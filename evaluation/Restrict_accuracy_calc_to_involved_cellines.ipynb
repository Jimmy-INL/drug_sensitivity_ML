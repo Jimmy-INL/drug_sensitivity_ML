{
 "cells": [
  {
   "cell_type": "code",
   "execution_count": 59,
   "metadata": {
    "collapsed": false
   },
   "outputs": [],
   "source": [
    "# Restric calcuation of psl accuracy to only those cell lines/Gene pair that has information\n",
    "# contribution to the final output\n",
    "\n",
    "### Only active\n",
    "# predict everything\n",
    "# predict with data\n",
    "\n",
    "### Only essential\n",
    "# predict everything\n",
    "# predict with data\n",
    "\n",
    "### both rules\n",
    "# predict everything\n",
    "# predict with at least one type of data\n",
    "# predict with both types of data"
   ]
  },
  {
   "cell_type": "code",
   "execution_count": 60,
   "metadata": {
    "collapsed": false
   },
   "outputs": [],
   "source": [
    "import pandas as pd\n",
    "import numpy as np\n",
    "from matplotlib import pyplot as plt\n",
    "\n",
    "import compare_y\n",
    "\n",
    "%matplotlib inline\n"
   ]
  },
  {
   "cell_type": "code",
   "execution_count": 63,
   "metadata": {
    "collapsed": true
   },
   "outputs": [],
   "source": [
    "infer_file = \"../psl/result/first_model_cross_val_fold{0}_result{1}.txt\"\n",
    "train_file = \"../psl/data/first_model/seed0/cross_val/5fold/fold{0}_train.txt\"\n",
    "test_file = \"../psl/data/first_model/seed0/cross_val/5fold/fold{0}_val.txt\""
   ]
  },
  {
   "cell_type": "code",
   "execution_count": 65,
   "metadata": {
    "collapsed": false
   },
   "outputs": [],
   "source": [
    "# Define some helper functions \n",
    "def get_gene_drug_dict():\n",
    "    drug_target_file = \"../psl/data/first_model/drug_target.txt\"\n",
    "    drug_target_df = pd.read_csv(drug_target_file, delimiter=\"\\t\", header=None)\n",
    "    drug_target_dict = {}\n",
    "    for index, row in drug_target_df.iterrows():\n",
    "        if row[1] in drug_target_dict.keys():\n",
    "            drug_target_dict[row[1]].append(row[0])\n",
    "        else:\n",
    "            drug_target_dict[row[1]] = [row[0]]\n",
    "    return drug_target_dict\n",
    "\n",
    "\n",
    "def get_active_cell_drug_set(gene_drug_dict):\n",
    "    active_df = pd.read_csv(\"../psl/data/first_model/active.txt\", delimiter=\"\\t\", header=None)\n",
    "    active_cell_drug_pairs = []\n",
    "    for index, row in active_df.iterrows():\n",
    "        if row[1] in gene_drug_dict.keys():\n",
    "            for drug in gene_drug_dict[row[1]]:\n",
    "                active_cell_drug_pairs.append(row[0] + drug)\n",
    "    return set(active_cell_drug_pairs)\n",
    "\n",
    "\n",
    "def get_essential_cell_drug_set(gene_drug_dict):\n",
    "    essential_df = pd.read_csv(\"../psl/data/first_model/essential.txt\", delimiter=\"\\t\", header=None)\n",
    "    cell_drug_pairs = []\n",
    "    for index, row in essential_df.iterrows():\n",
    "        if row[1] in gene_drug_dict.keys():\n",
    "            for drug in gene_drug_dict[row[1]]:\n",
    "                cell_drug_pairs.append(row[0] + drug)\n",
    "    return set(cell_drug_pairs)\n",
    "    \n",
    "def get_sensitive_cell_drug_set():\n",
    "    sensitive_df = pd.read_csv(\"../psl/data/first_model/sensitive_truth.txt\", delimiter=\"\\t\", header=None)\n",
    "    cell_drug_pairs = []\n",
    "    for index, row in sensitive_df.iterrows():\n",
    "        cell_drug_pairs.append(row[0] + row[1])\n",
    "    return set(cell_drug_pairs)\n",
    "\n",
    "gene_drug_dict = get_gene_drug_dict()\n",
    "active_set = get_active_cell_drug_set(gene_drug_dict)\n",
    "essential_set = get_essential_cell_drug_set(gene_drug_dict)"
   ]
  },
  {
   "cell_type": "code",
   "execution_count": 66,
   "metadata": {
    "collapsed": true
   },
   "outputs": [],
   "source": [
    "# helper function to get overlap between a set and a df\n",
    "def get_df_overlap(df, cell_drug_set):\n",
    "    new_rows = []\n",
    "    for index, row in df.iterrows():\n",
    "        if row.cell_drug_pair in cell_drug_set:\n",
    "            new_rows.append(dict(row))\n",
    "    return pd.DataFrame(new_rows)"
   ]
  },
  {
   "cell_type": "code",
   "execution_count": 51,
   "metadata": {
    "collapsed": false,
    "scrolled": true
   },
   "outputs": [
    {
     "name": "stdout",
     "output_type": "stream",
     "text": [
      "   test_all_data  test_known_active  train_all_data  train_known_active\n",
      "0       0.084362           0.078129        0.083778            0.077950\n",
      "1       0.083556           0.079141        0.083995            0.077713\n",
      "2       0.086090           0.077252        0.083358            0.078181\n",
      "3       0.083175           0.078342        0.084101            0.077924\n",
      "4       0.082342           0.077115        0.084274            0.078194\n"
     ]
    }
   ],
   "source": [
    "# Only active rule\n",
    "rows = []\n",
    "for fold in range(1, 6):\n",
    "    infer_df = compare_y.load_data(infer_file.format(fold, \"_activeRule\"))\n",
    "    tr_df = compare_y.load_data(train_file.format(fold))\n",
    "    val_df = compare_y.load_data(test_file.format(fold))\n",
    "    tr_mse, _, _ = compare_y.calculate_accuracy(tr_df, infer_df)\n",
    "    val_mse, _, _ = compare_y.calculate_accuracy(val_df, infer_df)\n",
    "    \n",
    "    tr_df_has_data = get_df_overlap(tr_df, active_set)\n",
    "    val_df_has_data = get_df_overlap(val_df, active_set)\n",
    "    tr_mse_has_data, _, _ = compare_y.calculate_accuracy(tr_df_has_data, infer_df)\n",
    "    val_mse_has_data, _, _ = compare_y.calculate_accuracy(val_df_has_data, infer_df)\n",
    "    \n",
    "    rows.append({\"train_all_data\": tr_mse, \"test_all_data\": val_mse, \n",
    "                 \"train_known_active\": tr_mse_has_data, \"test_known_active\": val_mse_has_data})\n",
    "df = pd.DataFrame(rows)\n",
    "print df"
   ]
  },
  {
   "cell_type": "code",
   "execution_count": 74,
   "metadata": {
    "collapsed": false,
    "scrolled": true
   },
   "outputs": [
    {
     "name": "stdout",
     "output_type": "stream",
     "text": [
      "   test_all_data  test_known_essential  train_all_data  train_known_essential\n",
      "0       0.299009              0.142034        0.295346               0.134927\n",
      "1       0.302881              0.131006        0.294355               0.137521\n",
      "2       0.293684              0.129386        0.296664               0.137975\n",
      "3       0.301773              0.136626        0.294628               0.136155\n",
      "4       0.283043              0.142160        0.299395               0.135150\n"
     ]
    }
   ],
   "source": [
    "# Only essential rule\n",
    "rows = []\n",
    "for fold in range(1, 6):\n",
    "    infer_df = compare_y.load_data(infer_file.format(fold, \"_essentialRule\"))\n",
    "    tr_df = compare_y.load_data(train_file.format(fold))\n",
    "    val_df = compare_y.load_data(test_file.format(fold))\n",
    "    tr_mse, _, _ = compare_y.calculate_accuracy(tr_df, infer_df)\n",
    "    val_mse, _, _ = compare_y.calculate_accuracy(val_df, infer_df)\n",
    "    \n",
    "    tr_df_has_data = get_df_overlap(tr_df, essential_set)\n",
    "    val_df_has_data = get_df_overlap(val_df, essential_set)\n",
    "    \n",
    "    tr_mse_has_data, _, _ = compare_y.calculate_accuracy(tr_df_has_data, infer_df)\n",
    "    val_mse_has_data, _, _ = compare_y.calculate_accuracy(val_df_has_data, infer_df)\n",
    "    \n",
    "    rows.append({\"train_all_data\": tr_mse, \"test_all_data\": val_mse, \n",
    "                 \"train_known_essential\": tr_mse_has_data, \"test_known_essential\": val_mse_has_data})\n",
    "df = pd.DataFrame(rows)\n",
    "print df\n",
    "\n",
    "\n"
   ]
  },
  {
   "cell_type": "code",
   "execution_count": 72,
   "metadata": {
    "collapsed": false
   },
   "outputs": [
    {
     "name": "stdout",
     "output_type": "stream",
     "text": [
      "   test_all  test_both_data  test_has_>=1_type_of_data  train_all  \\\n",
      "0  0.092353        0.116192                   0.086508   0.091160   \n",
      "1  0.091067        0.109228                   0.086752   0.091473   \n",
      "2  0.092600        0.101496                   0.083864   0.091092   \n",
      "3  0.089826        0.109075                   0.086015   0.091787   \n",
      "4  0.091162        0.114441                   0.086347   0.091480   \n",
      "\n",
      "   train_both_data  train_has_>=1_type_of_data  \n",
      "0         0.108638                    0.085741  \n",
      "1         0.110317                    0.085672  \n",
      "2         0.112213                    0.086395  \n",
      "3         0.110377                    0.085861  \n",
      "4         0.109206                    0.085806  \n"
     ]
    }
   ],
   "source": [
    "# both rules\n",
    "rows = []\n",
    "for fold in range(1, 6):\n",
    "    infer_df = compare_y.load_data(infer_file.format(fold, \"\"))\n",
    "    tr_df = compare_y.load_data(train_file.format(fold))\n",
    "    val_df = compare_y.load_data(test_file.format(fold))\n",
    "    tr_mse, _, _ = compare_y.calculate_accuracy(tr_df, infer_df)\n",
    "    val_mse, _, _ = compare_y.calculate_accuracy(val_df, infer_df)\n",
    "    \n",
    "    tr_df_has_data = get_df_overlap(tr_df, essential_set.union(active_set))\n",
    "    val_df_has_data = get_df_overlap(val_df, essential_set.union(active_set))\n",
    "    \n",
    "    tr_mse_has_data, _, _ = compare_y.calculate_accuracy(tr_df_has_data, infer_df)\n",
    "    val_mse_has_data, _, _ = compare_y.calculate_accuracy(val_df_has_data, infer_df) \n",
    "\n",
    "    tr_df_both_data = get_df_overlap(tr_df, essential_set.intersection(active_set))\n",
    "    val_df_both_data = get_df_overlap(val_df, essential_set.intersection(active_set))\n",
    "    \n",
    "    \n",
    "    tr_mse_both_data, _, _ = compare_y.calculate_accuracy(tr_df_both_data, infer_df)\n",
    "    val_mse_both_data, _, _ = compare_y.calculate_accuracy(val_df_both_data, infer_df)\n",
    "\n",
    "    \n",
    "    rows.append({\"train_all\": tr_mse, \"test_all\": val_mse, \n",
    "                 \"train_has_>=1_type_of_data\": tr_mse_has_data, \"test_has_>=1_type_of_data\": val_mse_has_data, \n",
    "                 \"train_both_data\": tr_mse_both_data, \"test_both_data\": val_mse_both_data})\n",
    "\n",
    "    df = pd.DataFrame(rows)\n",
    "print df"
   ]
  },
  {
   "cell_type": "code",
   "execution_count": 70,
   "metadata": {
    "collapsed": false
   },
   "outputs": [
    {
     "name": "stdout",
     "output_type": "stream",
     "text": [
      "only active rules\n",
      "   test_all_data  test_known_active  train_all_data  train_known_active\n",
      "0       0.083975           0.077732        0.083574            0.077740\n",
      "1       0.083097           0.078669        0.083789            0.077502\n",
      "2       0.085832           0.076986        0.083107            0.077923\n",
      "3       0.082694           0.077849        0.083887            0.077704\n",
      "4       0.082677           0.077461        0.083902            0.077811\n",
      "only essential rules\n",
      "   test_all_data  test_known_essential  train_all_data  train_known_essential\n",
      "0       0.299009              0.142034        0.295346               0.134927\n",
      "1       0.302881              0.131006        0.294355               0.137521\n",
      "2       0.293684              0.129386        0.296664               0.137975\n",
      "3       0.301773              0.136626        0.294628               0.136155\n",
      "4       0.283043              0.142160        0.299395               0.135150\n",
      "both rules\n",
      "   test_all  test_both_data  test_has_>=1_type_of_data  train_all  \\\n",
      "0  0.092353        0.116192                   0.086508   0.091160   \n",
      "1  0.091067        0.109228                   0.086752   0.091473   \n",
      "2  0.092600        0.101496                   0.083864   0.091092   \n",
      "3  0.089826        0.109075                   0.086015   0.091787   \n",
      "4  0.091162        0.114441                   0.086347   0.091480   \n",
      "\n",
      "   train_both_data  train_has_>=1_type_of_data  \n",
      "0         0.108638                    0.085741  \n",
      "1         0.110317                    0.085672  \n",
      "2         0.112213                    0.086395  \n",
      "3         0.110377                    0.085861  \n",
      "4         0.109206                    0.085806  \n"
     ]
    }
   ],
   "source": [
    "####### repeat the above analysis, except for now with the ~essential model (second model)\n",
    "\n",
    "infer_file = \"../psl/result/second_model/cross_val_fold{0}_result{1}.txt\"\n",
    "train_file = \"../psl/data/first_model/seed0/cross_val/5fold/fold{0}_train.txt\"\n",
    "test_file = \"../psl/data/first_model/seed0/cross_val/5fold/fold{0}_val.txt\"\n",
    "\n",
    "print \"only active rules\"\n",
    "rows = []\n",
    "for fold in range(1, 6):\n",
    "    infer_df = compare_y.load_data(infer_file.format(fold, \"_activeRule\"))\n",
    "    tr_df = compare_y.load_data(train_file.format(fold))\n",
    "    val_df = compare_y.load_data(test_file.format(fold))\n",
    "    tr_mse, _, _ = compare_y.calculate_accuracy(tr_df, infer_df)\n",
    "    val_mse, _, _ = compare_y.calculate_accuracy(val_df, infer_df)\n",
    "    \n",
    "    tr_df_has_data = get_df_overlap(tr_df, active_set)\n",
    "    val_df_has_data = get_df_overlap(val_df, active_set)\n",
    "    tr_mse_has_data, _, _ = compare_y.calculate_accuracy(tr_df_has_data, infer_df)\n",
    "    val_mse_has_data, _, _ = compare_y.calculate_accuracy(val_df_has_data, infer_df)\n",
    "    \n",
    "    rows.append({\"train_all_data\": tr_mse, \"test_all_data\": val_mse, \n",
    "                 \"train_known_active\": tr_mse_has_data, \"test_known_active\": val_mse_has_data})\n",
    "df = pd.DataFrame(rows)\n",
    "print df\n",
    "\n",
    "\n",
    "print \"only essential rules\"\n",
    "rows = []\n",
    "for fold in range(1, 6):\n",
    "    infer_df = compare_y.load_data(infer_file.format(fold, \"_essentialRule\"))\n",
    "    tr_df = compare_y.load_data(train_file.format(fold))\n",
    "    val_df = compare_y.load_data(test_file.format(fold))\n",
    "    tr_mse, _, _ = compare_y.calculate_accuracy(tr_df, infer_df)\n",
    "    val_mse, _, _ = compare_y.calculate_accuracy(val_df, infer_df)\n",
    "    \n",
    "    tr_df_has_data = get_df_overlap(tr_df, essential_set)\n",
    "    val_df_has_data = get_df_overlap(val_df, essential_set)\n",
    "    \n",
    "    tr_mse_has_data, _, _ = compare_y.calculate_accuracy(tr_df_has_data, infer_df)\n",
    "    val_mse_has_data, _, _ = compare_y.calculate_accuracy(val_df_has_data, infer_df)\n",
    "    \n",
    "    rows.append({\"train_all_data\": tr_mse, \"test_all_data\": val_mse, \n",
    "                 \"train_known_essential\": tr_mse_has_data, \"test_known_essential\": val_mse_has_data})\n",
    "df = pd.DataFrame(rows)\n",
    "print df\n",
    "\n",
    "\n",
    "print \"both rules\"\n",
    "rows = []\n",
    "for fold in range(1, 6):\n",
    "    infer_df = compare_y.load_data(infer_file.format(fold, \"\"))\n",
    "    tr_df = compare_y.load_data(train_file.format(fold))\n",
    "    val_df = compare_y.load_data(test_file.format(fold))\n",
    "    tr_mse, _, _ = compare_y.calculate_accuracy(tr_df, infer_df)\n",
    "    val_mse, _, _ = compare_y.calculate_accuracy(val_df, infer_df)\n",
    "    \n",
    "    tr_df_has_data = get_df_overlap(tr_df, essential_set.union(active_set))\n",
    "    val_df_has_data = get_df_overlap(val_df, essential_set.union(active_set))\n",
    "    \n",
    "    tr_mse_has_data, _, _ = compare_y.calculate_accuracy(tr_df_has_data, infer_df)\n",
    "    val_mse_has_data, _, _ = compare_y.calculate_accuracy(val_df_has_data, infer_df) \n",
    "\n",
    "    tr_df_both_data = get_df_overlap(tr_df, essential_set.intersection(active_set))\n",
    "    val_df_both_data = get_df_overlap(val_df, essential_set.intersection(active_set))\n",
    "    \n",
    "    \n",
    "    tr_mse_both_data, _, _ = compare_y.calculate_accuracy(tr_df_both_data, infer_df)\n",
    "    val_mse_both_data, _, _ = compare_y.calculate_accuracy(val_df_both_data, infer_df)\n",
    "\n",
    "    \n",
    "    rows.append({\"train_all\": tr_mse, \"test_all\": val_mse, \n",
    "                 \"train_has_>=1_type_of_data\": tr_mse_has_data, \"test_has_>=1_type_of_data\": val_mse_has_data, \n",
    "                 \"train_both_data\": tr_mse_both_data, \"test_both_data\": val_mse_both_data})\n",
    "\n",
    "    df = pd.DataFrame(rows)\n",
    "print df\n",
    "\n"
   ]
  },
  {
   "cell_type": "code",
   "execution_count": null,
   "metadata": {
    "collapsed": true
   },
   "outputs": [],
   "source": []
  }
 ],
 "metadata": {
  "kernelspec": {
   "display_name": "Python 2",
   "language": "python",
   "name": "python2"
  },
  "language_info": {
   "codemirror_mode": {
    "name": "ipython",
    "version": 2
   },
   "file_extension": ".py",
   "mimetype": "text/x-python",
   "name": "python",
   "nbconvert_exporter": "python",
   "pygments_lexer": "ipython2",
   "version": "2.7.10"
  }
 },
 "nbformat": 4,
 "nbformat_minor": 1
}
