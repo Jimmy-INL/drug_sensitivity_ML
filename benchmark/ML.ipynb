{
 "cells": [
  {
   "cell_type": "code",
   "execution_count": 3,
   "metadata": {
    "collapsed": false
   },
   "outputs": [],
   "source": [
    "import pandas as pd\n",
    "from sklearn import model_selection\n",
    "from sklearn import tree, linear_model, svm, ensemble, metrics\n",
    "from matplotlib import pyplot as plt\n",
    "import xgboost as xgb\n",
    "import scipy\n",
    "\n",
    "%matplotlib inline"
   ]
  },
  {
   "cell_type": "code",
   "execution_count": 4,
   "metadata": {
    "collapsed": false
   },
   "outputs": [],
   "source": [
    "DATA_FILE = \"data_table_percentile.tsv\"\n",
    "df = pd.read_csv(DATA_FILE, sep=\"\\t\")\n",
    "label = df[\"sensitivity_label\"].copy()\n",
    "data = df.drop(\"sensitivity_label\", axis=1)\n",
    "data.set_index(data.cell_drug_pair, inplace=True)\n",
    "data.drop(\"cell_drug_pair\", axis=1, inplace=True)\n",
    "data.drop(\"cell\", axis=1, inplace=True)\n",
    "data.drop(\"drug\", axis=1, inplace=True)"
   ]
  },
  {
   "cell_type": "code",
   "execution_count": 5,
   "metadata": {
    "collapsed": true
   },
   "outputs": [],
   "source": [
    "Classifiers = {\"Random Forest\": ensemble.RandomForestRegressor(),\n",
    "               \"SVM\": svm.SVR(kernel=\"rbf\"), \n",
    "               \"XGBoost\": xgb.XGBRegressor(n_estimators=200)}"
   ]
  },
  {
   "cell_type": "code",
   "execution_count": 15,
   "metadata": {
    "collapsed": false,
    "scrolled": false
   },
   "outputs": [
    {
     "name": "stdout",
     "output_type": "stream",
     "text": [
      "mse\n",
      "    XGBoost       SVM  Random Forest\n",
      "1  0.027341  0.031554       0.026970\n",
      "2  0.023985  0.029186       0.026460\n",
      "3  0.023904  0.027453       0.027901\n",
      "4  0.023427  0.027944       0.027975\n",
      "5  0.021677  0.025362       0.024902\n",
      "spearman rank correlation\n",
      "    XGBoost       SVM  Random Forest\n",
      "1  0.808575  0.775283       0.810511\n",
      "2  0.826428  0.794050       0.805742\n",
      "3  0.833093  0.807914       0.786561\n",
      "4  0.829955  0.797730       0.784472\n",
      "5  0.838753  0.814002       0.810315\n"
     ]
    }
   ],
   "source": [
    "kf = model_selection.KFold(n_splits=5)\n",
    "mse_result_df = pd.DataFrame()\n",
    "spearman_result_df = pd.DataFrame()\n",
    "fold_num = 0\n",
    "for train, test in kf.split(df):\n",
    "    fold_num += 1\n",
    "    tr, val = model_selection.train_test_split(train, test_size=0.2, random_state=0)\n",
    "    \n",
    "    x_train = data.iloc[tr]\n",
    "    y_train = label.iloc[tr].as_matrix()\n",
    "    x_val = data.iloc[val]\n",
    "    y_val = label.iloc[val].as_matrix()\n",
    "    x_test = data.iloc[test]\n",
    "    y_test = label.iloc[test].as_matrix()\n",
    "        \n",
    "    for classifier_name, clf in Classifiers.iteritems():\n",
    "        clf.fit(x_train, y_train)\n",
    "        prediction = clf.predict(x_val)\n",
    "        mse = metrics.mean_squared_error(prediction, y_val)\n",
    "        rho = scipy.stats.spearmanr(prediction, y_val)\n",
    "        mse_result_df.loc[fold_num, classifier_name] = mse\n",
    "        spearman_result_df.loc[fold_num, classifier_name] = rho[0]\n",
    "        \n",
    "        \n",
    "print \"mse\\n\", mse_result_df\n",
    "print \"spearman rank correlation\\n\", spearman_result_df\n"
   ]
  },
  {
   "cell_type": "code",
   "execution_count": 52,
   "metadata": {
    "collapsed": false,
    "scrolled": true
   },
   "outputs": [
    {
     "data": {
      "image/png": "[encoded data removed]",
      "text/plain": [
       "<matplotlib.figure.Figure at 0x115e1ad90>"
      ]
     },
     "metadata": {},
     "output_type": "display_data"
    }
   ],
   "source": [
    "psl_mean = 0.109\n",
    "psl_std = 0.007\n",
    "means = result_df.mean()\n",
    "means[\"PSL\"] = psl_mean\n",
    "stds = result_df.std()\n",
    "stds[\"PSL\"] = psl_std\n",
    "            \n",
    "ax = means.plot.bar(yerr=stds, alpha=0.7, rot=0)\n",
    "ax.set_ylabel(\"Mean Squared Error\")\n",
    "for rect in ax.patches:\n",
    "    height = rect.get_height()\n",
    "    height_label = \"%.3f\" % height\n",
    "    ax.text(rect.get_x() + rect.get_width()/2 + 0.05, height + 0.003, height_label)\n",
    "ax.set_title(\"other ML algorithm benchmark\")\n",
    "plt.savefig(\"../plots/ benchmark.png\", ppi=200)"
   ]
  },
  {
   "cell_type": "code",
   "execution_count": 19,
   "metadata": {
    "collapsed": false
   },
   "outputs": [
    {
     "data": {
      "image/png": "[encoded data removed]",
      "text/plain": [
       "<matplotlib.figure.Figure at 0x11482c0d0>"
      ]
     },
     "metadata": {},
     "output_type": "display_data"
    }
   ],
   "source": [
    "psl_mean = 0.378\n",
    "psl_std = 0.030\n",
    "means = spearman_result_df.mean()\n",
    "means[\"PSL\"] = psl_mean\n",
    "stds = spearman_result_df.std()\n",
    "stds[\"PSL\"] = psl_std\n",
    "            \n",
    "ax = means.plot.bar(yerr=stds, alpha=0.7, rot=0)\n",
    "ax.set_ylabel(\"Spearman Rank Correlation\")\n",
    "for rect in ax.patches:\n",
    "    height = rect.get_height()\n",
    "    height_label = \"%.3f\" % height\n",
    "    ax.text(rect.get_x() + rect.get_width()/2 + 0.05, height + 0.005, height_label)\n",
    "ax.set_title(\"ML algorithms benchmark\")\n",
    "plt.savefig(\"../plots/benchmark_spearman.png\", ppi=200)"
   ]
  },
  {
   "cell_type": "code",
   "execution_count": null,
   "metadata": {
    "collapsed": true
   },
   "outputs": [],
   "source": []
  }
 ],
 "metadata": {
  "kernelspec": {
   "display_name": "Python 2",
   "language": "python",
   "name": "python2"
  },
  "language_info": {
   "codemirror_mode": {
    "name": "ipython",
    "version": 2
   },
   "file_extension": ".py",
   "mimetype": "text/x-python",
   "name": "python",
   "nbconvert_exporter": "python",
   "pygments_lexer": "ipython2",
   "version": "2.7.10"
  }
 },
 "nbformat": 4,
 "nbformat_minor": 1
}
