{
 "cells": [
  {
   "cell_type": "code",
   "execution_count": 2,
   "metadata": {
    "collapsed": true
   },
   "outputs": [],
   "source": [
    "import pandas as pd\n",
    "import numpy as np"
   ]
  },
  {
   "cell_type": "code",
   "execution_count": 38,
   "metadata": {
    "collapsed": true
   },
   "outputs": [],
   "source": [
    "# load data\n",
    "LABEL_DATA = \"data/drug_data/CCLE_NP24.2009_Drug_data_2015.02.24.csv\"\n",
    "BINARY_MUTATION_DATA = \"data/binary/CCLE_binary_mutation.gct\"\n",
    "drug_df = pd.read_csv(LABEL_DATA)\n",
    "mutation_df = pd.read_csv(DRUG_DATA, sep=\"\\t\")"
   ]
  },
  {
   "cell_type": "code",
   "execution_count": 43,
   "metadata": {
    "collapsed": false
   },
   "outputs": [
    {
     "name": "stdout",
     "output_type": "stream",
     "text": [
      "                      CCLE Cell Line Name  Erlotinib  Panobinostat  ZD-6474  \\\n",
      "0           1321N1_CENTRAL_NERVOUS_SYSTEM    0.24960        3.8685   1.0238   \n",
      "1                          22RV1_PROSTATE    0.24500        5.0999   0.4765   \n",
      "2           42MGBA_CENTRAL_NERVOUS_SYSTEM    0.87480        4.3045   2.8994   \n",
      "3                      5637_URINARY_TRACT    1.92000        3.6088   0.8562   \n",
      "4                      639V_URINARY_TRACT    0.29190        4.0279   1.7839   \n",
      "5  697_HAEMATOPOIETIC_AND_LYMPHOID_TISSUE    1.64410        5.9830   2.0536   \n",
      "6                             769P_KIDNEY    1.88630        3.5201   1.2662   \n",
      "7                             786O_KIDNEY    0.08267        3.1090      NaN   \n",
      "8                           8305C_THYROID    0.45670        4.7205   1.4867   \n",
      "9                           8505C_THYROID    0.07583        4.2886   0.2085   \n",
      "\n",
      "   AZD6244  L-685458  Sorafenib  17-AAG  Irinotecan  Topotecan     ...      \\\n",
      "0   0.1247   0.21070     0.2672  3.0302         NaN     3.9955     ...       \n",
      "1   2.8096   0.08479     0.8047  3.0622      4.3890     3.8462     ...       \n",
      "2   1.3092   1.14480     1.1898  5.0587         NaN     5.2619     ...       \n",
      "3   0.5872   0.16570     0.7932  3.5350      3.3621     3.4983     ...       \n",
      "4   1.1495   0.37910     0.4203  3.7820      4.5677     4.4574     ...       \n",
      "5   2.5412   3.63960     1.8187  3.6605      5.5188     5.3689     ...       \n",
      "6   0.6281   0.06305     0.1058  2.9596      1.8827     3.1708     ...       \n",
      "7   0.3118   0.00000     0.5520  3.3045      3.0887     3.3734     ...       \n",
      "8   2.4031   0.53980     0.6724  3.5220      2.8908     4.0707     ...       \n",
      "9   1.5453   0.40800     0.4669  3.6759      3.8186     3.8954     ...       \n",
      "\n",
      "   Paclitaxel    LBW242  PD-0332991  PLX4720  PD-0325901  PHA-665752  RAF265  \\\n",
      "0      5.6488  0.251000         NaN  0.26400      0.6516     0.08719  1.0814   \n",
      "1      5.7297  0.490600     0.62720  0.93260      2.8355     0.91680  0.8884   \n",
      "2      5.9528  1.379400         NaN  1.48540      1.2940     1.07960     NaN   \n",
      "3      7.0226  0.278900     0.00000  0.51550      0.9413     0.00000  1.6212   \n",
      "4      5.5687  0.018500     0.74540  0.07659      2.2210     0.37010  1.2339   \n",
      "5      7.7957  1.443300     2.45690  1.52180      2.5862     1.87750  3.4219   \n",
      "6      4.0875  0.642000     0.93530  0.33800      1.9489     0.66900  2.1399   \n",
      "7      3.5178  0.005701     0.00000      NaN      1.0241     0.36100  1.4951   \n",
      "8      5.3468  1.152800     1.47710  2.08350      3.4454     0.69630  2.2858   \n",
      "9      5.4703  0.064630     0.08833  0.40300      2.7382     0.00000  1.9139   \n",
      "\n",
      "   Nilotinib  Nutlin-3_x  Nutlin-3_y  \n",
      "0        NaN     0.21360     0.21360  \n",
      "1     0.1278     0.79040     0.79040  \n",
      "2        NaN     0.86250     0.86250  \n",
      "3     0.5269     0.00000     0.00000  \n",
      "4     0.5869     0.22350     0.22350  \n",
      "5     2.1147     2.77200     2.77200  \n",
      "6     0.7575     0.71150     0.71150  \n",
      "7     0.5356     0.04249     0.04249  \n",
      "8     0.9183     0.95200     0.95200  \n",
      "9     0.6024     0.01872     0.01872  \n",
      "\n",
      "[10 rows x 26 columns]\n"
     ]
    }
   ],
   "source": [
    "# extract ActArea as real label\n",
    "# transpose data from different drugs into columns named after the drug\n",
    "\n",
    "all_drugs = list(set(drug_df.Compound))\n",
    "\n",
    "drug_df2 = drug_df[drug_df.Compound==all_drugs[0]][[\"CCLE Cell Line Name\",\"ActArea\"]]\n",
    "drug_df2=drug_df2.rename(columns = {'ActArea':all_drugs[0]})\n",
    "for drug in all_drugs:\n",
    "    current_drug_df = drug_df[drug_df.Compound==drug][[\"CCLE Cell Line Name\",\"ActArea\"]]\n",
    "    current_drug_df = current_drug_df.rename(columns = {'ActArea': drug})\n",
    "    drug_df2 = pd.merge(current_drug_df, drug_df2, on=['CCLE Cell Line Name'], how=\"outer\")\n",
    "print drug_df2.head(10)"
   ]
  },
  {
   "cell_type": "code",
   "execution_count": null,
   "metadata": {
    "collapsed": true
   },
   "outputs": [],
   "source": []
  }
 ],
 "metadata": {
  "kernelspec": {
   "display_name": "Python 2",
   "language": "python",
   "name": "python2"
  },
  "language_info": {
   "codemirror_mode": {
    "name": "ipython",
    "version": 2
   },
   "file_extension": ".py",
   "mimetype": "text/x-python",
   "name": "python",
   "nbconvert_exporter": "python",
   "pygments_lexer": "ipython2",
   "version": "2.7.12"
  }
 },
 "nbformat": 4,
 "nbformat_minor": 0
}
