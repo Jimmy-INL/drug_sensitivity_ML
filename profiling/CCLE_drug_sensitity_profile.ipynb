{
 "cells": [
  {
   "cell_type": "code",
   "execution_count": 2,
   "metadata": {
    "collapsed": true
   },
   "outputs": [],
   "source": [
    "import pandas as pd\n",
    "import numpy as np\n",
    "from matplotlib import pyplot as plt\n",
    "%matplotlib inline"
   ]
  },
  {
   "cell_type": "code",
   "execution_count": 3,
   "metadata": {
    "collapsed": false,
    "scrolled": false
   },
   "outputs": [
    {
     "name": "stdout",
     "output_type": "stream",
     "text": [
      "             CCLE Cell Line Name Primary Cell Line Name Compound Target  \\\n",
      "0  1321N1_CENTRAL_NERVOUS_SYSTEM                 1321N1   AEW541  IGF1R   \n",
      "1                 22RV1_PROSTATE                  22Rv1   AEW541  IGF1R   \n",
      "2  42MGBA_CENTRAL_NERVOUS_SYSTEM               42-MG-BA   AEW541  IGF1R   \n",
      "3             5637_URINARY_TRACT                   5637   AEW541  IGF1R   \n",
      "4             639V_URINARY_TRACT                  639-V   AEW541  IGF1R   \n",
      "\n",
      "                             Doses (uM)  \\\n",
      "0  .0025,.0080,.025,.080,.25,.80,2.53,8   \n",
      "1  .0025,.0080,.025,.080,.25,.80,2.53,8   \n",
      "2  .0025,.0080,.025,.080,.25,.80,2.53,8   \n",
      "3  .0025,.0080,.025,.080,.25,.80,2.53,8   \n",
      "4  .0025,.0080,.025,.080,.25,.80,2.53,8   \n",
      "\n",
      "                  Activity Data (median)  \\\n",
      "0     8.67,11.0,2.16,.27,-10,-13,-26,-43   \n",
      "1      .94,12.5,-14,4.16,-25,-32,-52,-71   \n",
      "2  8.91,8.39,-3.5,12.4,-.55,-6.2,-48,-63   \n",
      "3   2.15,9.91,-3.5,.056,-2.1,-14,-30,-62   \n",
      "4     11.8,-7.3,-9.4,-15,-11,-21,-53,-50   \n",
      "\n",
      "                               Activity SD  Num Data  FitType  EC50 (uM)  \\\n",
      "0   3.31,3.72,5.36,4.67,13.1,.18,2.42,7.51         8  Sigmoid   8.717774   \n",
      "1  1.95,13.3,6.98,21.8,16.0,18.8,4.84,7.93         8  Sigmoid   8.165164   \n",
      "2  13.7,7.70,11.1,6.43,24.0,9.57,9.57,10.4         8  Sigmoid   1.514508   \n",
      "3   4.05,9.75,12.7,4.36,11.0,10.0,24.6,.14         8  Sigmoid   8.006595   \n",
      "4    .95,5.67,11.1,.68,31.6,22.3,1.45,3.08         8  Sigmoid   0.931196   \n",
      "\n",
      "   IC50 (uM)       Amax  ActArea  \n",
      "0   8.000000 -42.558014   0.7124  \n",
      "1   2.329924 -71.589340   1.6723  \n",
      "2   2.682130 -63.491371   1.1852  \n",
      "3   5.002314 -62.352776   0.9948  \n",
      "4   1.736181 -51.959808   1.5436  \n"
     ]
    }
   ],
   "source": [
    "df = pd.read_csv(\"../data/CCLE_NP24.2009_Drug_data_2015.02.24.csv\")\n",
    "print df.head()"
   ]
  },
  {
   "cell_type": "code",
   "execution_count": 5,
   "metadata": {
    "collapsed": false
   },
   "outputs": [
    {
     "data": {
      "text/plain": [
       "<matplotlib.text.Text at 0x10c5ee490>"
      ]
     },
     "execution_count": 5,
     "metadata": {},
     "output_type": "execute_result"
    },
    {
     "data": {
      "image/png": "[encoded data removed]",
      "text/plain": [
       "<matplotlib.figure.Figure at 0x10c7b0210>"
      ]
     },
     "metadata": {},
     "output_type": "display_data"
    }
   ],
   "source": [
    "plt.hist(df.ActArea, bins=50)\n",
    "plt.title(\"ActArea histogram of all cell-drug combination\")\n",
    "plt.xlabel(\"ActArea value\")\n",
    "plt.ylabel(\"Count\")"
   ]
  },
  {
   "cell_type": "code",
   "execution_count": 16,
   "metadata": {
    "collapsed": false
   },
   "outputs": [
    {
     "name": "stdout",
     "output_type": "stream",
     "text": [
      "7.3322988\n",
      "0.0\n"
     ]
    }
   ],
   "source": [
    "print np.percentile(df.ActArea, 99.9)\n",
    "print np.percentile(df.ActArea, 0.1)"
   ]
  },
  {
   "cell_type": "code",
   "execution_count": 17,
   "metadata": {
    "collapsed": true
   },
   "outputs": [],
   "source": [
    "def min_max_scaler(n):\n",
    "    min = 0\n",
    "    max = 7.3322988\n",
    "    if n < min:\n",
    "        return 0\n",
    "    elif n > max:\n",
    "        return 1\n",
    "    else:\n",
    "        return (n - min)/(max - min)"
   ]
  },
  {
   "cell_type": "code",
   "execution_count": 19,
   "metadata": {
    "collapsed": false
   },
   "outputs": [],
   "source": [
    "df[\"ScaledActArea\"] = df['ActArea'].apply(min_max_scaler)"
   ]
  },
  {
   "cell_type": "code",
   "execution_count": 20,
   "metadata": {
    "collapsed": false
   },
   "outputs": [
    {
     "name": "stdout",
     "output_type": "stream",
     "text": [
      "             CCLE Cell Line Name Primary Cell Line Name Compound Target  \\\n",
      "0  1321N1_CENTRAL_NERVOUS_SYSTEM                 1321N1   AEW541  IGF1R   \n",
      "1                 22RV1_PROSTATE                  22Rv1   AEW541  IGF1R   \n",
      "2  42MGBA_CENTRAL_NERVOUS_SYSTEM               42-MG-BA   AEW541  IGF1R   \n",
      "3             5637_URINARY_TRACT                   5637   AEW541  IGF1R   \n",
      "4             639V_URINARY_TRACT                  639-V   AEW541  IGF1R   \n",
      "\n",
      "                             Doses (uM)  \\\n",
      "0  .0025,.0080,.025,.080,.25,.80,2.53,8   \n",
      "1  .0025,.0080,.025,.080,.25,.80,2.53,8   \n",
      "2  .0025,.0080,.025,.080,.25,.80,2.53,8   \n",
      "3  .0025,.0080,.025,.080,.25,.80,2.53,8   \n",
      "4  .0025,.0080,.025,.080,.25,.80,2.53,8   \n",
      "\n",
      "                  Activity Data (median)  \\\n",
      "0     8.67,11.0,2.16,.27,-10,-13,-26,-43   \n",
      "1      .94,12.5,-14,4.16,-25,-32,-52,-71   \n",
      "2  8.91,8.39,-3.5,12.4,-.55,-6.2,-48,-63   \n",
      "3   2.15,9.91,-3.5,.056,-2.1,-14,-30,-62   \n",
      "4     11.8,-7.3,-9.4,-15,-11,-21,-53,-50   \n",
      "\n",
      "                               Activity SD  Num Data  FitType  EC50 (uM)  \\\n",
      "0   3.31,3.72,5.36,4.67,13.1,.18,2.42,7.51         8  Sigmoid   8.717774   \n",
      "1  1.95,13.3,6.98,21.8,16.0,18.8,4.84,7.93         8  Sigmoid   8.165164   \n",
      "2  13.7,7.70,11.1,6.43,24.0,9.57,9.57,10.4         8  Sigmoid   1.514508   \n",
      "3   4.05,9.75,12.7,4.36,11.0,10.0,24.6,.14         8  Sigmoid   8.006595   \n",
      "4    .95,5.67,11.1,.68,31.6,22.3,1.45,3.08         8  Sigmoid   0.931196   \n",
      "\n",
      "   IC50 (uM)       Amax  ActArea  ScaledActArea  \n",
      "0   8.000000 -42.558014   0.7124       0.097159  \n",
      "1   2.329924 -71.589340   1.6723       0.228073  \n",
      "2   2.682130 -63.491371   1.1852       0.161641  \n",
      "3   5.002314 -62.352776   0.9948       0.135674  \n",
      "4   1.736181 -51.959808   1.5436       0.210521  \n"
     ]
    }
   ],
   "source": [
    "print df.head()"
   ]
  },
  {
   "cell_type": "code",
   "execution_count": 26,
   "metadata": {
    "collapsed": false
   },
   "outputs": [
    {
     "name": "stdout",
     "output_type": "stream",
     "text": [
      "      CCLE Cell Line Name   Compound Target  ScaledActArea\n",
      "985          COLO741_SKIN     17-AAG  HSP90       0.440803\n",
      "1063      HPAFII_PANCREAS     17-AAG  HSP90       0.518664\n",
      "1094         IGROV1_OVARY     17-AAG  HSP90       0.355632\n",
      "1230        NCIH1792_LUNG     17-AAG  HSP90       0.576777\n",
      "1392            TC71_BONE     17-AAG  HSP90       0.269206\n",
      "2495         COLO741_SKIN   Nutlin-3   MDM2       0.119690\n",
      "2574      HPAFII_PANCREAS   Nutlin-3   MDM2       0.244371\n",
      "2605         IGROV1_OVARY   Nutlin-3   MDM2       0.031682\n",
      "2741        NCIH1792_LUNG   Nutlin-3   MDM2       0.092604\n",
      "2903            TC71_BONE   Nutlin-3   MDM2       0.007093\n",
      "6818         COLO741_SKIN     LBW242   XIAP       0.339525\n",
      "6897      HPAFII_PANCREAS     LBW242   XIAP       0.159663\n",
      "6928         IGROV1_OVARY     LBW242   XIAP       0.009270\n",
      "7064        NCIH1792_LUNG     LBW242   XIAP       0.036687\n",
      "7225            TC71_BONE     LBW242   XIAP       0.019625\n",
      "11229        COLO741_SKIN  Erlotinib   EGFR       0.131078\n",
      "11308     HPAFII_PANCREAS  Erlotinib   EGFR       0.131609\n",
      "11339        IGROV1_OVARY  Erlotinib   EGFR       0.156745\n",
      "11475       NCIH1792_LUNG  Erlotinib   EGFR       0.034259\n",
      "11636           TC71_BONE  Erlotinib   EGFR       0.000000\n"
     ]
    }
   ],
   "source": [
    "toy_drugs = [\"Erlotinib\", \"Nutlin-3\", \"LBW242\", \"17-AAG\"]\n",
    "toy_cell_lines = [\"IGROV1_OVARY\", \"COLO741_SKIN\", \"TC71_BONE\", \"HPAFII_PANCREAS\", \"NCIH1792_LUNG\"]\n",
    "toy_df = df[df.Compound.isin(toy_drugs)]\n",
    "toy_df = toy_df[toy_df[\"CCLE Cell Line Name\"].isin(toy_cell_lines)]\n",
    "print toy_df[[\"CCLE Cell Line Name\", \"Compound\", \"Target\", \"ScaledActArea\"]]"
   ]
  },
  {
   "cell_type": "code",
   "execution_count": 30,
   "metadata": {
    "collapsed": false
   },
   "outputs": [
    {
     "name": "stdout",
     "output_type": "stream",
     "text": [
      "           Compound Target\n",
      "0            AEW541  IGF1R\n",
      "503       Nilotinib    ABL\n",
      "923          17-AAG  HSP90\n",
      "1426     PHA-665752  c-MET\n",
      "1929      Lapatinib   EGFR\n",
      "2433       Nutlin-3   MDM2\n",
      "2937        AZD0530    ABL\n",
      "3441      PF2341066  c-MET\n",
      "3945       L-685458     GS\n",
      "4436        ZD-6474   EGFR\n",
      "4932   Panobinostat   HDAC\n",
      "5432      Sorafenib    RTK\n",
      "5935     Irinotecan   TOP1\n",
      "6252      Topotecan   TOP1\n",
      "6756         LBW242   XIAP\n",
      "7259     PD-0325901    MEK\n",
      "7763     PD-0332991   CDK4\n",
      "8197     Paclitaxel  TUBB1\n",
      "8700        AZD6244    MEK\n",
      "9203        PLX4720    RAF\n",
      "9699         RAF265    RAF\n",
      "10159        TAE684    ALK\n",
      "10663        TKI258   FGFR\n",
      "11167     Erlotinib   EGFR\n"
     ]
    }
   ],
   "source": [
    "compound_target_df = df[[\"Compound\", \"Target\"]].copy()\n",
    "compound_target_df.drop_duplicates(inplace=True)\n",
    "print compound_target_df"
   ]
  },
  {
   "cell_type": "code",
   "execution_count": null,
   "metadata": {
    "collapsed": true
   },
   "outputs": [],
   "source": []
  }
 ],
 "metadata": {
  "kernelspec": {
   "display_name": "Python 2",
   "language": "python",
   "name": "python2"
  },
  "language_info": {
   "codemirror_mode": {
    "name": "ipython",
    "version": 2
   },
   "file_extension": ".py",
   "mimetype": "text/x-python",
   "name": "python",
   "nbconvert_exporter": "python",
   "pygments_lexer": "ipython2",
   "version": "2.7.12"
  }
 },
 "nbformat": 4,
 "nbformat_minor": 0
}
