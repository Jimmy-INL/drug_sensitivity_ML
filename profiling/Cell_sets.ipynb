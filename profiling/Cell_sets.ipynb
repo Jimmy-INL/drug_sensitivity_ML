{
 "cells": [
  {
   "cell_type": "code",
   "execution_count": 57,
   "metadata": {
    "collapsed": true
   },
   "outputs": [],
   "source": [
    "import os\n",
    "import subprocess"
   ]
  },
  {
   "cell_type": "code",
   "execution_count": 47,
   "metadata": {
    "collapsed": true
   },
   "outputs": [],
   "source": [
    "Achilles_v2_file = \"../data/Achilles_QC_v2.4.3.rnai.Gs.gct\"   # RNAi results of Achilles project\n",
    "Achilles_v3_file = \"../data/Achilles_v3.3.8.Gs.gct\"  # CRISPR results of Achilles project\n",
    "CCLE_mRNA_file = \"../data/CCLE_Expression_Entrez_2012-09-29.gct\"\n",
    "CCLE_binary_file = \"../data/CCLE_MUT_CNA_AMP_DEL_binary_Revealer.gct\"\n",
    "CCLE_onco_file = \"../data/CCLE_Oncomap3_2012-04-09.maf\"\n",
    "CCLE_hybrid_file = \"../data/CCLE_hybrid_capture1650_hg19_NoCommonSNPs_NoNeutralVariants_CDS_2012.05.07.maf\"\n",
    "CCLE_cn_file = \"../data/CCLE_copynumber_byGene_2013-12-03.txt\"\n"
   ]
  },
  {
   "cell_type": "code",
   "execution_count": 13,
   "metadata": {
    "collapsed": false
   },
   "outputs": [
    {
     "name": "stdout",
     "output_type": "stream",
     "text": [
      "number of cell lines in Achilles V2: 216\n",
      "number of cell lines in Achilles V3: 33\n",
      "overlap of cell lines between Achilles V2 and V3: 15\n"
     ]
    }
   ],
   "source": [
    "with open(Achilles_v2_file, \"r\") as f:\n",
    "    Achilles_v2_cells = f.readlines()[0].split(\"\\t\")[2:]\n",
    "    assert len(Achilles_v2_cells)==len(set(Achilles_v2_cells)) # make sure the cell line list is non-repetitive\n",
    "    print \"number of cell lines in Achilles V2:\", len(Achilles_v2_cells)\n",
    "\n",
    "with open(Achilles_v3_file, \"r\") as f:\n",
    "    Achilles_v3_cells = f.readlines()[0].split(\"\\t\")[2:]\n",
    "    assert len(Achilles_v3_cells)==len(set(Achilles_v3_cells)) # make sure the cell line list is non-repetitive\n",
    "    print \"number of cell lines in Achilles V3:\", len(Achilles_v3_cells)\n",
    "\n",
    "print \"overlap of cell lines between Achilles V2 and V3:\", len(set(Achilles_v2_cells).intersection(set(Achilles_v3_cells)))\n",
    "\n",
    "with open(\"../data/\", \"r\") as f:\n",
    "    Achilles_v2_cells = f.readlines()[0].split(\"\\t\")[2:]\n",
    "    assert len(Achilles_v2_cells)==len(set(Achilles_v2_cells)) # make sure the cell line list is non-repetitive\n",
    "    print \"number of cell lines in Achilles V2:\", len(Achilles_v2_cells"
   ]
  },
  {
   "cell_type": "code",
   "execution_count": 80,
   "metadata": {
    "collapsed": false,
    "scrolled": true
   },
   "outputs": [
    {
     "name": "stdout",
     "output_type": "stream",
     "text": [
      "number of cell lines in CCLE mRNA: 1036\n",
      "number of cell lines in CCLE binary: 1036\n",
      "number of cell lines in CCLE copy number: 1036\n",
      "number of cell lines in CCLE oncomap: 488\n",
      "number of cell lines in CCLE hybrid: 907\n",
      "Intersection between CCLE mRNA and copy number file 1009\n",
      "Intersection between CCLE mRNA and binary file 995\n",
      "Intersection between CCLE mRNA and oncomap file 484\n",
      "Intersection between CCLE mRNA and hybrid file 897\n"
     ]
    }
   ],
   "source": [
    "with open(CCLE_mRNA_file, \"r\") as f:\n",
    "    CCLE_mRNA_cells = f.readlines()[0].split(\"\\t\")[2:]\n",
    "    print \"number of cell lines in CCLE mRNA:\", len(set(CCLE_mRNA_cells))\n",
    "    try:\n",
    "        assert len(CCLE_mRNA_cells)==len(set(CCLE_mRNA_cells)) # make sure the cell line list is non-repetitive\n",
    "    except:\n",
    "        pass\n",
    "#         print \"however there is one cell line that has two columns: \"\n",
    "#         for i in CCLE_mRNA_cells:\n",
    "#             if CCLE_mRNA_cells.count(i) == 2:\n",
    "#                 print i\n",
    "            \n",
    "with open(CCLE_binary_file, \"r\") as f:\n",
    "    CCLE_binary_cells = f.readlines()[0].split(\"\\t\")[2:]\n",
    "    assert len(CCLE_binary_cells)==len(set(CCLE_binary_cells)) # make sure the cell line list is non-repetitive\n",
    "    print \"number of cell lines in CCLE binary:\", len(set(CCLE_mRNA_cells))\n",
    "\n",
    "with open(CCLE_cn_file, \"r\") as f:\n",
    "    CCLE_cn_cells = f.readlines()[0].split(\"\\t\")[5:]\n",
    "    assert len(CCLE_cn_cells)==len(set(CCLE_cn_cells)) # make sure the cell line list is non-repetitive\n",
    "    print \"number of cell lines in CCLE copy number:\", len(set(CCLE_mRNA_cells))\n",
    "\n",
    "    \n",
    "with open(CCLE_onco_file, \"r\") as f:\n",
    "    CCLE_onco_cells = subprocess.Popen([\"cut\", \"-f16\", CCLE_onco_file], stdout=subprocess.PIPE).communicate()[0].split(\"\\n\")\n",
    "    print \"number of cell lines in CCLE oncomap:\", len(set(CCLE_onco_cells))\n",
    "    \n",
    "with open(CCLE_hybrid_file, \"r\") as f:\n",
    "    CCLE_hybrid_cells = subprocess.Popen([\"cut\", \"-f16\", CCLE_hybrid_file], stdout=subprocess.PIPE).communicate()[0].split(\"\\n\")\n",
    "    print \"number of cell lines in CCLE hybrid:\", len(set(CCLE_hybrid_cells))\n",
    "    \n",
    "    \n",
    "    \n",
    "print \"Intersection between CCLE mRNA and copy number file\", len(set(CCLE_cn_cells).intersection(set(CCLE_mRNA_cells)))        \n",
    "print \"Intersection between CCLE mRNA and binary file\", len(set(CCLE_binary_cells).intersection(set(CCLE_mRNA_cells)))    \n",
    "print \"Intersection between CCLE mRNA and oncomap file\", len(set(CCLE_onco_cells).intersection(set(CCLE_mRNA_cells)))\n",
    "print \"Intersection between CCLE mRNA and hybrid file\", len(set(CCLE_hybrid_cells).intersection(set(CCLE_mRNA_cells)))"
   ]
  },
  {
   "cell_type": "code",
   "execution_count": 83,
   "metadata": {
    "collapsed": false
   },
   "outputs": [
    {
     "name": "stdout",
     "output_type": "stream",
     "text": [
      "intersection between Achilles v2 and CCLE mRNA:  210\n"
     ]
    }
   ],
   "source": [
    "print \"intersection between Achilles v2 and CCLE mRNA: \", len(set(Achilles_v2_cells).intersection(set(CCLE_mRNA_cells)))"
   ]
  }
 ],
 "metadata": {
  "kernelspec": {
   "display_name": "Python 2",
   "language": "python",
   "name": "python2"
  },
  "language_info": {
   "codemirror_mode": {
    "name": "ipython",
    "version": 2
   },
   "file_extension": ".py",
   "mimetype": "text/x-python",
   "name": "python",
   "nbconvert_exporter": "python",
   "pygments_lexer": "ipython2",
   "version": "2.7.12"
  }
 },
 "nbformat": 4,
 "nbformat_minor": 0
}
