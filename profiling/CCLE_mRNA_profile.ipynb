{
 "cells": [
  {
   "cell_type": "code",
   "execution_count": 2,
   "metadata": {
    "collapsed": false
   },
   "outputs": [],
   "source": [
    "import pandas as pd\n",
    "import numpy as np\n",
    "from matplotlib import pyplot as plt\n",
    "%matplotlib inline"
   ]
  },
  {
   "cell_type": "code",
   "execution_count": 3,
   "metadata": {
    "collapsed": false,
    "scrolled": true
   },
   "outputs": [
    {
     "name": "stdout",
     "output_type": "stream",
     "text": [
      "               Description  LN18_CENTRAL_NERVOUS_SYSTEM  769P_KIDNEY  \\\n",
      "Name                                                                   \n",
      "100009676_at  LOC100009676                     5.987545     5.444892   \n",
      "10000_at              AKT3                     6.230233     7.544216   \n",
      "10001_at              MED6                     9.363550     8.715909   \n",
      "10002_at             NR2E3                     3.803069     4.173643   \n",
      "10003_at           NAALAD2                     3.586430     3.663081   \n",
      "\n",
      "              786O_KIDNEY  CAOV3_OVARY  HEPG2_LIVER  \\\n",
      "Name                                                  \n",
      "100009676_at     5.838828     6.074743     5.788600   \n",
      "10000_at         7.328450     4.270720     4.478293   \n",
      "10001_at         8.410834     9.845271     9.761157   \n",
      "10002_at         3.776557     3.934091     3.822202   \n",
      "10003_at         4.047007     3.817250     6.444302   \n",
      "\n",
      "              MOLT4_HAEMATOPOIETIC_AND_LYMPHOID_TISSUE  NCIH524_LUNG  \\\n",
      "Name                                                                   \n",
      "100009676_at                                  5.459675      5.755560   \n",
      "10000_at                                      6.212102      7.562398   \n",
      "10001_at                                     10.532820     10.393960   \n",
      "10002_at                                      3.949198      3.807546   \n",
      "10003_at                                      4.081071      5.462774   \n",
      "\n",
      "              NCIH209_LUNG  MIAPACA2_PANCREAS               ...                \\\n",
      "Name                                                        ...                 \n",
      "100009676_at      7.190493           5.449818               ...                 \n",
      "10000_at          8.642669           5.556191               ...                 \n",
      "10001_at          9.478429           9.112954               ...                 \n",
      "10002_at          3.930186           4.161937               ...                 \n",
      "10003_at          4.252446           3.932451               ...                 \n",
      "\n",
      "              SLR21_KIDNEY  LNZ308_CENTRAL_NERVOUS_SYSTEM  \\\n",
      "Name                                                        \n",
      "100009676_at      5.473156                       5.517208   \n",
      "10000_at          6.375324                       6.119814   \n",
      "10001_at          8.849773                       8.767192   \n",
      "10002_at          3.717506                       3.977377   \n",
      "10003_at          3.520843                       4.036661   \n",
      "\n",
      "              LN340_CENTRAL_NERVOUS_SYSTEM  HCC827GR5_LUNG  SLR20_KIDNEY  \\\n",
      "Name                                                                       \n",
      "100009676_at                      5.858379        5.196033      5.831437   \n",
      "10000_at                          6.561409        4.521773      6.830904   \n",
      "10001_at                          8.521635        8.224544      9.325785   \n",
      "10002_at                          3.659459        3.933996      4.515748   \n",
      "10003_at                          4.168351        3.535915      4.445632   \n",
      "\n",
      "              HK2_KIDNEY  EW8_BONE  UOK101_KIDNEY  JHESOAD1_OESOPHAGUS  \\\n",
      "Name                                                                     \n",
      "100009676_at    5.362021  5.799747       5.865606             5.463812   \n",
      "10000_at        7.031690  4.881235       6.914640             5.313795   \n",
      "10001_at        8.362727  8.990524       8.958629             9.748100   \n",
      "10002_at        4.434658  4.127832       3.942736             4.062648   \n",
      "10003_at        3.622032  5.436580       3.666404             3.556565   \n",
      "\n",
      "              CH157MN_CENTRAL_NERVOUS_SYSTEM  \n",
      "Name                                          \n",
      "100009676_at                        5.720593  \n",
      "10000_at                            5.757825  \n",
      "10001_at                            9.758431  \n",
      "10002_at                            4.074257  \n",
      "10003_at                            3.728828  \n",
      "\n",
      "[5 rows x 1038 columns]\n"
     ]
    }
   ],
   "source": [
    "df = pd.read_csv(\"../data/CCLE_Expression_Entrez_2012-09-29.gct\", \n",
    "                 delimiter=\"\\t\", low_memory=False, index_col=\"Name\")\n",
    "df = df[pd.notnull(df.index)] # drop the rows where gene is nan\n",
    "print df.head()"
   ]
  },
  {
   "cell_type": "code",
   "execution_count": 20,
   "metadata": {
    "collapsed": false,
    "scrolled": true
   },
   "outputs": [
    {
     "name": "stdout",
     "output_type": "stream",
     "text": [
      "       LN18_CENTRAL_NERVOUS_SYSTEM   769P_KIDNEY   786O_KIDNEY   CAOV3_OVARY  \\\n",
      "count                 18988.000000  18988.000000  18988.000000  18988.000000   \n",
      "mean                      6.392509      6.361752      6.389624      6.424917   \n",
      "std                       2.476663      2.444236      2.454103      2.443434   \n",
      "min                       2.911527      3.026489      2.991723      2.838242   \n",
      "25%                       4.144693      4.207482      4.201661      4.213125   \n",
      "50%                       5.800889      5.637650      5.686744      5.922342   \n",
      "75%                       8.306252      8.216170      8.251510      8.217642   \n",
      "max                      14.850800     14.778780     14.765750     14.883320   \n",
      "\n",
      "        HEPG2_LIVER  MOLT4_HAEMATOPOIETIC_AND_LYMPHOID_TISSUE  NCIH524_LUNG  \\\n",
      "count  18988.000000                              18988.000000  18988.000000   \n",
      "mean       6.409577                                  6.399662      6.400879   \n",
      "std        2.462514                                  2.493796      2.489144   \n",
      "min        3.084948                                  3.041080      2.944501   \n",
      "25%        4.192779                                  4.212337      4.150795   \n",
      "50%        5.799001                                  5.582370      5.837714   \n",
      "75%        8.297240                                  8.357944      8.292600   \n",
      "max       14.729360                                 14.850800     14.875250   \n",
      "\n",
      "       NCIH209_LUNG  MIAPACA2_PANCREAS    MCAS_OVARY  \\\n",
      "count  18988.000000       18988.000000  18988.000000   \n",
      "mean       6.396145           6.378974      6.388408   \n",
      "std        2.479179           2.479545      2.431080   \n",
      "min        3.030975           2.955308      3.010340   \n",
      "25%        4.133131           4.149236      4.246795   \n",
      "50%        5.840426           5.695158      5.703540   \n",
      "75%        8.315540           8.333925      8.207674   \n",
      "max       14.885850          14.869950     14.864990   \n",
      "\n",
      "                    ...                SLR21_KIDNEY  \\\n",
      "count               ...                18988.000000   \n",
      "mean                ...                    6.395383   \n",
      "std                 ...                    2.393057   \n",
      "min                 ...                    3.002687   \n",
      "25%                 ...                    4.287540   \n",
      "50%                 ...                    5.864555   \n",
      "75%                 ...                    8.149455   \n",
      "max                 ...                   14.842440   \n",
      "\n",
      "       LNZ308_CENTRAL_NERVOUS_SYSTEM  LN340_CENTRAL_NERVOUS_SYSTEM  \\\n",
      "count                   18988.000000                  18988.000000   \n",
      "mean                        6.401908                      6.396075   \n",
      "std                         2.433152                      2.437164   \n",
      "min                         3.008906                      2.931140   \n",
      "25%                         4.265795                      4.200506   \n",
      "50%                         5.775918                      5.842422   \n",
      "75%                         8.243115                      8.250947   \n",
      "max                        14.882780                     14.870020   \n",
      "\n",
      "       HCC827GR5_LUNG  SLR20_KIDNEY    HK2_KIDNEY      EW8_BONE  \\\n",
      "count    18988.000000  18988.000000  18988.000000  18988.000000   \n",
      "mean         6.410554      6.415298      6.403638      6.429287   \n",
      "std          2.374489      2.442144      2.355056      2.402895   \n",
      "min          3.011274      3.034197      2.978724      2.937079   \n",
      "25%          4.324980      4.223801      4.312183      4.332273   \n",
      "50%          5.862910      5.861589      5.912365      5.838430   \n",
      "75%          8.142254      8.272035      8.144877      8.209870   \n",
      "max         14.893560     14.869340     14.911120     14.882940   \n",
      "\n",
      "       UOK101_KIDNEY  JHESOAD1_OESOPHAGUS  CH157MN_CENTRAL_NERVOUS_SYSTEM  \n",
      "count   18988.000000         18988.000000                    18988.000000  \n",
      "mean        6.406061             6.414137                        6.411566  \n",
      "std         2.430087             2.416088                        2.409713  \n",
      "min         2.936843             3.006759                        3.048301  \n",
      "25%         4.250722             4.273084                        4.306641  \n",
      "50%         5.813116             5.851116                        5.797804  \n",
      "75%         8.247344             8.214053                        8.194195  \n",
      "max        14.796310            14.904380                       14.847490  \n",
      "\n",
      "[8 rows x 1037 columns]\n"
     ]
    }
   ],
   "source": [
    "print df.describe()"
   ]
  },
  {
   "cell_type": "code",
   "execution_count": 4,
   "metadata": {
    "collapsed": false
   },
   "outputs": [
    {
     "data": {
      "text/plain": [
       "<matplotlib.text.Text at 0x10c4af990>"
      ]
     },
     "execution_count": 4,
     "metadata": {},
     "output_type": "execute_result"
    },
    {
     "data": {
      "image/png": "[encoded data removed]",
      "text/plain": [
       "<matplotlib.figure.Figure at 0x10c9ff390>"
      ]
     },
     "metadata": {},
     "output_type": "display_data"
    }
   ],
   "source": [
    "df1 = df.drop(\"Description\", axis=1)\n",
    "all_values = df1.values.flatten()\n",
    "plt.hist(all_values, bins=80)\n",
    "plt.title(\"mRNA expression all data histogram\")\n",
    "plt.xlabel(\"CCLE mRNA normalized value\")\n",
    "plt.ylabel(\"Count\")"
   ]
  },
  {
   "cell_type": "code",
   "execution_count": 24,
   "metadata": {
    "collapsed": false
   },
   "outputs": [
    {
     "name": "stdout",
     "output_type": "stream",
     "text": [
      "14.18409\n",
      "2.9224488422\n",
      "15.53206\n",
      "2.716615\n"
     ]
    }
   ],
   "source": [
    "print np.percentile(all_values, 99.9)\n",
    "print np.percentile(all_values, 0.001)\n",
    "print np.max(all_values)\n",
    "print np.min(all_values)"
   ]
  },
  {
   "cell_type": "code",
   "execution_count": 23,
   "metadata": {
    "collapsed": false
   },
   "outputs": [
    {
     "name": "stdout",
     "output_type": "stream",
     "text": [
      "        Description  IGROV1_OVARY  COLO741_SKIN  TC71_BONE  HPAFII_PANCREAS  \\\n",
      "Name                                                                          \n",
      "1956_at        EGFR      6.736787      5.810257   5.610785         7.658097   \n",
      "331_at         XIAP      8.528772      8.497306   8.655780        10.437610   \n",
      "4193_at        MDM2      6.169296      5.298713   5.770712         5.816212   \n",
      "7184_at     HSP90B1     12.347400     12.365370  11.764960        11.918320   \n",
      "\n",
      "         NCIH1792_LUNG  \n",
      "Name                    \n",
      "1956_at       7.524416  \n",
      "331_at        8.501273  \n",
      "4193_at       5.701628  \n",
      "7184_at      12.015530  \n"
     ]
    }
   ],
   "source": [
    "toy_df = df[[\"Description\", \"IGROV1_OVARY\", \"COLO741_SKIN\", \"TC71_BONE\", \"HPAFII_PANCREAS\", \"NCIH1792_LUNG\"]]\n",
    "toy_df = toy_df[toy_df.Description.isin([\"EGFR\", \"MDM2\", \"XIAP\", \"HSP90B1\"])]\n",
    "print toy_df"
   ]
  },
  {
   "cell_type": "code",
   "execution_count": 25,
   "metadata": {
    "collapsed": true
   },
   "outputs": [],
   "source": [
    "def min_max_scaler(n):\n",
    "    min = 2.9224488422\n",
    "    max = 14.18409\n",
    "    if n < min:\n",
    "        return 0\n",
    "    elif n > max:\n",
    "        return 1\n",
    "    else:\n",
    "        return (n - min)/(max - min)"
   ]
  },
  {
   "cell_type": "code",
   "execution_count": 26,
   "metadata": {
    "collapsed": false
   },
   "outputs": [
    {
     "data": {
      "text/html": [
       "<div>\n",
       "<table border=\"1\" class=\"dataframe\">\n",
       "  <thead>\n",
       "    <tr style=\"text-align: right;\">\n",
       "      <th></th>\n",
       "      <th>Description</th>\n",
       "      <th>IGROV1_OVARY</th>\n",
       "      <th>COLO741_SKIN</th>\n",
       "      <th>TC71_BONE</th>\n",
       "      <th>HPAFII_PANCREAS</th>\n",
       "      <th>NCIH1792_LUNG</th>\n",
       "    </tr>\n",
       "    <tr>\n",
       "      <th>Name</th>\n",
       "      <th></th>\n",
       "      <th></th>\n",
       "      <th></th>\n",
       "      <th></th>\n",
       "      <th></th>\n",
       "      <th></th>\n",
       "    </tr>\n",
       "  </thead>\n",
       "  <tbody>\n",
       "    <tr>\n",
       "      <th>1956_at</th>\n",
       "      <td>1</td>\n",
       "      <td>0.338702</td>\n",
       "      <td>0.256429</td>\n",
       "      <td>0.238716</td>\n",
       "      <td>0.420511</td>\n",
       "      <td>0.408641</td>\n",
       "    </tr>\n",
       "    <tr>\n",
       "      <th>331_at</th>\n",
       "      <td>1</td>\n",
       "      <td>0.497825</td>\n",
       "      <td>0.495031</td>\n",
       "      <td>0.509103</td>\n",
       "      <td>0.667324</td>\n",
       "      <td>0.495383</td>\n",
       "    </tr>\n",
       "    <tr>\n",
       "      <th>4193_at</th>\n",
       "      <td>1</td>\n",
       "      <td>0.288310</td>\n",
       "      <td>0.211005</td>\n",
       "      <td>0.252917</td>\n",
       "      <td>0.256957</td>\n",
       "      <td>0.246783</td>\n",
       "    </tr>\n",
       "    <tr>\n",
       "      <th>7184_at</th>\n",
       "      <td>1</td>\n",
       "      <td>0.836907</td>\n",
       "      <td>0.838503</td>\n",
       "      <td>0.785189</td>\n",
       "      <td>0.798806</td>\n",
       "      <td>0.807438</td>\n",
       "    </tr>\n",
       "  </tbody>\n",
       "</table>\n",
       "</div>"
      ],
      "text/plain": [
       "         Description  IGROV1_OVARY  COLO741_SKIN  TC71_BONE  HPAFII_PANCREAS  \\\n",
       "Name                                                                           \n",
       "1956_at            1      0.338702      0.256429   0.238716         0.420511   \n",
       "331_at             1      0.497825      0.495031   0.509103         0.667324   \n",
       "4193_at            1      0.288310      0.211005   0.252917         0.256957   \n",
       "7184_at            1      0.836907      0.838503   0.785189         0.798806   \n",
       "\n",
       "         NCIH1792_LUNG  \n",
       "Name                    \n",
       "1956_at       0.408641  \n",
       "331_at        0.495383  \n",
       "4193_at       0.246783  \n",
       "7184_at       0.807438  "
      ]
     },
     "execution_count": 26,
     "metadata": {},
     "output_type": "execute_result"
    }
   ],
   "source": [
    "toy_df.applymap(min_max_scaler)"
   ]
  },
  {
   "cell_type": "code",
   "execution_count": null,
   "metadata": {
    "collapsed": true
   },
   "outputs": [],
   "source": []
  }
 ],
 "metadata": {
  "kernelspec": {
   "display_name": "Python 2",
   "language": "python",
   "name": "python2"
  },
  "language_info": {
   "codemirror_mode": {
    "name": "ipython",
    "version": 2
   },
   "file_extension": ".py",
   "mimetype": "text/x-python",
   "name": "python",
   "nbconvert_exporter": "python",
   "pygments_lexer": "ipython2",
   "version": "2.7.12"
  }
 },
 "nbformat": 4,
 "nbformat_minor": 0
}
