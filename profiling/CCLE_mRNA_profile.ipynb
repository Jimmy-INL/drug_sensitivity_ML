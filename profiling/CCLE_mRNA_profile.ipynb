{
 "cells": [
  {
   "cell_type": "code",
   "execution_count": 1,
   "metadata": {
    "collapsed": false
   },
   "outputs": [],
   "source": [
    "import pandas as pd\n",
    "import numpy as np\n",
    "from matplotlib import pyplot as plt\n",
    "%matplotlib inline"
   ]
  },
  {
   "cell_type": "code",
   "execution_count": 2,
   "metadata": {
    "collapsed": false,
    "scrolled": true
   },
   "outputs": [
    {
     "name": "stdout",
     "output_type": "stream",
     "text": [
      "              LN18_CENTRAL_NERVOUS_SYSTEM  769P_KIDNEY  786O_KIDNEY  \\\n",
      "Description                                                           \n",
      "LOC100009676                     5.987545     5.444892     5.838828   \n",
      "AKT3                             6.230233     7.544216     7.328450   \n",
      "MED6                             9.363550     8.715909     8.410834   \n",
      "NR2E3                            3.803069     4.173643     3.776557   \n",
      "NAALAD2                          3.586430     3.663081     4.047007   \n",
      "\n",
      "              CAOV3_OVARY  HEPG2_LIVER  \\\n",
      "Description                              \n",
      "LOC100009676     6.074743     5.788600   \n",
      "AKT3             4.270720     4.478293   \n",
      "MED6             9.845271     9.761157   \n",
      "NR2E3            3.934091     3.822202   \n",
      "NAALAD2          3.817250     6.444302   \n",
      "\n",
      "              MOLT4_HAEMATOPOIETIC_AND_LYMPHOID_TISSUE  NCIH524_LUNG  \\\n",
      "Description                                                            \n",
      "LOC100009676                                  5.459675      5.755560   \n",
      "AKT3                                          6.212102      7.562398   \n",
      "MED6                                         10.532820     10.393960   \n",
      "NR2E3                                         3.949198      3.807546   \n",
      "NAALAD2                                       4.081071      5.462774   \n",
      "\n",
      "              NCIH209_LUNG  MIAPACA2_PANCREAS  MCAS_OVARY  \\\n",
      "Description                                                 \n",
      "LOC100009676      7.190493           5.449818    5.801820   \n",
      "AKT3              8.642669           5.556191    6.808673   \n",
      "MED6              9.478429           9.112954    9.815614   \n",
      "NR2E3             3.930186           4.161937    4.028581   \n",
      "NAALAD2           4.252446           3.932451    3.835827   \n",
      "\n",
      "                           ...                SLR21_KIDNEY  \\\n",
      "Description                ...                               \n",
      "LOC100009676               ...                    5.473156   \n",
      "AKT3                       ...                    6.375324   \n",
      "MED6                       ...                    8.849773   \n",
      "NR2E3                      ...                    3.717506   \n",
      "NAALAD2                    ...                    3.520843   \n",
      "\n",
      "              LNZ308_CENTRAL_NERVOUS_SYSTEM  LN340_CENTRAL_NERVOUS_SYSTEM  \\\n",
      "Description                                                                 \n",
      "LOC100009676                       5.517208                      5.858379   \n",
      "AKT3                               6.119814                      6.561409   \n",
      "MED6                               8.767192                      8.521635   \n",
      "NR2E3                              3.977377                      3.659459   \n",
      "NAALAD2                            4.036661                      4.168351   \n",
      "\n",
      "              HCC827GR5_LUNG  SLR20_KIDNEY  HK2_KIDNEY  EW8_BONE  \\\n",
      "Description                                                        \n",
      "LOC100009676        5.196033      5.831437    5.362021  5.799747   \n",
      "AKT3                4.521773      6.830904    7.031690  4.881235   \n",
      "MED6                8.224544      9.325785    8.362727  8.990524   \n",
      "NR2E3               3.933996      4.515748    4.434658  4.127832   \n",
      "NAALAD2             3.535915      4.445632    3.622032  5.436580   \n",
      "\n",
      "              UOK101_KIDNEY  JHESOAD1_OESOPHAGUS  \\\n",
      "Description                                        \n",
      "LOC100009676       5.865606             5.463812   \n",
      "AKT3               6.914640             5.313795   \n",
      "MED6               8.958629             9.748100   \n",
      "NR2E3              3.942736             4.062648   \n",
      "NAALAD2            3.666404             3.556565   \n",
      "\n",
      "              CH157MN_CENTRAL_NERVOUS_SYSTEM  \n",
      "Description                                   \n",
      "LOC100009676                        5.720593  \n",
      "AKT3                                5.757825  \n",
      "MED6                                9.758431  \n",
      "NR2E3                               4.074257  \n",
      "NAALAD2                             3.728828  \n",
      "\n",
      "[5 rows x 1037 columns]\n"
     ]
    }
   ],
   "source": [
    "df = pd.read_csv(\"../data/CCLE_Expression_Entrez_2012-09-29.gct\", \n",
    "                 delimiter=\"\\t\", low_memory=False, index_col=\"Description\")\n",
    "df.drop(\"Name\", axis=1, inplace=True)\n",
    "df = df[pd.notnull(df.index)] # drop the rows where gene is nan\n",
    "print df.head()"
   ]
  },
  {
   "cell_type": "code",
   "execution_count": 3,
   "metadata": {
    "collapsed": false,
    "scrolled": true
   },
   "outputs": [
    {
     "name": "stdout",
     "output_type": "stream",
     "text": [
      "       LN18_CENTRAL_NERVOUS_SYSTEM   769P_KIDNEY   786O_KIDNEY   CAOV3_OVARY  \\\n",
      "count                 18901.000000  18901.000000  18901.000000  18901.000000   \n",
      "mean                      6.389099      6.357206      6.385604      6.421303   \n",
      "std                       2.467402      2.433454      2.445019      2.433283   \n",
      "min                       2.911527      3.026489      2.991723      2.838242   \n",
      "25%                       4.146896      4.209484      4.204000      4.215022   \n",
      "50%                       5.801610      5.638783      5.687292      5.925098   \n",
      "75%                       8.298794      8.210980      8.247790      8.208302   \n",
      "max                      14.774330     14.744250     14.765750     14.883320   \n",
      "\n",
      "        HEPG2_LIVER  MOLT4_HAEMATOPOIETIC_AND_LYMPHOID_TISSUE  NCIH524_LUNG  \\\n",
      "count  18901.000000                              18901.000000  18901.000000   \n",
      "mean       6.406367                                  6.396900      6.397673   \n",
      "std        2.454680                                  2.486640      2.480211   \n",
      "min        3.084948                                  3.041080      2.944501   \n",
      "25%        4.193911                                  4.213404      4.154207   \n",
      "50%        5.799413                                  5.584247      5.839651   \n",
      "75%        8.294605                                  8.351403      8.284532   \n",
      "max       14.621830                                 14.719870     14.697200   \n",
      "\n",
      "       NCIH209_LUNG  MIAPACA2_PANCREAS    MCAS_OVARY  \\\n",
      "count  18901.000000       18901.000000  18901.000000   \n",
      "mean       6.392546           6.375095      6.383889   \n",
      "std        2.470277           2.469739      2.419838   \n",
      "min        3.030975           2.955308      3.010340   \n",
      "25%        4.134824           4.152171      4.249356   \n",
      "50%        5.841160           5.695844      5.706060   \n",
      "75%        8.309590           8.328790      8.203499   \n",
      "max       14.730860          14.711140     14.605520   \n",
      "\n",
      "                    ...                SLR21_KIDNEY  \\\n",
      "count               ...                18901.000000   \n",
      "mean                ...                    6.391346   \n",
      "std                 ...                    2.381608   \n",
      "min                 ...                    3.002687   \n",
      "25%                 ...                    4.290464   \n",
      "50%                 ...                    5.866581   \n",
      "75%                 ...                    8.143491   \n",
      "max                 ...                   14.676450   \n",
      "\n",
      "       LNZ308_CENTRAL_NERVOUS_SYSTEM  LN340_CENTRAL_NERVOUS_SYSTEM  \\\n",
      "count                   18901.000000                  18901.000000   \n",
      "mean                        6.397962                      6.391968   \n",
      "std                         2.422385                      2.425961   \n",
      "min                         3.008906                      2.931140   \n",
      "25%                         4.268084                      4.202485   \n",
      "50%                         5.777621                      5.843746   \n",
      "75%                         8.236438                      8.242184   \n",
      "max                        14.630370                     14.720060   \n",
      "\n",
      "       HCC827GR5_LUNG  SLR20_KIDNEY    HK2_KIDNEY      EW8_BONE  \\\n",
      "count    18901.000000  18901.000000  18901.000000  18901.000000   \n",
      "mean         6.406610      6.411797      6.398950      6.425602   \n",
      "std          2.363057      2.432033      2.343084      2.392590   \n",
      "min          3.011274      3.034197      2.978724      2.937079   \n",
      "25%          4.326791      4.225718      4.316205      4.335666   \n",
      "50%          5.865293      5.862989      5.913062      5.840865   \n",
      "75%          8.137864      8.266057      8.137486      8.202003   \n",
      "max         14.680780     14.688360     14.622040     14.819760   \n",
      "\n",
      "       UOK101_KIDNEY  JHESOAD1_OESOPHAGUS  CH157MN_CENTRAL_NERVOUS_SYSTEM  \n",
      "count   18901.000000         18901.000000                    18901.000000  \n",
      "mean        6.401509             6.410339                        6.407582  \n",
      "std         2.418763             2.405256                        2.399060  \n",
      "min         2.936843             3.006759                        3.048301  \n",
      "25%         4.253672             4.275367                        4.309487  \n",
      "50%         5.814434             5.853450                        5.798625  \n",
      "75%         8.241450             8.205937                        8.189591  \n",
      "max        14.796310            14.629980                       14.704850  \n",
      "\n",
      "[8 rows x 1037 columns]\n"
     ]
    }
   ],
   "source": [
    "print df.describe()"
   ]
  },
  {
   "cell_type": "code",
   "execution_count": 4,
   "metadata": {
    "collapsed": false
   },
   "outputs": [
    {
     "name": "stdout",
     "output_type": "stream",
     "text": [
      "Description  LOC100009676         AKT3         MED6        NR2E3      NAALAD2  \\\n",
      "count         1037.000000  1037.000000  1037.000000  1037.000000  1037.000000   \n",
      "mean             5.763592     6.120335     9.214856     3.916313     4.043893   \n",
      "std              0.467041     1.302078     0.583813     0.217335     0.839306   \n",
      "min              4.511165     3.940147     7.238846     3.337705     3.325444   \n",
      "25%              5.446839     4.769489     8.835724     3.767542     3.672672   \n",
      "50%              5.696065     6.227683     9.237199     3.888440     3.794475   \n",
      "75%              6.039475     7.146912     9.613478     4.017021     3.996473   \n",
      "max              8.402916    11.773480    10.645570     4.980642    10.058100   \n",
      "\n",
      "Description   CDKN2B-AS1  LOC100049716     NAALADL1        ACOT8         ABI1  \\\n",
      "count        1037.000000   1037.000000  1037.000000  1037.000000  1037.000000   \n",
      "mean            4.087703      4.759600     4.625574     7.986406     9.091323   \n",
      "std             0.229660      0.590013     0.392297     0.573145     0.634405   \n",
      "min             3.580216      3.565005     4.029214     6.298025     7.330147   \n",
      "25%             3.941792      4.323039     4.402930     7.585335     8.663390   \n",
      "50%             4.053054      4.647661     4.544383     7.970153     9.106309   \n",
      "75%             4.185225      5.100325     4.699782     8.352900     9.493809   \n",
      "max             5.406986      7.648713     6.653753     9.927772    11.409110   \n",
      "\n",
      "Description     ...            PPP4R1        CDC42      SLC12A6        PTBP3  \\\n",
      "count           ...       1037.000000  1037.000000  1037.000000  1037.000000   \n",
      "mean            ...         10.088701     5.505949     6.088262     8.000771   \n",
      "std             ...          0.716924     0.603940     0.868678     0.792054   \n",
      "min             ...          5.395030     4.313696     4.541192     5.489996   \n",
      "25%             ...          9.622345     5.105271     5.484548     7.468217   \n",
      "50%             ...         10.111330     5.376494     5.891454     8.016336   \n",
      "75%             ...         10.564250     5.739402     6.482299     8.577799   \n",
      "max             ...         12.550450     9.504607    10.042890    10.040830   \n",
      "\n",
      "Description        KCNE2        DGCR2     CASP8AP2         SCO2         CDH1  \\\n",
      "count        1037.000000  1037.000000  1037.000000  1037.000000  1037.000000   \n",
      "mean            4.634137     6.849844     8.671697     9.141199     6.554380   \n",
      "std             0.244355     0.485425     0.708208     0.711845     2.435986   \n",
      "min             3.933501     4.947693     5.973400     6.111522     3.971033   \n",
      "25%             4.485887     6.504530     8.181809     8.726662     4.440296   \n",
      "50%             4.617410     6.825374     8.642150     9.193891     5.256513   \n",
      "75%             4.756706     7.144877     9.137942     9.604663     8.860355   \n",
      "max             6.557944     8.845590    10.913370    11.198860    11.948300   \n",
      "\n",
      "Description         NAT1  \n",
      "count        1037.000000  \n",
      "mean            8.062745  \n",
      "std             1.265574  \n",
      "min             3.892400  \n",
      "25%             7.521324  \n",
      "50%             8.258094  \n",
      "75%             8.844992  \n",
      "max            12.465950  \n",
      "\n",
      "[8 rows x 18901 columns]\n"
     ]
    }
   ],
   "source": [
    "print df.transpose().describe()"
   ]
  },
  {
   "cell_type": "code",
   "execution_count": 14,
   "metadata": {
    "collapsed": false
   },
   "outputs": [
    {
     "data": {
      "text/plain": [
       "<matplotlib.text.Text at 0x10d825d10>"
      ]
     },
     "execution_count": 14,
     "metadata": {},
     "output_type": "execute_result"
    },
    {
     "data": {
      "image/png": "[encoded data removed]",
      "text/plain": [
       "<matplotlib.figure.Figure at 0x10d563fd0>"
      ]
     },
     "metadata": {},
     "output_type": "display_data"
    }
   ],
   "source": [
    "all_values = df.values.flatten()\n",
    "plt.hist(all_values, bins=80)\n",
    "plt.title(\"mRNA expression all data histogram\")"
   ]
  },
  {
   "cell_type": "code",
   "execution_count": null,
   "metadata": {
    "collapsed": true
   },
   "outputs": [],
   "source": []
  }
 ],
 "metadata": {
  "kernelspec": {
   "display_name": "Python 2",
   "language": "python",
   "name": "python2"
  },
  "language_info": {
   "codemirror_mode": {
    "name": "ipython",
    "version": 2
   },
   "file_extension": ".py",
   "mimetype": "text/x-python",
   "name": "python",
   "nbconvert_exporter": "python",
   "pygments_lexer": "ipython2",
   "version": "2.7.12"
  }
 },
 "nbformat": 4,
 "nbformat_minor": 0
}
