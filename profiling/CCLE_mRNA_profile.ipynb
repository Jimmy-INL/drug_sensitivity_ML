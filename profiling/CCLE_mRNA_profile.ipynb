{
 "cells": [
  {
   "cell_type": "code",
   "execution_count": 2,
   "metadata": {
    "collapsed": false
   },
   "outputs": [],
   "source": [
    "import pandas as pd\n",
    "import numpy as np\n",
    "from matplotlib import pyplot as plt\n",
    "%matplotlib inline"
   ]
  },
  {
   "cell_type": "code",
   "execution_count": 3,
   "metadata": {
    "collapsed": false,
    "scrolled": true
   },
   "outputs": [
    {
     "name": "stdout",
     "output_type": "stream",
     "text": [
      "               Description  LN18_CENTRAL_NERVOUS_SYSTEM  769P_KIDNEY  \\\n",
      "Name                                                                   \n",
      "100009676_at  LOC100009676                     5.987545     5.444892   \n",
      "10000_at              AKT3                     6.230233     7.544216   \n",
      "10001_at              MED6                     9.363550     8.715909   \n",
      "10002_at             NR2E3                     3.803069     4.173643   \n",
      "10003_at           NAALAD2                     3.586430     3.663081   \n",
      "\n",
      "              786O_KIDNEY  CAOV3_OVARY  HEPG2_LIVER  \\\n",
      "Name                                                  \n",
      "100009676_at     5.838828     6.074743     5.788600   \n",
      "10000_at         7.328450     4.270720     4.478293   \n",
      "10001_at         8.410834     9.845271     9.761157   \n",
      "10002_at         3.776557     3.934091     3.822202   \n",
      "10003_at         4.047007     3.817250     6.444302   \n",
      "\n",
      "              MOLT4_HAEMATOPOIETIC_AND_LYMPHOID_TISSUE  NCIH524_LUNG  \\\n",
      "Name                                                                   \n",
      "100009676_at                                  5.459675      5.755560   \n",
      "10000_at                                      6.212102      7.562398   \n",
      "10001_at                                     10.532820     10.393960   \n",
      "10002_at                                      3.949198      3.807546   \n",
      "10003_at                                      4.081071      5.462774   \n",
      "\n",
      "              NCIH209_LUNG  MIAPACA2_PANCREAS               ...                \\\n",
      "Name                                                        ...                 \n",
      "100009676_at      7.190493           5.449818               ...                 \n",
      "10000_at          8.642669           5.556191               ...                 \n",
      "10001_at          9.478429           9.112954               ...                 \n",
      "10002_at          3.930186           4.161937               ...                 \n",
      "10003_at          4.252446           3.932451               ...                 \n",
      "\n",
      "              SLR21_KIDNEY  LNZ308_CENTRAL_NERVOUS_SYSTEM  \\\n",
      "Name                                                        \n",
      "100009676_at      5.473156                       5.517208   \n",
      "10000_at          6.375324                       6.119814   \n",
      "10001_at          8.849773                       8.767192   \n",
      "10002_at          3.717506                       3.977377   \n",
      "10003_at          3.520843                       4.036661   \n",
      "\n",
      "              LN340_CENTRAL_NERVOUS_SYSTEM  HCC827GR5_LUNG  SLR20_KIDNEY  \\\n",
      "Name                                                                       \n",
      "100009676_at                      5.858379        5.196033      5.831437   \n",
      "10000_at                          6.561409        4.521773      6.830904   \n",
      "10001_at                          8.521635        8.224544      9.325785   \n",
      "10002_at                          3.659459        3.933996      4.515748   \n",
      "10003_at                          4.168351        3.535915      4.445632   \n",
      "\n",
      "              HK2_KIDNEY  EW8_BONE  UOK101_KIDNEY  JHESOAD1_OESOPHAGUS  \\\n",
      "Name                                                                     \n",
      "100009676_at    5.362021  5.799747       5.865606             5.463812   \n",
      "10000_at        7.031690  4.881235       6.914640             5.313795   \n",
      "10001_at        8.362727  8.990524       8.958629             9.748100   \n",
      "10002_at        4.434658  4.127832       3.942736             4.062648   \n",
      "10003_at        3.622032  5.436580       3.666404             3.556565   \n",
      "\n",
      "              CH157MN_CENTRAL_NERVOUS_SYSTEM  \n",
      "Name                                          \n",
      "100009676_at                        5.720593  \n",
      "10000_at                            5.757825  \n",
      "10001_at                            9.758431  \n",
      "10002_at                            4.074257  \n",
      "10003_at                            3.728828  \n",
      "\n",
      "[5 rows x 1038 columns]\n"
     ]
    }
   ],
   "source": [
    "df = pd.read_csv(\"../raw_data/CCLE_Expression_Entrez_2012-09-29.gct\", \n",
    "                 delimiter=\"\\t\", low_memory=False, index_col=\"Name\")\n",
    "\n",
    "df = df[pd.notnull(df.Description)] # drop the rows where gene is nan\n",
    "print df.head()"
   ]
  },
  {
   "cell_type": "code",
   "execution_count": 10,
   "metadata": {
    "collapsed": false
   },
   "outputs": [
    {
     "data": {
      "text/plain": [
       "<matplotlib.text.Text at 0x109206510>"
      ]
     },
     "execution_count": 10,
     "metadata": {},
     "output_type": "execute_result"
    },
    {
     "data": {
      "image/png": "[encoded data removed]",
      "text/plain": [
       "<matplotlib.figure.Figure at 0x109680810>"
      ]
     },
     "metadata": {},
     "output_type": "display_data"
    },
    {
     "data": {
      "image/png": "[encoded data removed]",
      "text/plain": [
       "<matplotlib.figure.Figure at 0x10997fc10>"
      ]
     },
     "metadata": {},
     "output_type": "display_data"
    },
    {
     "data": {
      "image/png": "[encoded data removed]",
      "text/plain": [
       "<matplotlib.figure.Figure at 0x1098ba510>"
      ]
     },
     "metadata": {},
     "output_type": "display_data"
    },
    {
     "data": {
      "image/png": "[encoded data removed]",
      "text/plain": [
       "<matplotlib.figure.Figure at 0x1098ba410>"
      ]
     },
     "metadata": {},
     "output_type": "display_data"
    }
   ],
   "source": [
    "plt.figure(1)\n",
    "df = pd.read_csv(\"../raw_data/CCLE_Expression_Entrez_2012-09-29.gct\", \n",
    "                 delimiter=\"\\t\", low_memory=False, index_col=\"Name\")\n",
    "df = df[pd.notnull(df.Description)] # drop the rows where gene is nan\n",
    "df1 = df.drop(\"Description\", axis=1)\n",
    "all_values = df1.values.flatten()\n",
    "plt.hist(all_values, bins=80)\n",
    "plt.title(\"mRNA expression histogram, raw\")\n",
    "plt.xlabel(\"CCLE mRNA normalized value\")\n",
    "plt.ylabel(\"Count\")\n",
    "\n",
    "plt.figure(2)\n",
    "df = pd.read_csv(\"../raw_data/CCLE_Expression_Entrez_2012-09-29.percent.gct\", \n",
    "                 delimiter=\"\\t\", low_memory=False)\n",
    "df = df[pd.notnull(df.Description)] # drop the rows where gene is nan\n",
    "df1 = df.drop(\"Description\", axis=1)\n",
    "all_values = df1.values.flatten()\n",
    "plt.hist(all_values, bins=80)\n",
    "plt.title(\"mRNA expression histogram, rank\")\n",
    "plt.xlabel(\"\")\n",
    "plt.ylabel(\"Count\")\n",
    "\n",
    "plt.figure(3)\n",
    "df = pd.read_csv(\"../raw_data/CCLE_Expression_Entrez_2012-09-29.minmax.gct\", \n",
    "                 delimiter=\"\\t\", low_memory=False)\n",
    "df = df[pd.notnull(df.Description)] # drop the rows where gene is nan\n",
    "df1 = df.drop(\"Description\", axis=1)\n",
    "all_values = df1.values.flatten()\n",
    "plt.hist(all_values, bins=80)\n",
    "plt.title(\"mRNA expression histogram, minmax\")\n",
    "plt.xlabel(\"\")\n",
    "plt.ylabel(\"Count\")\n",
    "\n",
    "plt.figure(4)\n",
    "df = df1.applymap(lambda x: x**(1.0/3))\n",
    "all_values = df.values.flatten()\n",
    "plt.hist(all_values, bins=80)\n",
    "plt.title(\"mRNA expression histogram, minmax cube root\")\n",
    "plt.xlabel(\"\")\n",
    "plt.ylabel(\"Count\")"
   ]
  },
  {
   "cell_type": "code",
   "execution_count": 30,
   "metadata": {
    "collapsed": false
   },
   "outputs": [
    {
     "name": "stdout",
     "output_type": "stream",
     "text": [
      "1255 17646\n"
     ]
    },
    {
     "data": {
      "text/plain": [
       "<matplotlib.legend.Legend at 0x1140ba0d0>"
      ]
     },
     "execution_count": 30,
     "metadata": {},
     "output_type": "execute_result"
    },
    {
     "data": {
      "image/png": "[encoded data removed]",
      "text/plain": [
       "<matplotlib.figure.Figure at 0x1140ba090>"
      ]
     },
     "metadata": {},
     "output_type": "display_data"
    }
   ],
   "source": [
    "# seperately plot normal gene and loci gene mRNA data\n",
    "df_loci = df[df[\"Description\"].str.contains(\"LOC\")]\n",
    "df_gene = df[~df[\"Description\"].str.contains(\"LOC\")]\n",
    "print len(df_loci), len(df_gene)\n",
    "\n",
    "df_loci = df_loci.drop(\"Description\", axis=1)\n",
    "df_gene = df_gene.drop(\"Description\", axis=1)\n",
    "all_values_loci = df_loci.values.flatten()\n",
    "all_values_gene = df_gene.values.flatten()\n",
    "\n",
    "plt.hist(all_values_gene, bins=80, label=\"gene\", alpha=0.5, color=\"blue\")\n",
    "plt.hist(all_values_loci, bins=80, label=\"loci\", alpha=0.5, color=\"red\")\n",
    "\n",
    "plt.title(\"mRNA expression histogram, seperated by LOCI and GENE\")\n",
    "plt.xlabel(\"CCLE mRNA normalized value\")\n",
    "plt.ylabel(\"Count\")\n",
    "plt.legend(loc='upper right')"
   ]
  },
  {
   "cell_type": "code",
   "execution_count": 24,
   "metadata": {
    "collapsed": false
   },
   "outputs": [
    {
     "name": "stdout",
     "output_type": "stream",
     "text": [
      "14.18409\n",
      "2.9224488422\n",
      "15.53206\n",
      "2.716615\n"
     ]
    }
   ],
   "source": [
    "print np.percentile(all_values, 99.9)\n",
    "print np.percentile(all_values, 0.001)\n",
    "print np.max(all_values)\n",
    "print np.min(all_values)"
   ]
  },
  {
   "cell_type": "code",
   "execution_count": 23,
   "metadata": {
    "collapsed": false
   },
   "outputs": [
    {
     "name": "stdout",
     "output_type": "stream",
     "text": [
      "        Description  IGROV1_OVARY  COLO741_SKIN  TC71_BONE  HPAFII_PANCREAS  \\\n",
      "Name                                                                          \n",
      "1956_at        EGFR      6.736787      5.810257   5.610785         7.658097   \n",
      "331_at         XIAP      8.528772      8.497306   8.655780        10.437610   \n",
      "4193_at        MDM2      6.169296      5.298713   5.770712         5.816212   \n",
      "7184_at     HSP90B1     12.347400     12.365370  11.764960        11.918320   \n",
      "\n",
      "         NCIH1792_LUNG  \n",
      "Name                    \n",
      "1956_at       7.524416  \n",
      "331_at        8.501273  \n",
      "4193_at       5.701628  \n",
      "7184_at      12.015530  \n"
     ]
    }
   ],
   "source": [
    "toy_df = df[[\"Description\", \"IGROV1_OVARY\", \"COLO741_SKIN\", \"TC71_BONE\", \"HPAFII_PANCREAS\", \"NCIH1792_LUNG\"]]\n",
    "toy_df = toy_df[toy_df.Description.isin([\"EGFR\", \"MDM2\", \"XIAP\", \"HSP90B1\"])]\n",
    "print toy_df"
   ]
  },
  {
   "cell_type": "code",
   "execution_count": 25,
   "metadata": {
    "collapsed": true
   },
   "outputs": [],
   "source": [
    "def min_max_scaler(n):\n",
    "    min = 2.9224488422\n",
    "    max = 14.18409\n",
    "    if n < min:\n",
    "        return 0\n",
    "    elif n > max:\n",
    "        return 1\n",
    "    else:\n",
    "        return (n - min)/(max - min)"
   ]
  },
  {
   "cell_type": "code",
   "execution_count": 26,
   "metadata": {
    "collapsed": false
   },
   "outputs": [
    {
     "data": {
      "text/html": [
       "<div>\n",
       "<table border=\"1\" class=\"dataframe\">\n",
       "  <thead>\n",
       "    <tr style=\"text-align: right;\">\n",
       "      <th></th>\n",
       "      <th>Description</th>\n",
       "      <th>IGROV1_OVARY</th>\n",
       "      <th>COLO741_SKIN</th>\n",
       "      <th>TC71_BONE</th>\n",
       "      <th>HPAFII_PANCREAS</th>\n",
       "      <th>NCIH1792_LUNG</th>\n",
       "    </tr>\n",
       "    <tr>\n",
       "      <th>Name</th>\n",
       "      <th></th>\n",
       "      <th></th>\n",
       "      <th></th>\n",
       "      <th></th>\n",
       "      <th></th>\n",
       "      <th></th>\n",
       "    </tr>\n",
       "  </thead>\n",
       "  <tbody>\n",
       "    <tr>\n",
       "      <th>1956_at</th>\n",
       "      <td>1</td>\n",
       "      <td>0.338702</td>\n",
       "      <td>0.256429</td>\n",
       "      <td>0.238716</td>\n",
       "      <td>0.420511</td>\n",
       "      <td>0.408641</td>\n",
       "    </tr>\n",
       "    <tr>\n",
       "      <th>331_at</th>\n",
       "      <td>1</td>\n",
       "      <td>0.497825</td>\n",
       "      <td>0.495031</td>\n",
       "      <td>0.509103</td>\n",
       "      <td>0.667324</td>\n",
       "      <td>0.495383</td>\n",
       "    </tr>\n",
       "    <tr>\n",
       "      <th>4193_at</th>\n",
       "      <td>1</td>\n",
       "      <td>0.288310</td>\n",
       "      <td>0.211005</td>\n",
       "      <td>0.252917</td>\n",
       "      <td>0.256957</td>\n",
       "      <td>0.246783</td>\n",
       "    </tr>\n",
       "    <tr>\n",
       "      <th>7184_at</th>\n",
       "      <td>1</td>\n",
       "      <td>0.836907</td>\n",
       "      <td>0.838503</td>\n",
       "      <td>0.785189</td>\n",
       "      <td>0.798806</td>\n",
       "      <td>0.807438</td>\n",
       "    </tr>\n",
       "  </tbody>\n",
       "</table>\n",
       "</div>"
      ],
      "text/plain": [
       "         Description  IGROV1_OVARY  COLO741_SKIN  TC71_BONE  HPAFII_PANCREAS  \\\n",
       "Name                                                                           \n",
       "1956_at            1      0.338702      0.256429   0.238716         0.420511   \n",
       "331_at             1      0.497825      0.495031   0.509103         0.667324   \n",
       "4193_at            1      0.288310      0.211005   0.252917         0.256957   \n",
       "7184_at            1      0.836907      0.838503   0.785189         0.798806   \n",
       "\n",
       "         NCIH1792_LUNG  \n",
       "Name                    \n",
       "1956_at       0.408641  \n",
       "331_at        0.495383  \n",
       "4193_at       0.246783  \n",
       "7184_at       0.807438  "
      ]
     },
     "execution_count": 26,
     "metadata": {},
     "output_type": "execute_result"
    }
   ],
   "source": [
    "toy_df.applymap(min_max_scaler)"
   ]
  },
  {
   "cell_type": "code",
   "execution_count": null,
   "metadata": {
    "collapsed": true
   },
   "outputs": [],
   "source": []
  }
 ],
 "metadata": {
  "kernelspec": {
   "display_name": "Python 2",
   "language": "python",
   "name": "python2"
  },
  "language_info": {
   "codemirror_mode": {
    "name": "ipython",
    "version": 2
   },
   "file_extension": ".py",
   "mimetype": "text/x-python",
   "name": "python",
   "nbconvert_exporter": "python",
   "pygments_lexer": "ipython2",
   "version": "2.7.10"
  }
 },
 "nbformat": 4,
 "nbformat_minor": 0
}
