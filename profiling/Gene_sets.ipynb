{
 "cells": [
  {
   "cell_type": "code",
   "execution_count": 10,
   "metadata": {
    "collapsed": true
   },
   "outputs": [],
   "source": [
    "Achilles_v2_file = \"../data/Achilles_QC_v2.4.3.rnai.Gs.gct\"   # RNAi results of Achilles project\n",
    "Achilles_v3_file = \"../data/Achilles_v3.3.8.Gs.gct\"  # CRISPR results of Achilles project\n",
    "CCLE_drug_file = \"../data/CCLE_NP24.2009_Drug_data_2015.02.24.csv\" # cell line sensitity data\n",
    "CCLE_mRNA_file = \"../data/CCLE_Expression_Entrez_2012-09-29.gct\"\n",
    "CCLE_binary_file = \"../data/CCLE_MUT_CNA_AMP_DEL_binary_Revealer.gct\"\n",
    "CCLE_onco_file = \"../data/CCLE_Oncomap3_2012-04-09.maf\"\n",
    "CCLE_hybrid_file = \"../data/CCLE_hybrid_capture1650_hg19_NoCommonSNPs_NoNeutralVariants_CDS_2012.05.07.maf\"\n",
    "CCLE_cn_file = \"../data/CCLE_copynumber_byGene_2013-12-03.txt\""
   ]
  },
  {
   "cell_type": "code",
   "execution_count": 2,
   "metadata": {
    "collapsed": true
   },
   "outputs": [],
   "source": [
    "import pandas as pd\n",
    "import numpy as np"
   ]
  },
  {
   "cell_type": "code",
   "execution_count": 9,
   "metadata": {
    "collapsed": false
   },
   "outputs": [
    {
     "name": "stdout",
     "output_type": "stream",
     "text": [
      "5299\n",
      "15564\n",
      "3952\n"
     ]
    }
   ],
   "source": [
    "achilles_v2_gene = set(pd.read_csv(Achilles_v2_file, delimiter=\"\\t\").Description)\n",
    "achilles_v3_gene = set(pd.read_csv(Achilles_v3_file, delimiter=\"\\t\").Description)\n",
    "print len(achilles_v2_gene)\n",
    "print len(achilles_v3_gene)\n",
    "print len(achilles_v2_gene.intersection(achilles_v3_gene))"
   ]
  },
  {
   "cell_type": "code",
   "execution_count": 14,
   "metadata": {
    "collapsed": false
   },
   "outputs": [],
   "source": [
    "mRNA_gene = set(pd.read_csv(CCLE_mRNA_file, delimiter=\"\\t\", low_memory=False).Description)"
   ]
  },
  {
   "cell_type": "code",
   "execution_count": 17,
   "metadata": {
    "collapsed": false
   },
   "outputs": [
    {
     "name": "stdout",
     "output_type": "stream",
     "text": [
      "18901\n",
      "4648\n",
      "12912\n"
     ]
    }
   ],
   "source": [
    "print len(mRNA_gene)\n",
    "print len(mRNA_gene.intersection(achilles_v2_gene))\n",
    "print len(mRNA_gene.intersection(achilles_v3_gene))"
   ]
  },
  {
   "cell_type": "code",
   "execution_count": 28,
   "metadata": {
    "collapsed": false,
    "scrolled": true
   },
   "outputs": [
    {
     "name": "stdout",
     "output_type": "stream",
     "text": [
      "17\n",
      "6\n",
      "8\n",
      "8\n"
     ]
    }
   ],
   "source": [
    "drug_data_gene = set(pd.read_csv(CCLE_drug_file)[\"Target\"])\n",
    "print len(drug_data_gene)\n",
    "print len(drug_data_gene.intersection(achilles_v2_gene))\n",
    "print len(drug_data_gene.intersection(achilles_v3_gene))\n",
    "print len(drug_data_gene.intersection(mRNA_gene))"
   ]
  },
  {
   "cell_type": "code",
   "execution_count": 44,
   "metadata": {
    "collapsed": true
   },
   "outputs": [],
   "source": [
    "doubtful_gene_names = [\"HER2\", \"CMET\", \"ABL\", \"FLT3\", \n",
    "                \"C-KIT\", \"RET\", \"VEGFR-1\", \"FLT4\", \"ABL\",\n",
    "                \"BCR-ABL\", \"MEK\", \"MEK1\", \"MEK2\", \"HDAC\", \"GS\"]"
   ]
  },
  {
   "cell_type": "code",
   "execution_count": 45,
   "metadata": {
    "collapsed": false
   },
   "outputs": [
    {
     "name": "stdout",
     "output_type": "stream",
     "text": [
      "HER2\n",
      "mRNA False\n",
      "achilles v2 False\n",
      "achilles v3 False\n",
      "drug data False\n",
      "====================================================\n",
      "CMET\n",
      "mRNA False\n",
      "achilles v2 False\n",
      "achilles v3 False\n",
      "drug data False\n",
      "====================================================\n",
      "ABL\n",
      "mRNA False\n",
      "achilles v2 False\n",
      "achilles v3 False\n",
      "drug data True\n",
      "====================================================\n",
      "FLT3\n",
      "mRNA True\n",
      "achilles v2 True\n",
      "achilles v3 False\n",
      "drug data False\n",
      "====================================================\n",
      "C-KIT\n",
      "mRNA False\n",
      "achilles v2 False\n",
      "achilles v3 False\n",
      "drug data False\n",
      "====================================================\n",
      "RET\n",
      "mRNA True\n",
      "achilles v2 True\n",
      "achilles v3 False\n",
      "drug data False\n",
      "====================================================\n",
      "VEGFR-1\n",
      "mRNA False\n",
      "achilles v2 False\n",
      "achilles v3 False\n",
      "drug data False\n",
      "====================================================\n",
      "FLT4\n",
      "mRNA True\n",
      "achilles v2 False\n",
      "achilles v3 True\n",
      "drug data False\n",
      "====================================================\n",
      "ABL\n",
      "mRNA False\n",
      "achilles v2 False\n",
      "achilles v3 False\n",
      "drug data True\n",
      "====================================================\n",
      "BCR-ABL\n",
      "mRNA False\n",
      "achilles v2 False\n",
      "achilles v3 False\n",
      "drug data False\n",
      "====================================================\n",
      "MEK\n",
      "mRNA False\n",
      "achilles v2 False\n",
      "achilles v3 False\n",
      "drug data True\n",
      "====================================================\n",
      "MEK1\n",
      "mRNA False\n",
      "achilles v2 False\n",
      "achilles v3 False\n",
      "drug data False\n",
      "====================================================\n",
      "MEK2\n",
      "mRNA False\n",
      "achilles v2 False\n",
      "achilles v3 False\n",
      "drug data False\n",
      "====================================================\n",
      "HDAC\n",
      "mRNA False\n",
      "achilles v2 False\n",
      "achilles v3 False\n",
      "drug data True\n",
      "====================================================\n",
      "GS\n",
      "mRNA False\n",
      "achilles v2 False\n",
      "achilles v3 False\n",
      "drug data True\n",
      "====================================================\n"
     ]
    }
   ],
   "source": [
    "for drug_target in doubtful_gene_names:\n",
    "    print drug_target\n",
    "    print \"mRNA\", drug_target in mRNA_gene\n",
    "    print \"achilles v2\", drug_target in achilles_v2_gene\n",
    "    print \"achilles v3\", drug_target in achilles_v3_gene\n",
    "    print \"drug data\", drug_target in drug_data_gene\n",
    "    print \"====================================================\"\n",
    "    "
   ]
  },
  {
   "cell_type": "code",
   "execution_count": null,
   "metadata": {
    "collapsed": true
   },
   "outputs": [],
   "source": [
    "correct_gene_names = [\"EGFR\", \"CDK4\", \"CDK6\", \"IGF1R\", \"BRAF\", \"KDR\", \n",
    "                      \"MDM2\", \"TOP1\", \"TUBB1\", \"ALK\", \"XIAP\", \"KDR\", \"HSP90B1\"\n",
    "                     ]"
   ]
  }
 ],
 "metadata": {
  "kernelspec": {
   "display_name": "Python 2",
   "language": "python",
   "name": "python2"
  },
  "language_info": {
   "codemirror_mode": {
    "name": "ipython",
    "version": 2
   },
   "file_extension": ".py",
   "mimetype": "text/x-python",
   "name": "python",
   "nbconvert_exporter": "python",
   "pygments_lexer": "ipython2",
   "version": "2.7.12"
  }
 },
 "nbformat": 4,
 "nbformat_minor": 0
}
