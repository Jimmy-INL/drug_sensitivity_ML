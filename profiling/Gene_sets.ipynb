{
 "cells": [
  {
   "cell_type": "code",
   "execution_count": 2,
   "metadata": {
    "collapsed": true
   },
   "outputs": [],
   "source": [
    "Achilles_v2_file = \"../data/Achilles_QC_v2.4.3.rnai.Gs.gct\"   # RNAi results of Achilles project\n",
    "Achilles_v3_file = \"../data/Achilles_v3.3.8.Gs.gct\"  # CRISPR results of Achilles project\n",
    "CCLE_drug_file = \"../data/CCLE_NP24.2009_Drug_data_2015.02.24.csv\" # cell line sensitity data\n",
    "CCLE_mRNA_file = \"../data/CCLE_Expression_Entrez_2012-09-29.gct\"\n",
    "CCLE_binary_file = \"../data/CCLE_MUT_CNA_AMP_DEL_binary_Revealer.gct\"\n",
    "CCLE_onco_file = \"../data/CCLE_Oncomap3_2012-04-09.maf\"\n",
    "CCLE_hybrid_file = \"../data/CCLE_hybrid_capture1650_hg19_NoCommonSNPs_NoNeutralVariants_CDS_2012.05.07.maf\"\n",
    "CCLE_cn_file = \"../data/CCLE_copynumber_byGene_2013-12-03.txt\"\n",
    "drug_target_file = \"../data/combined_annotations_CCLEmapped.tab\""
   ]
  },
  {
   "cell_type": "code",
   "execution_count": 3,
   "metadata": {
    "collapsed": true
   },
   "outputs": [],
   "source": [
    "import pandas as pd\n",
    "import numpy as np"
   ]
  },
  {
   "cell_type": "code",
   "execution_count": 4,
   "metadata": {
    "collapsed": false
   },
   "outputs": [
    {
     "name": "stdout",
     "output_type": "stream",
     "text": [
      "5299\n",
      "15564\n",
      "3952\n"
     ]
    }
   ],
   "source": [
    "achilles_v2_gene = set(pd.read_csv(Achilles_v2_file, delimiter=\"\\t\").Description)\n",
    "achilles_v3_gene = set(pd.read_csv(Achilles_v3_file, delimiter=\"\\t\").Description)\n",
    "print len(achilles_v2_gene)\n",
    "print len(achilles_v3_gene)\n",
    "print len(achilles_v2_gene.intersection(achilles_v3_gene))"
   ]
  },
  {
   "cell_type": "code",
   "execution_count": 7,
   "metadata": {
    "collapsed": false
   },
   "outputs": [
    {
     "name": "stdout",
     "output_type": "stream",
     "text": [
      "18900\n",
      "4648\n",
      "12912\n"
     ]
    }
   ],
   "source": [
    "mRNA_gene = pd.read_csv(CCLE_mRNA_file, delimiter=\"\\t\", low_memory=False).Description\n",
    "mRNA_gene = set(mRNA_gene.dropna())\n",
    "print len(mRNA_gene)\n",
    "print len(mRNA_gene.intersection(achilles_v2_gene))\n",
    "print len(mRNA_gene.intersection(achilles_v3_gene))"
   ]
  },
  {
   "cell_type": "code",
   "execution_count": 13,
   "metadata": {
    "collapsed": false
   },
   "outputs": [
    {
     "name": "stdout",
     "output_type": "stream",
     "text": [
      "152\n",
      "77\n",
      "126\n",
      "142\n"
     ]
    }
   ],
   "source": [
    "drug_gene = set(pd.read_csv(drug_target_file, delimiter=\"\\t\", header=None)[0])\n",
    "print len(drug_gene)\n",
    "print len(drug_gene.intersection(achilles_v2_gene))\n",
    "print len(drug_gene.intersection(achilles_v3_gene))\n",
    "print len(drug_gene.intersection(mRNA_gene))"
   ]
  }
 ],
 "metadata": {
  "kernelspec": {
   "display_name": "Python 2",
   "language": "python",
   "name": "python2"
  },
  "language_info": {
   "codemirror_mode": {
    "name": "ipython",
    "version": 2
   },
   "file_extension": ".py",
   "mimetype": "text/x-python",
   "name": "python",
   "nbconvert_exporter": "python",
   "pygments_lexer": "ipython2",
   "version": "2.7.12"
  }
 },
 "nbformat": 4,
 "nbformat_minor": 0
}
