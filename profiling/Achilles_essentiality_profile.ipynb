{
 "cells": [
  {
   "cell_type": "code",
   "execution_count": 1,
   "metadata": {
    "collapsed": true
   },
   "outputs": [],
   "source": [
    "import pandas as pd\n",
    "import numpy as np\n",
    "import pandas_profiling\n",
    "from matplotlib import pyplot as plt\n",
    "%matplotlib inline"
   ]
  },
  {
   "cell_type": "code",
   "execution_count": 4,
   "metadata": {
    "collapsed": false,
    "scrolled": true
   },
   "outputs": [
    {
     "name": "stdout",
     "output_type": "stream",
     "text": [
      "                   Description  22RV1_PROSTATE  \\\n",
      "Name                                             \n",
      "A2ML1_1_01110            A2ML1        0.394594   \n",
      "AADAC_1_11001            AADAC       -0.130884   \n",
      "AADAT_1_11010            AADAT       -1.233717   \n",
      "AADAT_2_00101            AADAT        0.540022   \n",
      "AAK1_1_01111011111        AAK1       -0.386657   \n",
      "\n",
      "                    697_HAEMATOPOIETIC_AND_LYMPHOID_TISSUE  786O_KIDNEY  \\\n",
      "Name                                                                      \n",
      "A2ML1_1_01110                                     0.730798    -1.200988   \n",
      "AADAC_1_11001                                    -0.621311    -1.280822   \n",
      "AADAT_1_11010                                     1.630825    -0.609781   \n",
      "AADAT_2_00101                                    -0.063913    -0.075909   \n",
      "AAK1_1_01111011111                                1.229293     0.055042   \n",
      "\n",
      "                    A1207_CENTRAL_NERVOUS_SYSTEM  A172_CENTRAL_NERVOUS_SYSTEM  \\\n",
      "Name                                                                            \n",
      "A2ML1_1_01110                          -0.366327                    -0.315740   \n",
      "AADAC_1_11001                           1.155876                     0.846035   \n",
      "AADAT_1_11010                           0.220788                     0.520919   \n",
      "AADAT_2_00101                           0.203345                     1.721006   \n",
      "AAK1_1_01111011111                     -0.037928                    -0.541444   \n",
      "\n",
      "                    A204_SOFT_TISSUE  A2058_SKIN  A549_LUNG  A673_BONE  \\\n",
      "Name                                                                     \n",
      "A2ML1_1_01110               0.485359    0.747858   1.027464  -0.807780   \n",
      "AADAC_1_11001               0.339626    0.635004   1.677584  -0.513627   \n",
      "AADAT_1_11010               1.625103    0.744893   0.270954   0.195283   \n",
      "AADAT_2_00101              -0.099922    0.694934  -0.894302   2.187258   \n",
      "AAK1_1_01111011111          0.434542    0.238876  -0.501032   0.022685   \n",
      "\n",
      "                        ...        TT_OESOPHAGUS  TYKNU_OVARY  \\\n",
      "Name                    ...                                     \n",
      "A2ML1_1_01110           ...             0.264767     0.595023   \n",
      "AADAC_1_11001           ...             0.119530     0.135017   \n",
      "AADAT_1_11010           ...             0.624118    -0.073269   \n",
      "AADAT_2_00101           ...            -0.050057     0.164355   \n",
      "AAK1_1_01111011111      ...             0.588225     0.536282   \n",
      "\n",
      "                    U178_CENTRAL_NERVOUS_SYSTEM  \\\n",
      "Name                                              \n",
      "A2ML1_1_01110                         -0.475466   \n",
      "AADAC_1_11001                         -0.789472   \n",
      "AADAT_1_11010                         -0.682420   \n",
      "AADAT_2_00101                         -1.728864   \n",
      "AAK1_1_01111011111                    -0.132454   \n",
      "\n",
      "                    U251MG_CENTRAL_NERVOUS_SYSTEM  \\\n",
      "Name                                                \n",
      "A2ML1_1_01110                            0.092025   \n",
      "AADAC_1_11001                            2.007803   \n",
      "AADAT_1_11010                           -1.471325   \n",
      "AADAT_2_00101                            0.154101   \n",
      "AAK1_1_01111011111                      -0.016453   \n",
      "\n",
      "                    U343_CENTRAL_NERVOUS_SYSTEM  U87MG_CENTRAL_NERVOUS_SYSTEM  \\\n",
      "Name                                                                            \n",
      "A2ML1_1_01110                         -0.186903                     -0.456556   \n",
      "AADAC_1_11001                          0.755939                     -0.201873   \n",
      "AADAT_1_11010                          0.474586                     -0.102329   \n",
      "AADAT_2_00101                         -1.076057                      1.011631   \n",
      "AAK1_1_01111011111                     0.919752                      0.538183   \n",
      "\n",
      "                    UOK101_KIDNEY  VCAP_PROSTATE  YKG1_CENTRAL_NERVOUS_SYSTEM  \\\n",
      "Name                                                                            \n",
      "A2ML1_1_01110            0.323593       2.481954                    -0.283461   \n",
      "AADAC_1_11001            0.514251       0.400216                     0.918511   \n",
      "AADAT_1_11010            0.020837       0.699519                    -0.047015   \n",
      "AADAT_2_00101           -1.447738      -0.699277                    -0.472082   \n",
      "AAK1_1_01111011111       0.032745      -0.088541                    -0.120990   \n",
      "\n",
      "                    ZR7530_BREAST  \n",
      "Name                               \n",
      "A2ML1_1_01110            0.772718  \n",
      "AADAC_1_11001            1.319482  \n",
      "AADAT_1_11010            0.501435  \n",
      "AADAT_2_00101            0.007069  \n",
      "AAK1_1_01111011111      -0.319829  \n",
      "\n",
      "[5 rows x 217 columns]\n"
     ]
    }
   ],
   "source": [
    "df = pd.read_csv(\"../data/Achilles_QC_v2.4.3.rnai.Gs.gct\", delimiter=\"\\t\", index_col=\"Name\")\n",
    "#df.drop(\"Description\", axis=1, inplace=True)\n",
    "df.dropna(inplace=True)\n",
    "print df.head()"
   ]
  },
  {
   "cell_type": "code",
   "execution_count": 19,
   "metadata": {
    "collapsed": false,
    "scrolled": true
   },
   "outputs": [
    {
     "name": "stdout",
     "output_type": "stream",
     "text": [
      "       22RV1_PROSTATE  697_HAEMATOPOIETIC_AND_LYMPHOID_TISSUE  786O_KIDNEY  \\\n",
      "count     5690.000000                             5690.000000  5690.000000   \n",
      "mean        -0.033977                                0.071798     0.057938   \n",
      "std          0.717656                                0.893396     0.752741   \n",
      "min         -2.985807                               -3.535088    -3.794766   \n",
      "25%         -0.530223                               -0.501890    -0.445195   \n",
      "50%         -0.012730                                0.117127     0.054440   \n",
      "75%          0.459845                                0.672828     0.523820   \n",
      "max          3.437556                                3.623722     4.309728   \n",
      "\n",
      "       A1207_CENTRAL_NERVOUS_SYSTEM  A172_CENTRAL_NERVOUS_SYSTEM  \\\n",
      "count                   5690.000000                  5690.000000   \n",
      "mean                       0.118923                     0.006361   \n",
      "std                        0.883121                     0.751057   \n",
      "min                       -2.556264                    -3.039878   \n",
      "25%                       -0.487184                    -0.501396   \n",
      "50%                        0.066423                    -0.020706   \n",
      "75%                        0.690028                     0.486378   \n",
      "max                        3.791971                     4.838260   \n",
      "\n",
      "       A204_SOFT_TISSUE   A2058_SKIN    A549_LUNG    A673_BONE  ACHN_KIDNEY  \\\n",
      "count       5690.000000  5690.000000  5690.000000  5690.000000  5690.000000   \n",
      "mean           0.060726    -0.086469     0.013996     0.029571     0.066255   \n",
      "std            0.753327     0.801749     0.736057     0.778796     0.796663   \n",
      "min           -3.722171    -4.477712    -4.375870    -3.321412    -2.939025   \n",
      "25%           -0.414331    -0.603601    -0.447419    -0.464635    -0.447332   \n",
      "50%            0.026445    -0.072839    -0.039649     0.054628     0.042103   \n",
      "75%            0.508217     0.428488     0.431851     0.548136     0.565725   \n",
      "max            3.721546     3.437547     4.326527     3.152951     4.074681   \n",
      "\n",
      "           ...        TT_OESOPHAGUS  TYKNU_OVARY  U178_CENTRAL_NERVOUS_SYSTEM  \\\n",
      "count      ...          5690.000000  5690.000000                  5690.000000   \n",
      "mean       ...             0.008614     0.108459                     0.032134   \n",
      "std        ...             0.810582     0.835752                     0.744337   \n",
      "min        ...            -2.586291    -4.268045                    -3.142388   \n",
      "25%        ...            -0.557745    -0.458919                    -0.430081   \n",
      "50%        ...            -0.028357     0.051436                     0.013110   \n",
      "75%        ...             0.493917     0.612932                     0.533968   \n",
      "max        ...             4.415909     5.023658                     3.859147   \n",
      "\n",
      "       U251MG_CENTRAL_NERVOUS_SYSTEM  U343_CENTRAL_NERVOUS_SYSTEM  \\\n",
      "count                    5690.000000                  5690.000000   \n",
      "mean                       -0.021298                     0.159757   \n",
      "std                         0.676443                     0.950486   \n",
      "min                        -3.006765                    -3.225269   \n",
      "25%                        -0.438565                    -0.457097   \n",
      "50%                        -0.062226                     0.099520   \n",
      "75%                         0.384737                     0.714268   \n",
      "max                         3.259137                     4.665983   \n",
      "\n",
      "       U87MG_CENTRAL_NERVOUS_SYSTEM  UOK101_KIDNEY  VCAP_PROSTATE  \\\n",
      "count                   5690.000000    5690.000000    5690.000000   \n",
      "mean                       0.041053       0.120496       0.022182   \n",
      "std                        0.776623       0.939782       1.068125   \n",
      "min                       -5.173411      -3.531821      -4.535904   \n",
      "25%                       -0.462333      -0.512308      -0.699934   \n",
      "50%                        0.020173       0.110384      -0.023522   \n",
      "75%                        0.499203       0.686704       0.660878   \n",
      "max                        3.801528       4.063201       4.461761   \n",
      "\n",
      "       YKG1_CENTRAL_NERVOUS_SYSTEM  ZR7530_BREAST  \n",
      "count                  5690.000000    5690.000000  \n",
      "mean                      0.052497      -0.031564  \n",
      "std                       0.758256       0.963634  \n",
      "min                      -3.107585      -4.687479  \n",
      "25%                      -0.450976      -0.648188  \n",
      "50%                      -0.004018      -0.085016  \n",
      "75%                       0.497559       0.565944  \n",
      "max                       6.586957       4.491796  \n",
      "\n",
      "[8 rows x 216 columns]\n"
     ]
    }
   ],
   "source": [
    "print df.describe()"
   ]
  },
  {
   "cell_type": "code",
   "execution_count": 20,
   "metadata": {
    "collapsed": false,
    "scrolled": true
   },
   "outputs": [
    {
     "name": "stdout",
     "output_type": "stream",
     "text": [
      "Name   A2ML1_1_01110  AADAC_1_11001  AADAT_1_11010  AADAT_2_00101  \\\n",
      "count     216.000000     216.000000     216.000000     216.000000   \n",
      "mean       -0.000886       0.128938       0.017678      -0.040943   \n",
      "std         0.715384       0.899834       0.984958       0.762544   \n",
      "min        -1.990331      -2.219202      -2.256570      -1.928425   \n",
      "25%        -0.407022      -0.605744      -0.722998      -0.538102   \n",
      "50%        -0.012775       0.081236       0.000878      -0.072024   \n",
      "75%         0.520813       0.777429       0.689838       0.418260   \n",
      "max         2.481954       3.109785       3.433961       2.187258   \n",
      "\n",
      "Name   AAK1_1_01111011111  AAK1_2_10000100000  AANAT_1_10101  \\\n",
      "count          216.000000          216.000000     216.000000   \n",
      "mean             0.069375           -0.013887       0.075339   \n",
      "std              0.665533            0.646722       0.770884   \n",
      "min             -1.504550           -1.507836      -1.814418   \n",
      "25%             -0.423787           -0.433366      -0.495940   \n",
      "50%             -0.013748            0.006112      -0.000864   \n",
      "75%              0.488734            0.448536       0.576353   \n",
      "max              2.249635            1.625096       2.258187   \n",
      "\n",
      "Name   AASDHPPT_1_10110  AATF_1_01110  ABAT_1_0110      ...       ZP2_1_11001  \\\n",
      "count        216.000000    216.000000   216.000000      ...        216.000000   \n",
      "mean           0.061689      0.007972     0.054657      ...          0.053921   \n",
      "std            1.032291      0.671874     0.799330      ...          0.936652   \n",
      "min           -2.314234     -1.643459    -1.716330      ...         -2.343902   \n",
      "25%           -0.681536     -0.480551    -0.453950      ...         -0.606412   \n",
      "50%            0.024057     -0.037777    -0.025361      ...         -0.035281   \n",
      "75%            0.785662      0.453981     0.602500      ...          0.683731   \n",
      "max            2.671864      1.698089     2.409993      ...          2.731554   \n",
      "\n",
      "Name   ZP3_1_01111  ZRANB1_1_111  ZRANB2_1_01100  ZSCAN10_1_00111  \\\n",
      "count   216.000000    216.000000      216.000000       216.000000   \n",
      "mean      0.074090      0.031524        0.094293         0.014667   \n",
      "std       0.601762      0.761057        0.905855         0.750330   \n",
      "min      -1.667796     -1.790901       -2.765057        -1.787126   \n",
      "25%      -0.336534     -0.548959       -0.442738        -0.561895   \n",
      "50%      -0.000305      0.071496        0.035677         0.015575   \n",
      "75%       0.485677      0.460943        0.607083         0.505071   \n",
      "max       1.439239      2.409140        3.000903         2.169250   \n",
      "\n",
      "Name   ZSCAN20_1_01111  ZSCAN4_1_11111  ZSCAN5A_1_1011  ZWILCH_1_11011  \\\n",
      "count       216.000000      216.000000      216.000000      216.000000   \n",
      "mean          0.061332        0.002626        0.109483        0.042472   \n",
      "std           0.542909        0.592165        0.726036        0.579979   \n",
      "min          -1.245397       -1.805764       -1.442149       -1.663671   \n",
      "25%          -0.303444       -0.376950       -0.422524       -0.341826   \n",
      "50%           0.032695        0.017450       -0.019457        0.013333   \n",
      "75%           0.430722        0.445223        0.625213        0.384263   \n",
      "max           1.740602        1.434082        2.475988        1.648435   \n",
      "\n",
      "Name   ZZEF1_1_1110  \n",
      "count    216.000000  \n",
      "mean       0.009857  \n",
      "std        0.911296  \n",
      "min       -2.510159  \n",
      "25%       -0.646019  \n",
      "50%       -0.087785  \n",
      "75%        0.670300  \n",
      "max        2.192909  \n",
      "\n",
      "[8 rows x 5690 columns]\n"
     ]
    }
   ],
   "source": [
    "print df.transpose().describe()"
   ]
  },
  {
   "cell_type": "code",
   "execution_count": 25,
   "metadata": {
    "collapsed": false
   },
   "outputs": [
    {
     "data": {
      "text/plain": [
       "(array([  2.00000000e+00,   2.00000000e+00,   4.00000000e+00,\n",
       "          2.80000000e+01,   4.10000000e+01,   1.04000000e+02,\n",
       "          2.40000000e+02,   5.97000000e+02,   1.42000000e+03,\n",
       "          3.47400000e+03,   9.84400000e+03,   2.42460000e+04,\n",
       "          5.85520000e+04,   1.15774000e+05,   1.85336000e+05,\n",
       "          2.31076000e+05,   2.18718000e+05,   1.65468000e+05,\n",
       "          1.04351000e+05,   5.69120000e+04,   2.92240000e+04,\n",
       "          1.31680000e+04,   5.99900000e+03,   2.51300000e+03,\n",
       "          1.07500000e+03,   4.74000000e+02,   1.99000000e+02,\n",
       "          1.07000000e+02,   3.20000000e+01,   1.60000000e+01,\n",
       "          1.10000000e+01,   5.00000000e+00,   8.00000000e+00,\n",
       "          2.00000000e+00,   4.00000000e+00,   3.00000000e+00,\n",
       "          3.00000000e+00,   1.00000000e+00,   1.00000000e+00,\n",
       "          1.00000000e+00,   2.00000000e+00,   1.00000000e+00,\n",
       "          0.00000000e+00,   0.00000000e+00,   2.00000000e+00]),\n",
       " array([ -5.87608458,  -5.50676202,  -5.13743945,  -4.76811689,\n",
       "         -4.39879433,  -4.02947177,  -3.66014921,  -3.29082665,\n",
       "         -2.92150409,  -2.55218153,  -2.18285897,  -1.8135364 ,\n",
       "         -1.44421384,  -1.07489128,  -0.70556872,  -0.33624616,\n",
       "          0.0330764 ,   0.40239896,   0.77172152,   1.14104409,\n",
       "          1.51036665,   1.87968921,   2.24901177,   2.61833433,\n",
       "          2.98765689,   3.35697945,   3.72630201,   4.09562458,\n",
       "          4.46494714,   4.8342697 ,   5.20359226,   5.57291482,\n",
       "          5.94223738,   6.31155994,   6.6808825 ,   7.05020506,\n",
       "          7.41952763,   7.78885019,   8.15817275,   8.52749531,\n",
       "          8.89681787,   9.26614043,   9.63546299,  10.00478555,\n",
       "         10.37410812,  10.74343068]),\n",
       " <a list of 45 Patch objects>)"
      ]
     },
     "execution_count": 25,
     "metadata": {},
     "output_type": "execute_result"
    },
    {
     "data": {
      "image/png": "[encoded data removed]",
      "text/plain": [
       "<matplotlib.figure.Figure at 0x11299cc90>"
      ]
     },
     "metadata": {},
     "output_type": "display_data"
    }
   ],
   "source": [
    "all_values = df.values.flatten()\n",
    "plt.hist(all_values, bins=45)"
   ]
  },
  {
   "cell_type": "code",
   "execution_count": 31,
   "metadata": {
    "collapsed": false,
    "scrolled": true
   },
   "outputs": [
    {
     "name": "stdout",
     "output_type": "stream",
     "text": [
      "3.21345520497\n",
      "-2.83725945274\n",
      "10.7434306769\n",
      "-5.8760845772\n"
     ]
    }
   ],
   "source": [
    "print np.percentile(all_values, 99.9)\n",
    "print np.percentile(all_values, 0.1)\n",
    "print np.max(all_values)\n",
    "print np.min(all_values)"
   ]
  },
  {
   "cell_type": "code",
   "execution_count": 25,
   "metadata": {
    "collapsed": true
   },
   "outputs": [],
   "source": [
    "toy_df = df[[\"Description\", \"IGROV1_OVARY\", \"COLO741_SKIN\", \"TC71_BONE\", \"HPAFII_PANCREAS\", \"NCIH1792_LUNG\"]]\n",
    "toy_df = toy_df[toy_df.Description.isin([\"EGFR\", \"MDM2\", \"XIAP\", \"HSP90B1\"])]\n",
    "toy_df.drop(\"Description\", axis=1, inplace=True)"
   ]
  },
  {
   "cell_type": "code",
   "execution_count": 38,
   "metadata": {
    "collapsed": false
   },
   "outputs": [
    {
     "name": "stdout",
     "output_type": "stream",
     "text": [
      "                IGROV1_OVARY  COLO741_SKIN  TC71_BONE  HPAFII_PANCREAS  \\\n",
      "Name                                                                     \n",
      "EGFR_1_00011       -0.439768     -0.568740  -0.521517         1.061267   \n",
      "HSP90B1_1_0111      0.907320      0.280850  -1.082615         0.613687   \n",
      "MDM2_1_1111        -0.467626      0.172475  -1.170011         1.986512   \n",
      "XIAP_1_00101        0.029746     -1.123995  -0.073243         0.464377   \n",
      "\n",
      "                NCIH1792_LUNG  \n",
      "Name                           \n",
      "EGFR_1_00011        -0.255228  \n",
      "HSP90B1_1_0111      -0.029134  \n",
      "MDM2_1_1111          0.431833  \n",
      "XIAP_1_00101        -0.075738  \n"
     ]
    }
   ],
   "source": [
    "print toy_df"
   ]
  },
  {
   "cell_type": "code",
   "execution_count": 46,
   "metadata": {
    "collapsed": true
   },
   "outputs": [],
   "source": [
    "def min_max_scaler(n):\n",
    "    if n < -2.83725945274:\n",
    "        return 1\n",
    "    elif n > 3.21345520497:\n",
    "        return 0\n",
    "    else:\n",
    "        return (-n + 3.21345520497)/(3.21345520497+2.83725945274)"
   ]
  },
  {
   "cell_type": "code",
   "execution_count": 47,
   "metadata": {
    "collapsed": false
   },
   "outputs": [
    {
     "data": {
      "text/html": [
       "<div>\n",
       "<table border=\"1\" class=\"dataframe\">\n",
       "  <thead>\n",
       "    <tr style=\"text-align: right;\">\n",
       "      <th></th>\n",
       "      <th>IGROV1_OVARY</th>\n",
       "      <th>COLO741_SKIN</th>\n",
       "      <th>TC71_BONE</th>\n",
       "      <th>HPAFII_PANCREAS</th>\n",
       "      <th>NCIH1792_LUNG</th>\n",
       "    </tr>\n",
       "    <tr>\n",
       "      <th>Name</th>\n",
       "      <th></th>\n",
       "      <th></th>\n",
       "      <th></th>\n",
       "      <th></th>\n",
       "      <th></th>\n",
       "    </tr>\n",
       "  </thead>\n",
       "  <tbody>\n",
       "    <tr>\n",
       "      <th>EGFR_1_00011</th>\n",
       "      <td>0.603767</td>\n",
       "      <td>0.625082</td>\n",
       "      <td>0.617278</td>\n",
       "      <td>0.355692</td>\n",
       "      <td>0.573268</td>\n",
       "    </tr>\n",
       "    <tr>\n",
       "      <th>HSP90B1_1_0111</th>\n",
       "      <td>0.381134</td>\n",
       "      <td>0.484671</td>\n",
       "      <td>0.710010</td>\n",
       "      <td>0.429663</td>\n",
       "      <td>0.535902</td>\n",
       "    </tr>\n",
       "    <tr>\n",
       "      <th>MDM2_1_1111</th>\n",
       "      <td>0.608371</td>\n",
       "      <td>0.502582</td>\n",
       "      <td>0.724454</td>\n",
       "      <td>0.202777</td>\n",
       "      <td>0.459718</td>\n",
       "    </tr>\n",
       "    <tr>\n",
       "      <th>XIAP_1_00101</th>\n",
       "      <td>0.526171</td>\n",
       "      <td>0.716849</td>\n",
       "      <td>0.543192</td>\n",
       "      <td>0.454339</td>\n",
       "      <td>0.543604</td>\n",
       "    </tr>\n",
       "  </tbody>\n",
       "</table>\n",
       "</div>"
      ],
      "text/plain": [
       "                IGROV1_OVARY  COLO741_SKIN  TC71_BONE  HPAFII_PANCREAS  \\\n",
       "Name                                                                     \n",
       "EGFR_1_00011        0.603767      0.625082   0.617278         0.355692   \n",
       "HSP90B1_1_0111      0.381134      0.484671   0.710010         0.429663   \n",
       "MDM2_1_1111         0.608371      0.502582   0.724454         0.202777   \n",
       "XIAP_1_00101        0.526171      0.716849   0.543192         0.454339   \n",
       "\n",
       "                NCIH1792_LUNG  \n",
       "Name                           \n",
       "EGFR_1_00011         0.573268  \n",
       "HSP90B1_1_0111       0.535902  \n",
       "MDM2_1_1111          0.459718  \n",
       "XIAP_1_00101         0.543604  "
      ]
     },
     "execution_count": 47,
     "metadata": {},
     "output_type": "execute_result"
    }
   ],
   "source": [
    "toy_df.applymap(min_max_scaler)"
   ]
  },
  {
   "cell_type": "code",
   "execution_count": null,
   "metadata": {
    "collapsed": true
   },
   "outputs": [],
   "source": []
  }
 ],
 "metadata": {
  "kernelspec": {
   "display_name": "Python 2",
   "language": "python",
   "name": "python2"
  },
  "language_info": {
   "codemirror_mode": {
    "name": "ipython",
    "version": 2
   },
   "file_extension": ".py",
   "mimetype": "text/x-python",
   "name": "python",
   "nbconvert_exporter": "python",
   "pygments_lexer": "ipython2",
   "version": "2.7.12"
  }
 },
 "nbformat": 4,
 "nbformat_minor": 0
}
