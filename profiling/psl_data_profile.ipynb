{
 "cells": [
  {
   "cell_type": "code",
   "execution_count": 51,
   "metadata": {
    "collapsed": true
   },
   "outputs": [],
   "source": [
    "import pandas as pd\n",
    "import numpy as np"
   ]
  },
  {
   "cell_type": "code",
   "execution_count": 52,
   "metadata": {
    "collapsed": true
   },
   "outputs": [],
   "source": [
    "PATH = \"../psl/data/first_model/\""
   ]
  },
  {
   "cell_type": "code",
   "execution_count": 53,
   "metadata": {
    "collapsed": false
   },
   "outputs": [
    {
     "name": "stdout",
     "output_type": "stream",
     "text": [
      "  cell_key               cell_name\n",
      "0       C0            PC3_PROSTATE\n",
      "1       C1    HS172T_URINARY_TRACT\n",
      "2       C2    VMCUB1_URINARY_TRACT\n",
      "3       C3               EBC1_LUNG\n",
      "4       C4  SNU503_LARGE_INTESTINE\n",
      "number of cell lines 1053\n"
     ]
    }
   ],
   "source": [
    "cell_pd = pd.read_csv(PATH + \"cell.txt\", header=None, names=[\"cell_key\", \"cell_name\"], delimiter=\"\\t\")\n",
    "print cell_pd.head()\n",
    "print \"number of cell lines\", len(cell_pd.cell_key)"
   ]
  },
  {
   "cell_type": "code",
   "execution_count": 54,
   "metadata": {
    "collapsed": false
   },
   "outputs": [
    {
     "name": "stdout",
     "output_type": "stream",
     "text": [
      "  gene_key gene_name\n",
      "0      GG0      TAP1\n",
      "1      GG1  C18ORF56\n",
      "2      GG2      MDM2\n",
      "3      GG3    PDGFRA\n",
      "4      GG4      ARAF\n",
      "number of genes 152\n"
     ]
    }
   ],
   "source": [
    "gene_pd = pd.read_csv(PATH + \"gene.txt\", header=None, names=[\"gene_key\", \"gene_name\"], delimiter=\"\\t\")\n",
    "print gene_pd.head()\n",
    "print \"number of genes\", len(gene_pd.gene_key)"
   ]
  },
  {
   "cell_type": "code",
   "execution_count": 55,
   "metadata": {
    "collapsed": false
   },
   "outputs": [
    {
     "name": "stdout",
     "output_type": "stream",
     "text": [
      "  drug_key   drug_name\n",
      "0       D0    Nutlin-3\n",
      "1       D1   Nilotinib\n",
      "2       D2      RAF265\n",
      "3       D3  PHA-665752\n",
      "4       D4  PD-0325901\n",
      "number of drugs 24\n"
     ]
    }
   ],
   "source": [
    "drug_pd = pd.read_csv(PATH + \"drug.txt\", header=None, names=[\"drug_key\", \"drug_name\"], delimiter=\"\\t\")\n",
    "print drug_pd.head()\n",
    "print \"number of drugs\", len(drug_pd.drug_key)"
   ]
  },
  {
   "cell_type": "code",
   "execution_count": 57,
   "metadata": {
    "collapsed": false
   },
   "outputs": [
    {
     "name": "stdout",
     "output_type": "stream",
     "text": [
      "  drug_key   drug_name\n",
      "0       D0    Nutlin-3\n",
      "1       D1   Nilotinib\n",
      "2       D2      RAF265\n",
      "3       D3  PHA-665752\n",
      "4       D4  PD-0325901\n",
      "number of drug-gene paris:  246\n"
     ]
    }
   ],
   "source": [
    "target_pd = pd.read_csv(PATH + \"drug_target.txt\", header=None, names=[\"drug\", \"gene\"], delimiter=\"\\t\")\n",
    "print drug_pd.head()\n",
    "print \"number of drug-gene paris: \", len(target_pd)"
   ]
  },
  {
   "cell_type": "code",
   "execution_count": 58,
   "metadata": {
    "collapsed": false
   },
   "outputs": [
    {
     "name": "stdout",
     "output_type": "stream",
     "text": [
      "    cell gene  active_probablility\n",
      "0  C1003   G0             0.819091\n",
      "1  C1003  G68             0.831155\n",
      "2  C1003   G4             0.686862\n",
      "3  C1003  G41             0.120059\n",
      "4  C1003   G6             0.761257\n",
      "number of cell-gene pairs:  147254\n",
      "number of cell lines 1037\n"
     ]
    }
   ],
   "source": [
    "active_pd = pd.read_csv(PATH + \"active.txt\", header=None, names=[\"cell\", \"gene\", \"active_probablility\"], delimiter=\"\\t\")\n",
    "print active_pd.head()\n",
    "print \"number of cell-gene pairs: \",len(active_pd)\n",
    "print \"number of cell lines\", len(set(active_pd.cell))"
   ]
  },
  {
   "cell_type": "code",
   "execution_count": 59,
   "metadata": {
    "collapsed": false
   },
   "outputs": [
    {
     "name": "stdout",
     "output_type": "stream",
     "text": [
      "   cell  gene  essential_probablility\n",
      "0  C504    G7                0.110165\n",
      "1  C504   G12                0.605906\n",
      "2  C504   G13                0.539277\n",
      "3  C504   G15                0.671588\n",
      "4  C504  G110                0.100890\n",
      "number of cell-gene pairs 16632\n",
      "number of cell lines 216\n"
     ]
    }
   ],
   "source": [
    "essential_pd = pd.read_csv(PATH + \"essential.txt\", header=None, names=[\"cell\", \"gene\", \"essential_probablility\"], delimiter=\"\\t\")\n",
    "print essential_pd.head()\n",
    "print \"number of cell-gene pairs\", len(essential_pd)\n",
    "print \"number of cell lines\", len(set(essential_pd.cell))"
   ]
  },
  {
   "cell_type": "code",
   "execution_count": 60,
   "metadata": {
    "collapsed": false
   },
   "outputs": [
    {
     "name": "stdout",
     "output_type": "stream",
     "text": [
      "   cell gene  sensitive_probablility\n",
      "0  C503   D0                0.185647\n",
      "1  C503   D1                0.930934\n",
      "2  C503   D2                0.771894\n",
      "3  C503   D3                0.153171\n",
      "4  C503   D4                0.856898\n",
      "number of cell-drug pairs 11670\n",
      "number of cell lines 504\n",
      "number of drugs 24\n",
      "missing cell-drug pairs = 24*504 - 11670 = 426\n"
     ]
    }
   ],
   "source": [
    "sensitive_pd = pd.read_csv(PATH + \"sensitive_truth.txt\", header=None, names=[\"cell\", \"gene\", \"sensitive_probablility\"], delimiter=\"\\t\")\n",
    "print sensitive_pd.head()\n",
    "print \"number of cell-drug pairs\", len(sensitive_pd)\n",
    "print \"number of cell lines\", len(set(sensitive_pd.cell))\n",
    "print \"number of drugs\", len(set(sensitive_pd.gene))\n",
    "print \"missing cell-drug pairs = {0}*{1} - {2} = {3}\".format(24, 504, len(sensitive_pd), 24*504-len(sensitive_pd)) "
   ]
  },
  {
   "cell_type": "code",
   "execution_count": null,
   "metadata": {
    "collapsed": true
   },
   "outputs": [],
   "source": []
  }
 ],
 "metadata": {
  "kernelspec": {
   "display_name": "Python 2",
   "language": "python",
   "name": "python2"
  },
  "language_info": {
   "codemirror_mode": {
    "name": "ipython",
    "version": 2
   },
   "file_extension": ".py",
   "mimetype": "text/x-python",
   "name": "python",
   "nbconvert_exporter": "python",
   "pygments_lexer": "ipython2",
   "version": "2.7.12"
  }
 },
 "nbformat": 4,
 "nbformat_minor": 0
}
