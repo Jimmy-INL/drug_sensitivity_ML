{
 "cells": [
  {
   "cell_type": "code",
   "execution_count": 2,
   "metadata": {
    "collapsed": true
   },
   "outputs": [],
   "source": [
    "import pandas as pd\n",
    "import numpy as np"
   ]
  },
  {
   "cell_type": "code",
   "execution_count": 7,
   "metadata": {
    "collapsed": true
   },
   "outputs": [],
   "source": [
    "PATH = \"../psl/data/first_model/\""
   ]
  },
  {
   "cell_type": "code",
   "execution_count": 33,
   "metadata": {
    "collapsed": false
   },
   "outputs": [
    {
     "name": "stdout",
     "output_type": "stream",
     "text": [
      "  cell_key                                 cell_name\n",
      "0       C0  MEG01_HAEMATOPOIETIC_AND_LYMPHOID_TISSUE\n",
      "1       C1                              PC3_PROSTATE\n",
      "2       C2                                SW900_LUNG\n",
      "3       C3                             NCIH2030_LUNG\n",
      "4       C4                             PK59_PANCREAS\n",
      "number of cell lines 504\n"
     ]
    }
   ],
   "source": [
    "cell_pd = pd.read_csv(PATH + \"cell.txt\", header=None, names=[\"cell_key\", \"cell_name\"], delimiter=\"\\t\")\n",
    "print cell_pd.head()\n",
    "print \"number of cell lines\", len(cell_pd.cell_key)"
   ]
  },
  {
   "cell_type": "code",
   "execution_count": 34,
   "metadata": {
    "collapsed": false
   },
   "outputs": [
    {
     "name": "stdout",
     "output_type": "stream",
     "text": [
      "  gene_key gene_name\n",
      "0      GG0      TAP1\n",
      "1      GG1  C18ORF56\n",
      "2      GG2      MDM2\n",
      "3      GG3    PDGFRA\n",
      "4      GG4      ARAF\n",
      "number of genes 152\n"
     ]
    }
   ],
   "source": [
    "gene_pd = pd.read_csv(PATH + \"gene.txt\", header=None, names=[\"gene_key\", \"gene_name\"], delimiter=\"\\t\")\n",
    "print gene_pd.head()\n",
    "print \"number of genes\", len(gene_pd.gene_key)"
   ]
  },
  {
   "cell_type": "code",
   "execution_count": 35,
   "metadata": {
    "collapsed": false
   },
   "outputs": [
    {
     "name": "stdout",
     "output_type": "stream",
     "text": [
      "  drug_key   drug_name\n",
      "0       D0    Nutlin-3\n",
      "1       D1   Nilotinib\n",
      "2       D2      RAF265\n",
      "3       D3  PHA-665752\n",
      "4       D4  PD-0325901\n",
      "number of drugs 24\n"
     ]
    }
   ],
   "source": [
    "drug_pd = pd.read_csv(PATH + \"drug.txt\", header=None, names=[\"drug_key\", \"drug_name\"], delimiter=\"\\t\")\n",
    "print drug_pd.head()\n",
    "print \"number of drugs\", len(drug_pd.drug_key)"
   ]
  },
  {
   "cell_type": "code",
   "execution_count": 36,
   "metadata": {
    "collapsed": false
   },
   "outputs": [
    {
     "name": "stdout",
     "output_type": "stream",
     "text": [
      "  drug_key   drug_name\n",
      "0       D0    Nutlin-3\n",
      "1       D1   Nilotinib\n",
      "2       D2      RAF265\n",
      "3       D3  PHA-665752\n",
      "4       D4  PD-0325901\n",
      "number of drug-gene paris:  246\n"
     ]
    }
   ],
   "source": [
    "target_pd = pd.read_csv(PATH + \"target.txt\", header=None, names=[\"drug\", \"gene\"], delimiter=\"\\t\")\n",
    "print drug_pd.head()\n",
    "print \"number of drug-gene paris: \", len(target_pd)"
   ]
  },
  {
   "cell_type": "code",
   "execution_count": 42,
   "metadata": {
    "collapsed": false
   },
   "outputs": [
    {
     "name": "stdout",
     "output_type": "stream",
     "text": [
      "  cell gene  active_probablility\n",
      "0   C0   G0             0.684851\n",
      "1   C0  G68             0.886079\n",
      "2   C0   G4             0.727710\n",
      "3   C0  G41             0.082385\n",
      "4   C0   G6             0.801418\n",
      "number of cell-gene pairs:  69722\n",
      "number of cell lines 491\n"
     ]
    }
   ],
   "source": [
    "active_pd = pd.read_csv(PATH + \"active.txt\", header=None, names=[\"cell\", \"gene\", \"active_probablility\"], delimiter=\"\\t\")\n",
    "print active_pd.head()\n",
    "print \"number of cell-gene pairs: \",len(active_pd)\n",
    "print \"number of cell lines\", len(set(active_pd.cell))"
   ]
  },
  {
   "cell_type": "code",
   "execution_count": 43,
   "metadata": {
    "collapsed": false
   },
   "outputs": [
    {
     "name": "stdout",
     "output_type": "stream",
     "text": [
      "   cell  gene  essential_probablility\n",
      "0  C377    G7                0.571456\n",
      "1  C377   G12                0.094075\n",
      "2  C377   G13                0.122279\n",
      "3  C377   G15                0.603634\n",
      "4  C377  G110                0.096915\n",
      "number of cell-gene pairs 9163\n",
      "number of cell lines 119\n"
     ]
    }
   ],
   "source": [
    "essential_pd = pd.read_csv(PATH + \"essential.txt\", header=None, names=[\"cell\", \"gene\", \"essential_probablility\"], delimiter=\"\\t\")\n",
    "print essential_pd.head()\n",
    "print \"number of cell-gene pairs\", len(essential_pd)\n",
    "print \"number of cell lines\", len(set(essential_pd.cell))"
   ]
  },
  {
   "cell_type": "code",
   "execution_count": 50,
   "metadata": {
    "collapsed": false
   },
   "outputs": [
    {
     "name": "stdout",
     "output_type": "stream",
     "text": [
      "  cell gene  sensitive_probablility\n",
      "0   C0   D0                0.185647\n",
      "1   C0   D1                0.930934\n",
      "2   C0   D2                0.771894\n",
      "3   C0   D3                0.153171\n",
      "4   C0   D4                0.856898\n",
      "number of cell-drug pairs 11670\n",
      "number of cell lines 504\n",
      "number of drugs 24\n",
      "missing cell-drug pairs = 24*504 - 11670 = 426\n"
     ]
    }
   ],
   "source": [
    "sensitive_pd = pd.read_csv(PATH + \"sensitive_truth.txt\", header=None, names=[\"cell\", \"gene\", \"sensitive_probablility\"], delimiter=\"\\t\")\n",
    "print sensitive_pd.head()\n",
    "print \"number of cell-drug pairs\", len(sensitive_pd)\n",
    "print \"number of cell lines\", len(set(sensitive_pd.cell))\n",
    "print \"number of drugs\", len(set(sensitive_pd.gene))\n",
    "print \"missing cell-drug pairs = {0}*{1} - {2} = {3}\".format(24, 504, len(sensitive_pd), 24*504-len(sensitive_pd)) "
   ]
  },
  {
   "cell_type": "code",
   "execution_count": null,
   "metadata": {
    "collapsed": true
   },
   "outputs": [],
   "source": []
  }
 ],
 "metadata": {
  "kernelspec": {
   "display_name": "Python 2",
   "language": "python",
   "name": "python2"
  },
  "language_info": {
   "codemirror_mode": {
    "name": "ipython",
    "version": 2
   },
   "file_extension": ".py",
   "mimetype": "text/x-python",
   "name": "python",
   "nbconvert_exporter": "python",
   "pygments_lexer": "ipython2",
   "version": "2.7.12"
  }
 },
 "nbformat": 4,
 "nbformat_minor": 0
}
