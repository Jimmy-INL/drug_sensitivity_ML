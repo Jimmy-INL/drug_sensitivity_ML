{
 "cells": [
  {
   "cell_type": "code",
   "execution_count": 92,
   "metadata": {
    "collapsed": true
   },
   "outputs": [],
   "source": [
    "import pandas as pd\n",
    "import numpy as np\n",
    "from matplotlib import pyplot as plt\n",
    "\n",
    "%matplotlib inline"
   ]
  },
  {
   "cell_type": "code",
   "execution_count": 39,
   "metadata": {
    "collapsed": false
   },
   "outputs": [],
   "source": [
    "tissue_df = pd.read_csv(\"../psl/data/master_data_percent/is_tissue.txt\", \n",
    "                        delimiter=\"\\t\", header=None)\n",
    "sensitive_df = pd.read_csv(\"../psl/data/master_data_percent/essential_overlap/sensitive_truth.txt\",\n",
    "                          delimiter=\"\\t\", header=None)"
   ]
  },
  {
   "cell_type": "code",
   "execution_count": 119,
   "metadata": {
    "collapsed": false
   },
   "outputs": [
    {
     "data": {
      "image/png": "[encoded data removed]",
      "text/plain": [
       "<matplotlib.figure.Figure at 0x114672c50>"
      ]
     },
     "metadata": {},
     "output_type": "display_data"
    },
    {
     "name": "stdout",
     "output_type": "stream",
     "text": [
      "** some tissues have 0 standard deviation because there is only one cell in that tissue type\n"
     ]
    }
   ],
   "source": [
    "# average sensitivity to all drugs\n",
    "def process_data(df, tissue_df):\n",
    "    drugs = set(df[1])\n",
    "    cells = set(df[0])\n",
    "    rows = []\n",
    "    for cell in set(cells):\n",
    "        tissue = tissue_df[tissue_df[0]==cell].iloc[0][1]\n",
    "        rows.append({\"tissue\": tissue,\n",
    "                     \"sensitivity\": np.mean(df[df[0]==cell][2])})\n",
    "    df2 = pd.DataFrame(rows, columns=[\"tissue\", \"sensitivity\"])\n",
    "    rows = []\n",
    "    tissues = set(df2[\"tissue\"])\n",
    "    for tissue in tissues:\n",
    "        rows.append({\"tissue\": tissue,\n",
    "                    \"mean\": np.mean(df2[df2[\"tissue\"]==tissue][\"sensitivity\"]),\n",
    "                    \"std\": np.std(df2[df2[\"tissue\"]==tissue][\"sensitivity\"])})\n",
    "    \n",
    "    result_df = pd.DataFrame(rows, columns=[\"tissue\", \"mean\", \"std\"])\n",
    "    result_df.set_index(\"tissue\", inplace=True)\n",
    "    return result_df.transpose()\n",
    "\n",
    "\n",
    "df = process_data(sensitive_df, tissue_df)\n",
    "\n",
    "plt.figure(1, figsize=(10,6))\n",
    "df.loc['mean'].plot.bar(yerr=df.loc[\"std\"], rot=0, color=\"pink\", fontsize=13)\n",
    "plt.ylabel(\"mean sensitivity\", fontsize=15)\n",
    "plt.xlabel(\"Tissues\", fontsize=15)\n",
    "plt.title(\"Mean sensitivity across tissues\", fontsize=15)\n",
    "plt.show()\n",
    "print \"** some tissues have 0 standard deviation because there is only one cell in that tissue type\""
   ]
  },
  {
   "cell_type": "code",
   "execution_count": 21,
   "metadata": {
    "collapsed": true
   },
   "outputs": [],
   "source": [
    "# sensitivity to individual drugs"
   ]
  },
  {
   "cell_type": "code",
   "execution_count": null,
   "metadata": {
    "collapsed": true
   },
   "outputs": [],
   "source": []
  }
 ],
 "metadata": {
  "kernelspec": {
   "display_name": "Python 2",
   "language": "python",
   "name": "python2"
  },
  "language_info": {
   "codemirror_mode": {
    "name": "ipython",
    "version": 2
   },
   "file_extension": ".py",
   "mimetype": "text/x-python",
   "name": "python",
   "nbconvert_exporter": "python",
   "pygments_lexer": "ipython2",
   "version": "2.7.10"
  }
 },
 "nbformat": 4,
 "nbformat_minor": 1
}
