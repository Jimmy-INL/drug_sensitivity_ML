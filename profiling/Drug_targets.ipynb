{
 "cells": [
  {
   "cell_type": "code",
   "execution_count": 2,
   "metadata": {
    "collapsed": true
   },
   "outputs": [],
   "source": [
    "import pandas as pd\n",
    "import numpy as np"
   ]
  },
  {
   "cell_type": "code",
   "execution_count": 4,
   "metadata": {
    "collapsed": true
   },
   "outputs": [],
   "source": [
    "drug_file = \"../data/CCLE_NP24.2009_profiling_2012.02.20.csv\""
   ]
  },
  {
   "cell_type": "code",
   "execution_count": 8,
   "metadata": {
    "collapsed": false
   },
   "outputs": [
    {
     "name": "stdout",
     "output_type": "stream",
     "text": [
      "                                            Target(s)  \\\n",
      "0                                                EGFR   \n",
      "1                                          EGFR, HER2   \n",
      "2                                               c-MET   \n",
      "3                                          c-MET, ALK   \n",
      "4                                                 ALK   \n",
      "5     Abl, EGFR, Flt3, C-KIT, RET, VEGFR-1, KDR, FLT4   \n",
      "6                                         Abl/Bcr-Abl   \n",
      "7                              Src, Abl/Bcr-Abl, EGFR   \n",
      "8   Flt3, C-KIT, PDGFRbeta, RET, Raf kinase B, Raf...   \n",
      "9                EGFR, FGFR1, PDGFRbeta, VEGFR-1, KDR   \n",
      "10                                             CDK4/6   \n",
      "11                                             IGF-1R   \n",
      "12                                  Raf kinase B, KDR   \n",
      "13                                               RAF    \n",
      "14                                                MEK   \n",
      "15                                                MEK   \n",
      "16                                               MDM2   \n",
      "17                                                IAP   \n",
      "18                                              HSP90   \n",
      "19                                    Gamma Secretase   \n",
      "20                                               HDAC   \n",
      "21                                      beta-tubulin    \n",
      "22                                    Topoisomerase I   \n",
      "23                                    Topoisomerase I   \n",
      "\n",
      "                                Mechanism of action  \n",
      "0                                   EGFR  Inhibitor  \n",
      "1                           EGFR and HER2 Inhibitor  \n",
      "2                                   c-MET Inhibitor  \n",
      "3                           c-MET and ALK Inhibitor  \n",
      "4                                     ALK Inhibitor  \n",
      "5                            Multi-kinase inhibitor  \n",
      "6                                     Abl Inhibitor  \n",
      "7                             Src and Abl inhibitor  \n",
      "8                            Multi-kinase inhibitor  \n",
      "9                            Multi-kinase inhibitor  \n",
      "10                                 CDK4/6 Inhibitor  \n",
      "11                                 IGF-1R Inhibitor  \n",
      "12                   Raf kinase B and KDR Inhibitor  \n",
      "13                           Raf kinase B Inhibitor  \n",
      "14                          MEK1 and MEK2 Inhibitor  \n",
      "15                          MEK1 and MEK2 Inhibitor  \n",
      "16                                   MDM2 Inhibitor  \n",
      "17  Inhibitor of Apoptosis Proteins (IAP) Inhibitor  \n",
      "18          Heat Shock Protein 90 (hsp90) Inhibitor  \n",
      "19                        gamma-Secretase Inhibitor  \n",
      "20             Histone Deacetylase (HDAC) Inhibitor  \n",
      "21                   Microtubule-Stabilizing Agents  \n",
      "22                    DNA Topoisomerase I Inhibitor  \n",
      "23                    DNA Topoisomerase I Inhibitor  \n"
     ]
    }
   ],
   "source": [
    "df = pd.read_csv(drug_file)\n",
    "print df[[\"Target(s)\", \"Mechanism of action\"]]"
   ]
  },
  {
   "cell_type": "code",
   "execution_count": null,
   "metadata": {
    "collapsed": true
   },
   "outputs": [],
   "source": []
  }
 ],
 "metadata": {
  "kernelspec": {
   "display_name": "Python 2",
   "language": "python",
   "name": "python2"
  },
  "language_info": {
   "codemirror_mode": {
    "name": "ipython",
    "version": 2
   },
   "file_extension": ".py",
   "mimetype": "text/x-python",
   "name": "python",
   "nbconvert_exporter": "python",
   "pygments_lexer": "ipython2",
   "version": "2.7.12"
  }
 },
 "nbformat": 4,
 "nbformat_minor": 0
}
